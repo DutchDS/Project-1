{
 "cells": [
  {
   "cell_type": "code",
   "execution_count": 2,
   "metadata": {},
   "outputs": [],
   "source": [
    "import json\n",
    "import pandas as pd\n",
    "import matplotlib.pyplot as plt\n",
    "import numpy as np\n",
    "import scipy.stats as stats"
   ]
  },
  {
   "cell_type": "code",
   "execution_count": 3,
   "metadata": {},
   "outputs": [],
   "source": [
    "# Name of the CSV file\n",
    "file = 'yelp_academic_dataset_user.json'\n",
    "df = pd.read_json(file, lines = True)\n",
    "df['name'] = df['name'].str.lower()\n",
    "\n",
    "# Name of the CSV file\n",
    "gender = 'gender names.csv'\n",
    "gender = pd.read_csv(gender)\n",
    "\n",
    "# Rename columns for readability\n",
    "gender = gender.rename(columns={\"first_name\": \"name\"})\n"
   ]
  },
  {
   "cell_type": "code",
   "execution_count": 4,
   "metadata": {},
   "outputs": [],
   "source": [
    "merge_table = pd.merge(df, gender, on=\"name\", how=\"left\")"
   ]
  },
  {
   "cell_type": "code",
   "execution_count": 72,
   "metadata": {},
   "outputs": [],
   "source": [
    "# merge_table.to_csv(r'C:\\Users\\mrabier\\Dropbox\\Data API projects\\Census block output\\merge_table.csv')"
   ]
  },
  {
   "cell_type": "code",
   "execution_count": 5,
   "metadata": {},
   "outputs": [
    {
     "data": {
      "text/html": [
       "<div>\n",
       "<style scoped>\n",
       "    .dataframe tbody tr th:only-of-type {\n",
       "        vertical-align: middle;\n",
       "    }\n",
       "\n",
       "    .dataframe tbody tr th {\n",
       "        vertical-align: top;\n",
       "    }\n",
       "\n",
       "    .dataframe thead th {\n",
       "        text-align: right;\n",
       "    }\n",
       "</style>\n",
       "<table border=\"1\" class=\"dataframe\">\n",
       "  <thead>\n",
       "    <tr style=\"text-align: right;\">\n",
       "      <th></th>\n",
       "      <th>yelping_since</th>\n",
       "      <th>votes</th>\n",
       "      <th>review_count</th>\n",
       "      <th>name</th>\n",
       "      <th>user_id</th>\n",
       "      <th>friends</th>\n",
       "      <th>fans</th>\n",
       "      <th>average_stars</th>\n",
       "      <th>type</th>\n",
       "      <th>compliments</th>\n",
       "      <th>elite</th>\n",
       "      <th>nameprimary</th>\n",
       "      <th>gender</th>\n",
       "      <th>count</th>\n",
       "    </tr>\n",
       "  </thead>\n",
       "  <tbody>\n",
       "    <tr>\n",
       "      <th>0</th>\n",
       "      <td>2004-10</td>\n",
       "      <td>{'funny': 166, 'useful': 278, 'cool': 245}</td>\n",
       "      <td>108</td>\n",
       "      <td>russel</td>\n",
       "      <td>18kPq7GPye-YQ3LyKyAZPw</td>\n",
       "      <td>[rpOyqD_893cqmDAtJLbdog, 4U9kSBLuBDU391x6bxU-Y...</td>\n",
       "      <td>69</td>\n",
       "      <td>4.14</td>\n",
       "      <td>user</td>\n",
       "      <td>{'profile': 8, 'cute': 15, 'funny': 11, 'plain...</td>\n",
       "      <td>[2005, 2006]</td>\n",
       "      <td>RUSSEL</td>\n",
       "      <td>Male</td>\n",
       "      <td>1.0</td>\n",
       "    </tr>\n",
       "    <tr>\n",
       "      <th>1</th>\n",
       "      <td>2004-10</td>\n",
       "      <td>{'funny': 6849, 'useful': 12642, 'cool': 9837}</td>\n",
       "      <td>1233</td>\n",
       "      <td>jeremy</td>\n",
       "      <td>rpOyqD_893cqmDAtJLbdog</td>\n",
       "      <td>[18kPq7GPye-YQ3LyKyAZPw, 4U9kSBLuBDU391x6bxU-Y...</td>\n",
       "      <td>1012</td>\n",
       "      <td>3.64</td>\n",
       "      <td>user</td>\n",
       "      <td>{'profile': 110, 'cute': 209, 'funny': 561, 'p...</td>\n",
       "      <td>[2005, 2006, 2007, 2008, 2009, 2010, 2011, 201...</td>\n",
       "      <td>JEREMY</td>\n",
       "      <td>Male</td>\n",
       "      <td>1.0</td>\n",
       "    </tr>\n",
       "    <tr>\n",
       "      <th>2</th>\n",
       "      <td>2004-10</td>\n",
       "      <td>{'funny': 907, 'useful': 1445, 'cool': 727}</td>\n",
       "      <td>442</td>\n",
       "      <td>michael</td>\n",
       "      <td>4U9kSBLuBDU391x6bxU-YA</td>\n",
       "      <td>[18kPq7GPye-YQ3LyKyAZPw, rpOyqD_893cqmDAtJLbdo...</td>\n",
       "      <td>93</td>\n",
       "      <td>3.59</td>\n",
       "      <td>user</td>\n",
       "      <td>{'profile': 9, 'cute': 23, 'funny': 122, 'plai...</td>\n",
       "      <td>[2005, 2006, 2007, 2008, 2009, 2010, 2011, 201...</td>\n",
       "      <td>MICHAEL</td>\n",
       "      <td>Male</td>\n",
       "      <td>1.0</td>\n",
       "    </tr>\n",
       "    <tr>\n",
       "      <th>3</th>\n",
       "      <td>2004-10</td>\n",
       "      <td>{'funny': 1, 'useful': 11, 'cool': 5}</td>\n",
       "      <td>11</td>\n",
       "      <td>ken</td>\n",
       "      <td>fHtTaujcyKvXglE33Z5yIw</td>\n",
       "      <td>[18kPq7GPye-YQ3LyKyAZPw, rpOyqD_893cqmDAtJLbdo...</td>\n",
       "      <td>2</td>\n",
       "      <td>4.64</td>\n",
       "      <td>user</td>\n",
       "      <td>{'cute': 2}</td>\n",
       "      <td>[]</td>\n",
       "      <td>KEN</td>\n",
       "      <td>Male</td>\n",
       "      <td>1.0</td>\n",
       "    </tr>\n",
       "    <tr>\n",
       "      <th>4</th>\n",
       "      <td>2004-10</td>\n",
       "      <td>{'funny': 10, 'useful': 34, 'cool': 11}</td>\n",
       "      <td>66</td>\n",
       "      <td>katherine</td>\n",
       "      <td>SIBCL7HBkrP4llolm4SC2A</td>\n",
       "      <td>[rpOyqD_893cqmDAtJLbdog, HDQixQ-WZEV0LVPJlIGQe...</td>\n",
       "      <td>3</td>\n",
       "      <td>3.80</td>\n",
       "      <td>user</td>\n",
       "      <td>{'cute': 2, 'plain': 2, 'writer': 2, 'note': 1...</td>\n",
       "      <td>[2005]</td>\n",
       "      <td>KATHERINE</td>\n",
       "      <td>Female</td>\n",
       "      <td>1.0</td>\n",
       "    </tr>\n",
       "  </tbody>\n",
       "</table>\n",
       "</div>"
      ],
      "text/plain": [
       "  yelping_since                                           votes  review_count  \\\n",
       "0       2004-10      {'funny': 166, 'useful': 278, 'cool': 245}           108   \n",
       "1       2004-10  {'funny': 6849, 'useful': 12642, 'cool': 9837}          1233   \n",
       "2       2004-10     {'funny': 907, 'useful': 1445, 'cool': 727}           442   \n",
       "3       2004-10           {'funny': 1, 'useful': 11, 'cool': 5}            11   \n",
       "4       2004-10         {'funny': 10, 'useful': 34, 'cool': 11}            66   \n",
       "\n",
       "        name                 user_id  \\\n",
       "0     russel  18kPq7GPye-YQ3LyKyAZPw   \n",
       "1     jeremy  rpOyqD_893cqmDAtJLbdog   \n",
       "2    michael  4U9kSBLuBDU391x6bxU-YA   \n",
       "3        ken  fHtTaujcyKvXglE33Z5yIw   \n",
       "4  katherine  SIBCL7HBkrP4llolm4SC2A   \n",
       "\n",
       "                                             friends  fans  average_stars  \\\n",
       "0  [rpOyqD_893cqmDAtJLbdog, 4U9kSBLuBDU391x6bxU-Y...    69           4.14   \n",
       "1  [18kPq7GPye-YQ3LyKyAZPw, 4U9kSBLuBDU391x6bxU-Y...  1012           3.64   \n",
       "2  [18kPq7GPye-YQ3LyKyAZPw, rpOyqD_893cqmDAtJLbdo...    93           3.59   \n",
       "3  [18kPq7GPye-YQ3LyKyAZPw, rpOyqD_893cqmDAtJLbdo...     2           4.64   \n",
       "4  [rpOyqD_893cqmDAtJLbdog, HDQixQ-WZEV0LVPJlIGQe...     3           3.80   \n",
       "\n",
       "   type                                        compliments  \\\n",
       "0  user  {'profile': 8, 'cute': 15, 'funny': 11, 'plain...   \n",
       "1  user  {'profile': 110, 'cute': 209, 'funny': 561, 'p...   \n",
       "2  user  {'profile': 9, 'cute': 23, 'funny': 122, 'plai...   \n",
       "3  user                                        {'cute': 2}   \n",
       "4  user  {'cute': 2, 'plain': 2, 'writer': 2, 'note': 1...   \n",
       "\n",
       "                                               elite nameprimary  gender  \\\n",
       "0                                       [2005, 2006]      RUSSEL    Male   \n",
       "1  [2005, 2006, 2007, 2008, 2009, 2010, 2011, 201...      JEREMY    Male   \n",
       "2  [2005, 2006, 2007, 2008, 2009, 2010, 2011, 201...     MICHAEL    Male   \n",
       "3                                                 []         KEN    Male   \n",
       "4                                             [2005]   KATHERINE  Female   \n",
       "\n",
       "   count  \n",
       "0    1.0  \n",
       "1    1.0  \n",
       "2    1.0  \n",
       "3    1.0  \n",
       "4    1.0  "
      ]
     },
     "execution_count": 5,
     "metadata": {},
     "output_type": "execute_result"
    }
   ],
   "source": [
    "merge_table.head()"
   ]
  },
  {
   "cell_type": "code",
   "execution_count": 95,
   "metadata": {},
   "outputs": [],
   "source": [
    "# funny = [i[\"funny\"] for i in merge_table[\"votes\"]]"
   ]
  },
  {
   "cell_type": "code",
   "execution_count": 6,
   "metadata": {},
   "outputs": [],
   "source": [
    "funny = []\n",
    "useful = []\n",
    "cool = []\n",
    "\n",
    "length = len(merge_table[\"votes\"])\n",
    "\n",
    "for i in range(0,length):\n",
    "    fvotes = merge_table[\"votes\"][i][\"funny\"]\n",
    "    funny.append(fvotes)\n",
    "    uvotes = merge_table[\"votes\"][i][\"useful\"]\n",
    "    useful.append(uvotes)\n",
    "    cvotes = merge_table[\"votes\"][i][\"cool\"]\n",
    "    cool.append(cvotes)"
   ]
  },
  {
   "cell_type": "code",
   "execution_count": 7,
   "metadata": {},
   "outputs": [],
   "source": [
    "# create dataframe \n",
    "\n",
    "gender_dict = {\n",
    "    \"gender\": merge_table[\"gender\"],\n",
    "    \"review counts\": merge_table[\"review_count\"],\n",
    "    \"fans\": merge_table[\"fans\"],\n",
    "    \"average stars\": merge_table[\"average_stars\"],\n",
    "    \"user_id\": merge_table[\"user_id\"],\n",
    "    \"funny votes\": funny,\n",
    "    \"useful votes\": useful,\n",
    "    \"cool votes\": cool\n",
    "}\n",
    "\n",
    "gender_data = pd.DataFrame(gender_dict)\n",
    "gender_data.head()\n",
    "\n",
    "gender_data = gender_data[(gender_data[\"gender\"] == \"Male\")|(gender_data[\"gender\"] == \"Female\")]\n",
    "gender_data\n",
    "gender_data = gender_data[(gender_data[\"review counts\"] > 0)]\n"
   ]
  },
  {
   "cell_type": "code",
   "execution_count": 8,
   "metadata": {},
   "outputs": [
    {
     "data": {
      "text/plain": [
       "0         0.638889\n",
       "1         0.820762\n",
       "2         0.210407\n",
       "3         0.181818\n",
       "4         0.045455\n",
       "            ...   \n",
       "366709    0.200000\n",
       "366710    0.000000\n",
       "366712    0.000000\n",
       "366713    0.000000\n",
       "366714    0.000000\n",
       "Name: fans_scaled, Length: 297429, dtype: float64"
      ]
     },
     "execution_count": 8,
     "metadata": {},
     "output_type": "execute_result"
    }
   ],
   "source": [
    "#scale fans by the number of reviews:\n",
    "gender_data[\"fans_scaled\"] = gender_data[\"fans\"]/gender_data[\"review counts\"]\n",
    "gender_data[\"fans_scaled\"]"
   ]
  },
  {
   "cell_type": "code",
   "execution_count": 9,
   "metadata": {},
   "outputs": [],
   "source": [
    "#scale funny by the number of reviews:\n",
    "gender_data[\"funny_scaled\"] = gender_data[\"funny votes\"]/gender_data[\"review counts\"]"
   ]
  },
  {
   "cell_type": "code",
   "execution_count": 10,
   "metadata": {},
   "outputs": [],
   "source": [
    "#scale funny by the number of reviews:\n",
    "gender_data[\"useful_scaled\"] = gender_data[\"useful votes\"]/gender_data[\"review counts\"]"
   ]
  },
  {
   "cell_type": "code",
   "execution_count": 11,
   "metadata": {},
   "outputs": [
    {
     "data": {
      "text/plain": [
       "pandas.core.series.Series"
      ]
     },
     "execution_count": 11,
     "metadata": {},
     "output_type": "execute_result"
    }
   ],
   "source": [
    "#scale funny by the number of reviews:\n",
    "gender_data[\"cool_scaled\"] = gender_data[\"cool votes\"]/gender_data[\"review counts\"]\n",
    "type(gender_data[\"cool votes\"])"
   ]
  },
  {
   "cell_type": "code",
   "execution_count": 12,
   "metadata": {},
   "outputs": [
    {
     "data": {
      "text/html": [
       "<div>\n",
       "<style scoped>\n",
       "    .dataframe tbody tr th:only-of-type {\n",
       "        vertical-align: middle;\n",
       "    }\n",
       "\n",
       "    .dataframe tbody tr th {\n",
       "        vertical-align: top;\n",
       "    }\n",
       "\n",
       "    .dataframe thead th {\n",
       "        text-align: right;\n",
       "    }\n",
       "</style>\n",
       "<table border=\"1\" class=\"dataframe\">\n",
       "  <thead>\n",
       "    <tr style=\"text-align: right;\">\n",
       "      <th></th>\n",
       "      <th>review counts</th>\n",
       "      <th>fans</th>\n",
       "      <th>average stars</th>\n",
       "      <th>funny votes</th>\n",
       "      <th>useful votes</th>\n",
       "      <th>cool votes</th>\n",
       "      <th>fans_scaled</th>\n",
       "      <th>funny_scaled</th>\n",
       "      <th>useful_scaled</th>\n",
       "      <th>cool_scaled</th>\n",
       "    </tr>\n",
       "  </thead>\n",
       "  <tbody>\n",
       "    <tr>\n",
       "      <th>count</th>\n",
       "      <td>297429.000000</td>\n",
       "      <td>297429.000000</td>\n",
       "      <td>297429.000000</td>\n",
       "      <td>297429.000000</td>\n",
       "      <td>297429.000000</td>\n",
       "      <td>297429.000000</td>\n",
       "      <td>297429.000000</td>\n",
       "      <td>297429.000000</td>\n",
       "      <td>297429.000000</td>\n",
       "      <td>297429.000000</td>\n",
       "    </tr>\n",
       "    <tr>\n",
       "      <th>mean</th>\n",
       "      <td>32.589183</td>\n",
       "      <td>1.629818</td>\n",
       "      <td>3.736903</td>\n",
       "      <td>30.614469</td>\n",
       "      <td>60.586103</td>\n",
       "      <td>34.508972</td>\n",
       "      <td>0.035268</td>\n",
       "      <td>0.340860</td>\n",
       "      <td>1.094153</td>\n",
       "      <td>0.354769</td>\n",
       "    </tr>\n",
       "    <tr>\n",
       "      <th>std</th>\n",
       "      <td>96.669501</td>\n",
       "      <td>11.951882</td>\n",
       "      <td>1.027204</td>\n",
       "      <td>310.513783</td>\n",
       "      <td>417.313395</td>\n",
       "      <td>345.549774</td>\n",
       "      <td>0.262037</td>\n",
       "      <td>1.016050</td>\n",
       "      <td>1.893806</td>\n",
       "      <td>0.908951</td>\n",
       "    </tr>\n",
       "    <tr>\n",
       "      <th>min</th>\n",
       "      <td>1.000000</td>\n",
       "      <td>0.000000</td>\n",
       "      <td>0.000000</td>\n",
       "      <td>0.000000</td>\n",
       "      <td>0.000000</td>\n",
       "      <td>0.000000</td>\n",
       "      <td>0.000000</td>\n",
       "      <td>0.000000</td>\n",
       "      <td>0.000000</td>\n",
       "      <td>0.000000</td>\n",
       "    </tr>\n",
       "    <tr>\n",
       "      <th>25%</th>\n",
       "      <td>2.000000</td>\n",
       "      <td>0.000000</td>\n",
       "      <td>3.310000</td>\n",
       "      <td>0.000000</td>\n",
       "      <td>1.000000</td>\n",
       "      <td>0.000000</td>\n",
       "      <td>0.000000</td>\n",
       "      <td>0.000000</td>\n",
       "      <td>0.312500</td>\n",
       "      <td>0.000000</td>\n",
       "    </tr>\n",
       "    <tr>\n",
       "      <th>50%</th>\n",
       "      <td>6.000000</td>\n",
       "      <td>0.000000</td>\n",
       "      <td>3.880000</td>\n",
       "      <td>1.000000</td>\n",
       "      <td>5.000000</td>\n",
       "      <td>1.000000</td>\n",
       "      <td>0.000000</td>\n",
       "      <td>0.117647</td>\n",
       "      <td>0.800000</td>\n",
       "      <td>0.153846</td>\n",
       "    </tr>\n",
       "    <tr>\n",
       "      <th>75%</th>\n",
       "      <td>21.000000</td>\n",
       "      <td>1.000000</td>\n",
       "      <td>4.470000</td>\n",
       "      <td>6.000000</td>\n",
       "      <td>22.000000</td>\n",
       "      <td>6.000000</td>\n",
       "      <td>0.012174</td>\n",
       "      <td>0.400000</td>\n",
       "      <td>1.432432</td>\n",
       "      <td>0.428571</td>\n",
       "    </tr>\n",
       "    <tr>\n",
       "      <th>max</th>\n",
       "      <td>8843.000000</td>\n",
       "      <td>1298.000000</td>\n",
       "      <td>5.000000</td>\n",
       "      <td>32747.000000</td>\n",
       "      <td>36474.000000</td>\n",
       "      <td>32517.000000</td>\n",
       "      <td>36.500000</td>\n",
       "      <td>232.000000</td>\n",
       "      <td>459.000000</td>\n",
       "      <td>151.500000</td>\n",
       "    </tr>\n",
       "  </tbody>\n",
       "</table>\n",
       "</div>"
      ],
      "text/plain": [
       "       review counts           fans  average stars    funny votes  \\\n",
       "count  297429.000000  297429.000000  297429.000000  297429.000000   \n",
       "mean       32.589183       1.629818       3.736903      30.614469   \n",
       "std        96.669501      11.951882       1.027204     310.513783   \n",
       "min         1.000000       0.000000       0.000000       0.000000   \n",
       "25%         2.000000       0.000000       3.310000       0.000000   \n",
       "50%         6.000000       0.000000       3.880000       1.000000   \n",
       "75%        21.000000       1.000000       4.470000       6.000000   \n",
       "max      8843.000000    1298.000000       5.000000   32747.000000   \n",
       "\n",
       "        useful votes     cool votes    fans_scaled   funny_scaled  \\\n",
       "count  297429.000000  297429.000000  297429.000000  297429.000000   \n",
       "mean       60.586103      34.508972       0.035268       0.340860   \n",
       "std       417.313395     345.549774       0.262037       1.016050   \n",
       "min         0.000000       0.000000       0.000000       0.000000   \n",
       "25%         1.000000       0.000000       0.000000       0.000000   \n",
       "50%         5.000000       1.000000       0.000000       0.117647   \n",
       "75%        22.000000       6.000000       0.012174       0.400000   \n",
       "max     36474.000000   32517.000000      36.500000     232.000000   \n",
       "\n",
       "       useful_scaled    cool_scaled  \n",
       "count  297429.000000  297429.000000  \n",
       "mean        1.094153       0.354769  \n",
       "std         1.893806       0.908951  \n",
       "min         0.000000       0.000000  \n",
       "25%         0.312500       0.000000  \n",
       "50%         0.800000       0.153846  \n",
       "75%         1.432432       0.428571  \n",
       "max       459.000000     151.500000  "
      ]
     },
     "execution_count": 12,
     "metadata": {},
     "output_type": "execute_result"
    }
   ],
   "source": [
    "gender_data.describe()"
   ]
  },
  {
   "cell_type": "code",
   "execution_count": 13,
   "metadata": {},
   "outputs": [
    {
     "data": {
      "text/html": [
       "<div>\n",
       "<style scoped>\n",
       "    .dataframe tbody tr th:only-of-type {\n",
       "        vertical-align: middle;\n",
       "    }\n",
       "\n",
       "    .dataframe tbody tr th {\n",
       "        vertical-align: top;\n",
       "    }\n",
       "\n",
       "    .dataframe thead th {\n",
       "        text-align: right;\n",
       "    }\n",
       "</style>\n",
       "<table border=\"1\" class=\"dataframe\">\n",
       "  <thead>\n",
       "    <tr style=\"text-align: right;\">\n",
       "      <th></th>\n",
       "      <th>gender</th>\n",
       "      <th>review counts</th>\n",
       "      <th>fans</th>\n",
       "      <th>average stars</th>\n",
       "      <th>user_id</th>\n",
       "      <th>funny votes</th>\n",
       "      <th>useful votes</th>\n",
       "      <th>cool votes</th>\n",
       "      <th>fans_scaled</th>\n",
       "      <th>funny_scaled</th>\n",
       "      <th>useful_scaled</th>\n",
       "      <th>cool_scaled</th>\n",
       "    </tr>\n",
       "  </thead>\n",
       "  <tbody>\n",
       "    <tr>\n",
       "      <th>0</th>\n",
       "      <td>Male</td>\n",
       "      <td>108</td>\n",
       "      <td>69</td>\n",
       "      <td>4.14</td>\n",
       "      <td>18kPq7GPye-YQ3LyKyAZPw</td>\n",
       "      <td>166</td>\n",
       "      <td>278</td>\n",
       "      <td>245</td>\n",
       "      <td>0.638889</td>\n",
       "      <td>1.537037</td>\n",
       "      <td>2.574074</td>\n",
       "      <td>2.268519</td>\n",
       "    </tr>\n",
       "    <tr>\n",
       "      <th>1</th>\n",
       "      <td>Male</td>\n",
       "      <td>1233</td>\n",
       "      <td>1012</td>\n",
       "      <td>3.64</td>\n",
       "      <td>rpOyqD_893cqmDAtJLbdog</td>\n",
       "      <td>6849</td>\n",
       "      <td>12642</td>\n",
       "      <td>9837</td>\n",
       "      <td>0.820762</td>\n",
       "      <td>5.554745</td>\n",
       "      <td>10.253041</td>\n",
       "      <td>7.978102</td>\n",
       "    </tr>\n",
       "    <tr>\n",
       "      <th>2</th>\n",
       "      <td>Male</td>\n",
       "      <td>442</td>\n",
       "      <td>93</td>\n",
       "      <td>3.59</td>\n",
       "      <td>4U9kSBLuBDU391x6bxU-YA</td>\n",
       "      <td>907</td>\n",
       "      <td>1445</td>\n",
       "      <td>727</td>\n",
       "      <td>0.210407</td>\n",
       "      <td>2.052036</td>\n",
       "      <td>3.269231</td>\n",
       "      <td>1.644796</td>\n",
       "    </tr>\n",
       "    <tr>\n",
       "      <th>3</th>\n",
       "      <td>Male</td>\n",
       "      <td>11</td>\n",
       "      <td>2</td>\n",
       "      <td>4.64</td>\n",
       "      <td>fHtTaujcyKvXglE33Z5yIw</td>\n",
       "      <td>1</td>\n",
       "      <td>11</td>\n",
       "      <td>5</td>\n",
       "      <td>0.181818</td>\n",
       "      <td>0.090909</td>\n",
       "      <td>1.000000</td>\n",
       "      <td>0.454545</td>\n",
       "    </tr>\n",
       "    <tr>\n",
       "      <th>4</th>\n",
       "      <td>Female</td>\n",
       "      <td>66</td>\n",
       "      <td>3</td>\n",
       "      <td>3.80</td>\n",
       "      <td>SIBCL7HBkrP4llolm4SC2A</td>\n",
       "      <td>10</td>\n",
       "      <td>34</td>\n",
       "      <td>11</td>\n",
       "      <td>0.045455</td>\n",
       "      <td>0.151515</td>\n",
       "      <td>0.515152</td>\n",
       "      <td>0.166667</td>\n",
       "    </tr>\n",
       "    <tr>\n",
       "      <th>5</th>\n",
       "      <td>Female</td>\n",
       "      <td>1589</td>\n",
       "      <td>777</td>\n",
       "      <td>4.35</td>\n",
       "      <td>8J4IIYcqBlFch8T90N923A</td>\n",
       "      <td>12453</td>\n",
       "      <td>16940</td>\n",
       "      <td>16174</td>\n",
       "      <td>0.488987</td>\n",
       "      <td>7.837004</td>\n",
       "      <td>10.660793</td>\n",
       "      <td>10.178729</td>\n",
       "    </tr>\n",
       "    <tr>\n",
       "      <th>6</th>\n",
       "      <td>Male</td>\n",
       "      <td>170</td>\n",
       "      <td>7</td>\n",
       "      <td>3.52</td>\n",
       "      <td>wy6l_zUo7SN0qrvNRWgySw</td>\n",
       "      <td>35</td>\n",
       "      <td>86</td>\n",
       "      <td>43</td>\n",
       "      <td>0.041176</td>\n",
       "      <td>0.205882</td>\n",
       "      <td>0.505882</td>\n",
       "      <td>0.252941</td>\n",
       "    </tr>\n",
       "    <tr>\n",
       "      <th>8</th>\n",
       "      <td>Female</td>\n",
       "      <td>59</td>\n",
       "      <td>2</td>\n",
       "      <td>3.86</td>\n",
       "      <td>WPOKvkacSKHx_bIG1alFiA</td>\n",
       "      <td>25</td>\n",
       "      <td>118</td>\n",
       "      <td>30</td>\n",
       "      <td>0.033898</td>\n",
       "      <td>0.423729</td>\n",
       "      <td>2.000000</td>\n",
       "      <td>0.508475</td>\n",
       "    </tr>\n",
       "    <tr>\n",
       "      <th>11</th>\n",
       "      <td>Female</td>\n",
       "      <td>979</td>\n",
       "      <td>73</td>\n",
       "      <td>4.02</td>\n",
       "      <td>ZWOj6LmzwGvMDh-A85EOtA</td>\n",
       "      <td>1105</td>\n",
       "      <td>2381</td>\n",
       "      <td>1914</td>\n",
       "      <td>0.074566</td>\n",
       "      <td>1.128703</td>\n",
       "      <td>2.432074</td>\n",
       "      <td>1.955056</td>\n",
       "    </tr>\n",
       "    <tr>\n",
       "      <th>14</th>\n",
       "      <td>Female</td>\n",
       "      <td>129</td>\n",
       "      <td>11</td>\n",
       "      <td>4.00</td>\n",
       "      <td>LdS4fnqUebNW-MYd1-noKA</td>\n",
       "      <td>331</td>\n",
       "      <td>521</td>\n",
       "      <td>424</td>\n",
       "      <td>0.085271</td>\n",
       "      <td>2.565891</td>\n",
       "      <td>4.038760</td>\n",
       "      <td>3.286822</td>\n",
       "    </tr>\n",
       "  </tbody>\n",
       "</table>\n",
       "</div>"
      ],
      "text/plain": [
       "    gender  review counts  fans  average stars                 user_id  \\\n",
       "0     Male            108    69           4.14  18kPq7GPye-YQ3LyKyAZPw   \n",
       "1     Male           1233  1012           3.64  rpOyqD_893cqmDAtJLbdog   \n",
       "2     Male            442    93           3.59  4U9kSBLuBDU391x6bxU-YA   \n",
       "3     Male             11     2           4.64  fHtTaujcyKvXglE33Z5yIw   \n",
       "4   Female             66     3           3.80  SIBCL7HBkrP4llolm4SC2A   \n",
       "5   Female           1589   777           4.35  8J4IIYcqBlFch8T90N923A   \n",
       "6     Male            170     7           3.52  wy6l_zUo7SN0qrvNRWgySw   \n",
       "8   Female             59     2           3.86  WPOKvkacSKHx_bIG1alFiA   \n",
       "11  Female            979    73           4.02  ZWOj6LmzwGvMDh-A85EOtA   \n",
       "14  Female            129    11           4.00  LdS4fnqUebNW-MYd1-noKA   \n",
       "\n",
       "    funny votes  useful votes  cool votes  fans_scaled  funny_scaled  \\\n",
       "0           166           278         245     0.638889      1.537037   \n",
       "1          6849         12642        9837     0.820762      5.554745   \n",
       "2           907          1445         727     0.210407      2.052036   \n",
       "3             1            11           5     0.181818      0.090909   \n",
       "4            10            34          11     0.045455      0.151515   \n",
       "5         12453         16940       16174     0.488987      7.837004   \n",
       "6            35            86          43     0.041176      0.205882   \n",
       "8            25           118          30     0.033898      0.423729   \n",
       "11         1105          2381        1914     0.074566      1.128703   \n",
       "14          331           521         424     0.085271      2.565891   \n",
       "\n",
       "    useful_scaled  cool_scaled  \n",
       "0        2.574074     2.268519  \n",
       "1       10.253041     7.978102  \n",
       "2        3.269231     1.644796  \n",
       "3        1.000000     0.454545  \n",
       "4        0.515152     0.166667  \n",
       "5       10.660793    10.178729  \n",
       "6        0.505882     0.252941  \n",
       "8        2.000000     0.508475  \n",
       "11       2.432074     1.955056  \n",
       "14       4.038760     3.286822  "
      ]
     },
     "execution_count": 13,
     "metadata": {},
     "output_type": "execute_result"
    }
   ],
   "source": [
    "grouped_by_gender = gender_data.groupby(['gender'])\n",
    "grouped_by_gender.head()"
   ]
  },
  {
   "cell_type": "code",
   "execution_count": 14,
   "metadata": {},
   "outputs": [],
   "source": [
    "funny_votes_gender = grouped_by_gender[\"funny_scaled\"].mean()\n",
    "useful_votes_gender = grouped_by_gender[\"useful_scaled\"].mean()\n",
    "cool_votes_gender = grouped_by_gender[\"cool_scaled\"].mean()\n",
    "\n",
    "fans_gender = grouped_by_gender[\"fans_scaled\"].mean()\n",
    "stars_gender = grouped_by_gender[\"average stars\"].mean()\n",
    "\n",
    "total_reviews_gender = grouped_by_gender[\"review counts\"].mean()"
   ]
  },
  {
   "cell_type": "code",
   "execution_count": 15,
   "metadata": {},
   "outputs": [
    {
     "data": {
      "text/html": [
       "<div>\n",
       "<style scoped>\n",
       "    .dataframe tbody tr th:only-of-type {\n",
       "        vertical-align: middle;\n",
       "    }\n",
       "\n",
       "    .dataframe tbody tr th {\n",
       "        vertical-align: top;\n",
       "    }\n",
       "\n",
       "    .dataframe thead th {\n",
       "        text-align: right;\n",
       "    }\n",
       "</style>\n",
       "<table border=\"1\" class=\"dataframe\">\n",
       "  <thead>\n",
       "    <tr style=\"text-align: right;\">\n",
       "      <th></th>\n",
       "      <th>review counts</th>\n",
       "      <th>fans</th>\n",
       "      <th>average stars</th>\n",
       "      <th>funny votes</th>\n",
       "      <th>useful votes</th>\n",
       "      <th>cool votes</th>\n",
       "    </tr>\n",
       "    <tr>\n",
       "      <th>gender</th>\n",
       "      <th></th>\n",
       "      <th></th>\n",
       "      <th></th>\n",
       "      <th></th>\n",
       "      <th></th>\n",
       "      <th></th>\n",
       "    </tr>\n",
       "  </thead>\n",
       "  <tbody>\n",
       "    <tr>\n",
       "      <th>Female</th>\n",
       "      <td>34.630094</td>\n",
       "      <td>0.037245</td>\n",
       "      <td>3.770766</td>\n",
       "      <td>0.328994</td>\n",
       "      <td>1.121550</td>\n",
       "      <td>0.368004</td>\n",
       "    </tr>\n",
       "    <tr>\n",
       "      <th>Male</th>\n",
       "      <td>30.454563</td>\n",
       "      <td>0.033200</td>\n",
       "      <td>3.701486</td>\n",
       "      <td>0.353272</td>\n",
       "      <td>1.065497</td>\n",
       "      <td>0.340927</td>\n",
       "    </tr>\n",
       "  </tbody>\n",
       "</table>\n",
       "</div>"
      ],
      "text/plain": [
       "        review counts      fans  average stars  funny votes  useful votes  \\\n",
       "gender                                                                      \n",
       "Female      34.630094  0.037245       3.770766     0.328994      1.121550   \n",
       "Male        30.454563  0.033200       3.701486     0.353272      1.065497   \n",
       "\n",
       "        cool votes  \n",
       "gender              \n",
       "Female    0.368004  \n",
       "Male      0.340927  "
      ]
     },
     "execution_count": 15,
     "metadata": {},
     "output_type": "execute_result"
    }
   ],
   "source": [
    "gender_dict = {\n",
    "    \"review counts\": total_reviews_gender,\n",
    "    \"fans\": fans_gender,\n",
    "    \"average stars\": stars_gender,\n",
    "    \"funny votes\": funny_votes_gender,\n",
    "    \"useful votes\": useful_votes_gender,\n",
    "    \"cool votes\": cool_votes_gender\n",
    "}\n",
    "\n",
    "grouped_gender_data = pd.DataFrame(gender_dict)\n",
    "grouped_gender_data.head()"
   ]
  },
  {
   "cell_type": "code",
   "execution_count": 48,
   "metadata": {},
   "outputs": [
    {
     "data": {
      "image/png": "[encoded data removed]",
      "text/plain": [
       "<Figure size 432x288 with 1 Axes>"
      ]
     },
     "metadata": {
      "needs_background": "light"
     },
     "output_type": "display_data"
    },
    {
     "data": {
      "text/plain": [
       "<Figure size 432x288 with 0 Axes>"
      ]
     },
     "metadata": {},
     "output_type": "display_data"
    }
   ],
   "source": [
    "n_groups = 1\n",
    "\n",
    "means_women = grouped_gender_data.iloc[0,0]\n",
    "means_men = grouped_gender_data.iloc[1,0]\n",
    "\n",
    "fig, ax = plt.subplots()\n",
    "\n",
    "index = np.arange(n_groups)\n",
    "bar_width = 0.35\n",
    "\n",
    "opacity = 0.75\n",
    "error_config = {'ecolor': '0.3'}\n",
    "\n",
    "rects1 = plt.bar(index, means_men, bar_width,\n",
    "                 alpha=opacity,\n",
    "                 color='b',\n",
    "                 label='Men')\n",
    "\n",
    "rects2 = plt.bar(index + bar_width, means_women, bar_width,\n",
    "                 alpha=opacity,\n",
    "                 color='r',\n",
    "                label='Women')\n",
    "\n",
    "plt.xlabel('Gender')\n",
    "plt.ylabel('Average Review Count')\n",
    "plt.title('Average Review Count by Gender')\n",
    "plt.xticks(index + bar_width / 2, ('Review Counts'))\n",
    "plt.legend()\n",
    "\n",
    "plt.tight_layout()\n",
    "plt.show()\n",
    "plt.savefig(\"Average Review Count.png\")"
   ]
  },
  {
   "cell_type": "code",
   "execution_count": 49,
   "metadata": {},
   "outputs": [
    {
     "data": {
      "image/png": "[encoded data removed]",
      "text/plain": [
       "<Figure size 432x288 with 1 Axes>"
      ]
     },
     "metadata": {
      "needs_background": "light"
     },
     "output_type": "display_data"
    },
    {
     "data": {
      "text/plain": [
       "<Figure size 432x288 with 0 Axes>"
      ]
     },
     "metadata": {},
     "output_type": "display_data"
    }
   ],
   "source": [
    "n_groups = 1\n",
    "\n",
    "means_women = grouped_gender_data.iloc[0,1]\n",
    "means_men = grouped_gender_data.iloc[1,1]\n",
    "\n",
    "fig, ax = plt.subplots()\n",
    "\n",
    "index = np.arange(n_groups)\n",
    "bar_width = 0.35\n",
    "\n",
    "opacity = .75\n",
    "error_config = {'ecolor': '0.3'}\n",
    "\n",
    "rects1 = plt.bar(index, means_men, bar_width,\n",
    "                 alpha=opacity,\n",
    "                 color='b',\n",
    "                 label='Men')\n",
    "\n",
    "rects2 = plt.bar(index + bar_width, means_women, bar_width,\n",
    "                 alpha=opacity,\n",
    "                 color='r',\n",
    "                label='Women')\n",
    "\n",
    "plt.xlabel('Gender')\n",
    "plt.ylabel('Fans per Review')\n",
    "plt.title('Fans per Review by Gender')\n",
    "plt.xticks(index + bar_width / 2, ('Fans Per Review'))\n",
    "plt.legend()\n",
    "\n",
    "plt.tight_layout()\n",
    "plt.show()\n",
    "plt.savefig(\"Fans Per Review.png\")"
   ]
  },
  {
   "cell_type": "code",
   "execution_count": 52,
   "metadata": {},
   "outputs": [
    {
     "data": {
      "text/plain": [
       "funny votes     0.353272\n",
       "useful votes    1.065497\n",
       "cool votes      0.340927\n",
       "Name: Male, dtype: float64"
      ]
     },
     "execution_count": 52,
     "metadata": {},
     "output_type": "execute_result"
    }
   ],
   "source": [
    "n_groups = 3\n",
    "\n",
    "means_women = grouped_gender_data.iloc[0,3:6]\n",
    "means_men = grouped_gender_data.iloc[1,3:6]\n",
    "\n",
    "means_men"
   ]
  },
  {
   "cell_type": "code",
   "execution_count": 53,
   "metadata": {},
   "outputs": [
    {
     "data": {
      "image/png": "[encoded data removed]",
      "text/plain": [
       "<Figure size 432x288 with 1 Axes>"
      ]
     },
     "metadata": {
      "needs_background": "light"
     },
     "output_type": "display_data"
    },
    {
     "data": {
      "text/plain": [
       "<Figure size 432x288 with 0 Axes>"
      ]
     },
     "metadata": {},
     "output_type": "display_data"
    }
   ],
   "source": [
    "fig, ax = plt.subplots()\n",
    "\n",
    "index = np.arange(n_groups)\n",
    "bar_width = 0.35\n",
    "\n",
    "opacity = .75\n",
    "\n",
    "rects1 = plt.bar(index, means_men, bar_width,\n",
    "                 alpha=opacity,\n",
    "                 color='b',\n",
    "                 label='Men')\n",
    "\n",
    "rects2 = plt.bar(index + bar_width, means_women, bar_width,\n",
    "                 alpha=opacity,\n",
    "                 color='r',\n",
    "                label='Women')\n",
    "\n",
    "plt.xlabel('Group')\n",
    "plt.ylabel('Scores')\n",
    "plt.title('Rating Characteristics and gender')\n",
    "plt.xticks(index + bar_width / 2, ('Funny Votes', 'Useful Votes', 'Cool Votes'))\n",
    "plt.legend()\n",
    "\n",
    "plt.tight_layout()\n",
    "plt.show()\n",
    "plt.savefig(\"Characteristics and Gender.png\")"
   ]
  },
  {
   "cell_type": "code",
   "execution_count": 35,
   "metadata": {},
   "outputs": [
    {
     "data": {
      "text/plain": [
       "Ttest_indResult(statistic=array([16.81982361]), pvalue=array([1.88374469e-63]))"
      ]
     },
     "execution_count": 35,
     "metadata": {},
     "output_type": "execute_result"
    }
   ],
   "source": [
    "# start doing statistical analyses\n",
    "# fans per gender\n",
    "fans_female = gender_data.loc[gender_data[\"gender\"]=='Female', [\"fans\"]]\n",
    "fans_male = gender_data.loc[gender_data[\"gender\"]=='Male', [\"fans\"]]\n",
    "stats.ttest_ind(fans_female, fans_male, equal_var=False)"
   ]
  },
  {
   "cell_type": "code",
   "execution_count": 161,
   "metadata": {},
   "outputs": [
    {
     "data": {
      "text/plain": [
       "Ttest_indResult(statistic=array([4.21982336]), pvalue=array([2.44566505e-05]))"
      ]
     },
     "execution_count": 161,
     "metadata": {},
     "output_type": "execute_result"
    }
   ],
   "source": [
    "# start doing statistical analyses\n",
    "# fans per gender\n",
    "fans_female_scaled = gender_data.loc[gender_data[\"gender\"]=='Female', [\"fans_scaled\"]]\n",
    "fans_male_scaled = gender_data.loc[gender_data[\"gender\"]=='Male', [\"fans_scaled\"]]\n",
    "stats.ttest_ind(fans_female_scaled, fans_male_scaled, nan_policy='omit', equal_var=False)"
   ]
  },
  {
   "cell_type": "code",
   "execution_count": 162,
   "metadata": {},
   "outputs": [
    {
     "data": {
      "text/plain": [
       "Ttest_indResult(statistic=array([11.79225929]), pvalue=array([4.35017025e-32]))"
      ]
     },
     "execution_count": 162,
     "metadata": {},
     "output_type": "execute_result"
    }
   ],
   "source": [
    "reviews_female = gender_data.loc[gender_data[\"gender\"]=='Female', [\"review counts\"]]\n",
    "reviews_male = gender_data.loc[gender_data[\"gender\"]=='Male', [\"review counts\"]]\n",
    "stats.ttest_ind(reviews_female, reviews_male, equal_var=False)"
   ]
  },
  {
   "cell_type": "code",
   "execution_count": 163,
   "metadata": {},
   "outputs": [
    {
     "data": {
      "text/plain": [
       "Ttest_indResult(statistic=array([18.39251846]), pvalue=array([1.6616759e-75]))"
      ]
     },
     "execution_count": 163,
     "metadata": {},
     "output_type": "execute_result"
    }
   ],
   "source": [
    "stars_female = gender_data.loc[gender_data[\"gender\"]=='Female', [\"average stars\"]]\n",
    "stars_male = gender_data.loc[gender_data[\"gender\"]=='Male', [\"average stars\"]]\n",
    "stats.ttest_ind(stars_female, stars_male, equal_var=False)"
   ]
  },
  {
   "cell_type": "code",
   "execution_count": 164,
   "metadata": {},
   "outputs": [
    {
     "data": {
      "text/plain": [
       "Ttest_indResult(statistic=array([3.46055334]), pvalue=array([0.00053914]))"
      ]
     },
     "execution_count": 164,
     "metadata": {},
     "output_type": "execute_result"
    }
   ],
   "source": [
    "funny_female = gender_data.loc[gender_data[\"gender\"]=='Female', [\"funny votes\"]]\n",
    "funny_male = gender_data.loc[gender_data[\"gender\"]=='Male', [\"funny votes\"]]\n",
    "stats.ttest_ind(funny_female, funny_male, equal_var=False)"
   ]
  },
  {
   "cell_type": "code",
   "execution_count": 165,
   "metadata": {},
   "outputs": [
    {
     "data": {
      "text/plain": [
       "Ttest_indResult(statistic=array([-6.45574382]), pvalue=array([1.07886199e-10]))"
      ]
     },
     "execution_count": 165,
     "metadata": {},
     "output_type": "execute_result"
    }
   ],
   "source": [
    "funny_female_scaled = gender_data.loc[gender_data[\"gender\"]=='Female', [\"funny_scaled\"]]\n",
    "funny_male_scaled = gender_data.loc[gender_data[\"gender\"]=='Male', [\"funny_scaled\"]]\n",
    "stats.ttest_ind(funny_female_scaled, funny_male_scaled,  nan_policy='omit', equal_var=False)"
   ]
  },
  {
   "cell_type": "code",
   "execution_count": 166,
   "metadata": {},
   "outputs": [
    {
     "data": {
      "text/plain": [
       "Ttest_indResult(statistic=array([8.90297208]), pvalue=array([5.46659285e-19]))"
      ]
     },
     "execution_count": 166,
     "metadata": {},
     "output_type": "execute_result"
    }
   ],
   "source": [
    "useful_female = gender_data.loc[gender_data[\"gender\"]=='Female', [\"useful votes\"]]\n",
    "useful_male = gender_data.loc[gender_data[\"gender\"]=='Male', [\"useful votes\"]]\n",
    "stats.ttest_ind(useful_female, useful_male, equal_var=False)"
   ]
  },
  {
   "cell_type": "code",
   "execution_count": 167,
   "metadata": {},
   "outputs": [
    {
     "data": {
      "text/plain": [
       "Ttest_indResult(statistic=array([7.99995174]), pvalue=array([1.24992132e-15]))"
      ]
     },
     "execution_count": 167,
     "metadata": {},
     "output_type": "execute_result"
    }
   ],
   "source": [
    "useful_female_scaled = gender_data.loc[gender_data[\"gender\"]=='Female', [\"useful_scaled\"]]\n",
    "useful_male_scaled = gender_data.loc[gender_data[\"gender\"]=='Male', [\"useful_scaled\"]]\n",
    "stats.ttest_ind(useful_female_scaled, useful_male_scaled, nan_policy='omit', equal_var=False)"
   ]
  },
  {
   "cell_type": "code",
   "execution_count": 168,
   "metadata": {},
   "outputs": [
    {
     "data": {
      "text/plain": [
       "Ttest_indResult(statistic=array([6.69352598]), pvalue=array([2.18240662e-11]))"
      ]
     },
     "execution_count": 168,
     "metadata": {},
     "output_type": "execute_result"
    }
   ],
   "source": [
    "cool_female = gender_data.loc[gender_data[\"gender\"]=='Female', [\"cool votes\"]]\n",
    "cool_male = gender_data.loc[gender_data[\"gender\"]=='Male', [\"cool votes\"]]\n",
    "stats.ttest_ind(cool_female, cool_male, equal_var=False)"
   ]
  },
  {
   "cell_type": "code",
   "execution_count": 169,
   "metadata": {},
   "outputs": [
    {
     "data": {
      "text/plain": [
       "Ttest_indResult(statistic=array([6.69352598]), pvalue=array([2.18240662e-11]))"
      ]
     },
     "execution_count": 169,
     "metadata": {},
     "output_type": "execute_result"
    }
   ],
   "source": [
    "cool_female_scaled = gender_data.loc[gender_data[\"gender\"]=='Female', [\"cool_scaled\"]]\n",
    "cool_male_scaled = gender_data.loc[gender_data[\"gender\"]=='Male', [\"cool_scaled\"]]\n",
    "stats.ttest_ind(cool_female, cool_male, nan_policy='omit', equal_var=False)"
   ]
  }
 ],
 "metadata": {
  "kernelspec": {
   "display_name": "Python [conda env:PythonData]",
   "language": "python",
   "name": "conda-env-PythonData-py"
  },
  "language_info": {
   "codemirror_mode": {
    "name": "ipython",
    "version": 3
   },
   "file_extension": ".py",
   "mimetype": "text/x-python",
   "name": "python",
   "nbconvert_exporter": "python",
   "pygments_lexer": "ipython3",
   "version": "3.6.9"
  }
 },
 "nbformat": 4,
 "nbformat_minor": 2
}
