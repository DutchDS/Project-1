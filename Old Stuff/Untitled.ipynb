{
 "cells": [
  {
   "cell_type": "code",
   "execution_count": 9,
   "metadata": {},
   "outputs": [
    {
     "data": {
      "text/html": [
       "<div>\n",
       "<style scoped>\n",
       "    .dataframe tbody tr th:only-of-type {\n",
       "        vertical-align: middle;\n",
       "    }\n",
       "\n",
       "    .dataframe tbody tr th {\n",
       "        vertical-align: top;\n",
       "    }\n",
       "\n",
       "    .dataframe thead th {\n",
       "        text-align: right;\n",
       "    }\n",
       "</style>\n",
       "<table border=\"1\" class=\"dataframe\">\n",
       "  <thead>\n",
       "    <tr style=\"text-align: right;\">\n",
       "      <th></th>\n",
       "      <th>zip_code</th>\n",
       "      <th>city</th>\n",
       "      <th>latitude</th>\n",
       "      <th>longitude</th>\n",
       "      <th>state</th>\n",
       "    </tr>\n",
       "  </thead>\n",
       "  <tbody>\n",
       "    <tr>\n",
       "      <th>38617</th>\n",
       "      <td>89030</td>\n",
       "      <td>North Las Vegas</td>\n",
       "      <td>36.206419</td>\n",
       "      <td>-115.123180</td>\n",
       "      <td>NV</td>\n",
       "    </tr>\n",
       "    <tr>\n",
       "      <th>4991</th>\n",
       "      <td>13435</td>\n",
       "      <td>Prospect</td>\n",
       "      <td>43.305156</td>\n",
       "      <td>-75.150183</td>\n",
       "      <td>NY</td>\n",
       "    </tr>\n",
       "    <tr>\n",
       "      <th>13305</th>\n",
       "      <td>30572</td>\n",
       "      <td>Suches</td>\n",
       "      <td>34.731084</td>\n",
       "      <td>-84.079430</td>\n",
       "      <td>GA</td>\n",
       "    </tr>\n",
       "    <tr>\n",
       "      <th>30737</th>\n",
       "      <td>68759</td>\n",
       "      <td>Newport</td>\n",
       "      <td>42.700145</td>\n",
       "      <td>-99.318120</td>\n",
       "      <td>NE</td>\n",
       "    </tr>\n",
       "    <tr>\n",
       "      <th>27445</th>\n",
       "      <td>61441</td>\n",
       "      <td>Ipava</td>\n",
       "      <td>40.337555</td>\n",
       "      <td>-90.304580</td>\n",
       "      <td>IL</td>\n",
       "    </tr>\n",
       "  </tbody>\n",
       "</table>\n",
       "</div>"
      ],
      "text/plain": [
       "       zip_code             city   latitude   longitude state\n",
       "38617     89030  North Las Vegas  36.206419 -115.123180    NV\n",
       "4991      13435         Prospect  43.305156  -75.150183    NY\n",
       "13305     30572           Suches  34.731084  -84.079430    GA\n",
       "30737     68759          Newport  42.700145  -99.318120    NE\n",
       "27445     61441            Ipava  40.337555  -90.304580    IL"
      ]
     },
     "execution_count": 9,
     "metadata": {},
     "output_type": "execute_result"
    }
   ],
   "source": [
    "# import csv\n",
    "import pandas as pd\n",
    "\n",
    "df_list = pd.read_csv('input/zipcodes_all.csv')\n",
    "df_samples = df_list.sample(5)\n",
    "df_samples"
   ]
  }
 ],
 "metadata": {
  "kernelspec": {
   "display_name": "Python [conda env:PythonData]",
   "language": "python",
   "name": "conda-env-PythonData-py"
  },
  "language_info": {
   "codemirror_mode": {
    "name": "ipython",
    "version": 3
   },
   "file_extension": ".py",
   "mimetype": "text/x-python",
   "name": "python",
   "nbconvert_exporter": "python",
   "pygments_lexer": "ipython3",
   "version": "3.6.9"
  }
 },
 "nbformat": 4,
 "nbformat_minor": 2
}
