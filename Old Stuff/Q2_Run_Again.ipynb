{
 "cells": [
  {
   "cell_type": "code",
   "execution_count": 1,
   "metadata": {},
   "outputs": [],
   "source": [
    "# Dependencies\n",
    "import numpy as np\n",
    "import pandas as pd\n",
    "import matplotlib.pyplot as plt\n",
    "import requests\n",
    "import os\n",
    "import json\n",
    "import pprint\n",
    "import scipy.stats as stats\n",
    "import urllib\n",
    "from urllib.parse import quote\n",
    "import re\n",
    "from config import yelp_key"
   ]
  },
  {
   "cell_type": "code",
   "execution_count": 7,
   "metadata": {},
   "outputs": [
    {
     "name": "stdout",
     "output_type": "stream",
     "text": [
      "Total zip codes: 100\n"
     ]
    },
    {
     "data": {
      "text/html": [
       "<div>\n",
       "<style scoped>\n",
       "    .dataframe tbody tr th:only-of-type {\n",
       "        vertical-align: middle;\n",
       "    }\n",
       "\n",
       "    .dataframe tbody tr th {\n",
       "        vertical-align: top;\n",
       "    }\n",
       "\n",
       "    .dataframe thead th {\n",
       "        text-align: right;\n",
       "    }\n",
       "</style>\n",
       "<table border=\"1\" class=\"dataframe\">\n",
       "  <thead>\n",
       "    <tr style=\"text-align: right;\">\n",
       "      <th></th>\n",
       "      <th>zip_code</th>\n",
       "      <th>city</th>\n",
       "      <th>latitude</th>\n",
       "      <th>longetude</th>\n",
       "      <th>population</th>\n",
       "      <th>People / Sq. Mile</th>\n",
       "      <th>National Rank</th>\n",
       "      <th>number</th>\n",
       "      <th>State</th>\n",
       "    </tr>\n",
       "  </thead>\n",
       "  <tbody>\n",
       "    <tr>\n",
       "      <th>0</th>\n",
       "      <td>10162</td>\n",
       "      <td>New York</td>\n",
       "      <td>40.769298</td>\n",
       "      <td>-73.949942</td>\n",
       "      <td>1726</td>\n",
       "      <td>151834.77</td>\n",
       "      <td>#1</td>\n",
       "      <td>1</td>\n",
       "      <td>New York</td>\n",
       "    </tr>\n",
       "    <tr>\n",
       "      <th>1</th>\n",
       "      <td>10028</td>\n",
       "      <td>New York</td>\n",
       "      <td>40.776865</td>\n",
       "      <td>-73.954721</td>\n",
       "      <td>44987</td>\n",
       "      <td>126067.69</td>\n",
       "      <td>#2</td>\n",
       "      <td>2</td>\n",
       "      <td>New York</td>\n",
       "    </tr>\n",
       "    <tr>\n",
       "      <th>2</th>\n",
       "      <td>10128</td>\n",
       "      <td>New York</td>\n",
       "      <td>40.781656</td>\n",
       "      <td>-73.950281</td>\n",
       "      <td>59856</td>\n",
       "      <td>122356.52</td>\n",
       "      <td>#3</td>\n",
       "      <td>3</td>\n",
       "      <td>New York</td>\n",
       "    </tr>\n",
       "    <tr>\n",
       "      <th>3</th>\n",
       "      <td>8625</td>\n",
       "      <td>Trenton</td>\n",
       "      <td>40.207185</td>\n",
       "      <td>-74.756664</td>\n",
       "      <td>1834</td>\n",
       "      <td>115477.17</td>\n",
       "      <td>#4</td>\n",
       "      <td>4</td>\n",
       "      <td>New Jersey</td>\n",
       "    </tr>\n",
       "    <tr>\n",
       "      <th>4</th>\n",
       "      <td>10031</td>\n",
       "      <td>New York</td>\n",
       "      <td>40.825857</td>\n",
       "      <td>-73.949451</td>\n",
       "      <td>60221</td>\n",
       "      <td>101100.03</td>\n",
       "      <td>#5</td>\n",
       "      <td>5</td>\n",
       "      <td>New York</td>\n",
       "    </tr>\n",
       "  </tbody>\n",
       "</table>\n",
       "</div>"
      ],
      "text/plain": [
       "   zip_code      city   latitude  longetude population People / Sq. Mile  \\\n",
       "0     10162  New York  40.769298 -73.949942       1726         151834.77   \n",
       "1     10028  New York  40.776865 -73.954721      44987         126067.69   \n",
       "2     10128  New York  40.781656 -73.950281      59856         122356.52   \n",
       "3      8625   Trenton  40.207185 -74.756664       1834         115477.17   \n",
       "4     10031  New York  40.825857 -73.949451      60221         101100.03   \n",
       "\n",
       "  National Rank  number        State  \n",
       "0            #1       1     New York  \n",
       "1            #2       2     New York  \n",
       "2            #3       3     New York  \n",
       "3            #4       4   New Jersey  \n",
       "4            #5       5     New York  "
      ]
     },
     "execution_count": 7,
     "metadata": {},
     "output_type": "execute_result"
    }
   ],
   "source": [
    "#File with 500 largest population ZIP codes in the USA Code data\n",
    "file = 'input/zipcodes_all.csv'\n",
    "\n",
    "df_list = pd.read_csv(file)\n",
    "df_zip = df_list.iloc[0:100,:]\n",
    "# Randomly select 100 zipcodes\n",
    "# df_zip = df_list.sample(100)\n",
    "\n",
    "zip_count = df_zip.zip_code.count()\n",
    "print(f\"Total zip codes: {zip_count}\")\n",
    "df_zip.head()"
   ]
  },
  {
   "cell_type": "code",
   "execution_count": 8,
   "metadata": {},
   "outputs": [],
   "source": [
    "# Get ready to import yelp data\n",
    "API_KEY=yelp_key\n",
    "\n",
    "API_HOST = 'https://api.yelp.com'\n",
    "SEARCH_PATH = '/v3/businesses/search'\n",
    "MATCH_PATH = '/v3/businesses/matches'\n",
    "SEARCH_PHONE_PATH = '/v3/businesses/search/phone'\n",
    "BUSINESS_PATH = '/v3/businesses/'  # Business ID will come after slash"
   ]
  },
  {
   "cell_type": "code",
   "execution_count": 9,
   "metadata": {},
   "outputs": [],
   "source": [
    "def request(host, path, api_key, url_params=None):\n",
    "    url_params = url_params or {}\n",
    "    url = '{0}{1}'.format(host, quote(path.encode('utf8')))\n",
    "    headers = {\n",
    "        'Authorization': 'Bearer %s' % api_key,\n",
    "    }\n",
    "#     print(u'Querying {0} ...'.format(url))\n",
    "#     print(headers)\n",
    "\n",
    "    response = requests.request('GET', url, headers=headers, params=url_params)\n",
    "    return response.json() #, my_url"
   ]
  },
  {
   "cell_type": "code",
   "execution_count": 10,
   "metadata": {},
   "outputs": [
    {
     "name": "stderr",
     "output_type": "stream",
     "text": [
      "C:\\Users\\dutch\\Anaconda3\\envs\\PythonData\\lib\\site-packages\\pandas\\core\\frame.py:7138: FutureWarning: Sorting because non-concatenation axis is not aligned. A future version\n",
      "of pandas will change to not sort by default.\n",
      "\n",
      "To accept the future behavior, pass 'sort=False'.\n",
      "\n",
      "To retain the current behavior and silence the warning, pass 'sort=True'.\n",
      "\n",
      "  sort=sort,\n"
     ]
    }
   ],
   "source": [
    "df_businesses = pd.DataFrame()\n",
    "df_bus_total = pd.DataFrame()\n",
    "prices = []\n",
    "dict_total = {}\n",
    "\n",
    "for index, row in df_zip.iterrows():\n",
    "    row_zip = row[0]\n",
    "    row_city = row[1]\n",
    "    row_lat = row[2]\n",
    "    row_long = row[3]\n",
    "    #     print(index, row_zip, row_lat, row_long)\n",
    "    url_params={\"city\":row_city, 'zip_code':row_zip,'latitude':row_lat,'longitude':row_long}\n",
    "    dict_businesses = request(API_HOST, SEARCH_PATH, API_KEY, url_params)\n",
    "    try:\n",
    "        df_businesses['business_id']=[business[\"id\"] for business in dict_businesses['businesses']]\n",
    "        df_businesses['name']=[business[\"name\"]for business in dict_businesses['businesses']]\n",
    "        df_businesses['rating']=[business[\"rating\"]for business in dict_businesses['businesses']]\n",
    "        df_businesses['zip_code']=[business['location'][\"zip_code\"]for business in dict_businesses['businesses']]\n",
    "        df_businesses['review_count']=[business[\"review_count\"]for business in dict_businesses['businesses']]\n",
    "        df_businesses['price']=[business[\"price\"]for business in dict_businesses['businesses']]\n",
    "    except:\n",
    "        pass\n",
    "    \n",
    "    df_bus_total = df_bus_total.append(df_businesses)"
   ]
  },
  {
   "cell_type": "code",
   "execution_count": 11,
   "metadata": {},
   "outputs": [
    {
     "data": {
      "text/plain": [
       "$$      1303\n",
       "$        436\n",
       "$$$      151\n",
       "$$$$      50\n",
       "Name: price, dtype: int64"
      ]
     },
     "execution_count": 11,
     "metadata": {},
     "output_type": "execute_result"
    }
   ],
   "source": [
    "df_bus_total['price'].value_counts()"
   ]
  },
  {
   "cell_type": "code",
   "execution_count": 12,
   "metadata": {},
   "outputs": [],
   "source": [
    "# Specify the file to write to\n",
    "output_path = os.path.join(\"output\", \"business_data_all.csv\")\n",
    "df_bus_total.to_csv(output_path)"
   ]
  },
  {
   "cell_type": "code",
   "execution_count": 13,
   "metadata": {},
   "outputs": [],
   "source": [
    "# Drop duplicates\n",
    "df_bus_total = df_bus_total.sort_values('business_id')\n",
    "df_bus_total = df_bus_total.reset_index(drop=True)\n",
    "df_bus_unique = df_bus_total.drop_duplicates(['business_id'], keep='first')"
   ]
  },
  {
   "cell_type": "code",
   "execution_count": 14,
   "metadata": {},
   "outputs": [
    {
     "name": "stdout",
     "output_type": "stream",
     "text": [
      "Total unique businesses: 885\n"
     ]
    },
    {
     "data": {
      "text/html": [
       "<div>\n",
       "<style scoped>\n",
       "    .dataframe tbody tr th:only-of-type {\n",
       "        vertical-align: middle;\n",
       "    }\n",
       "\n",
       "    .dataframe tbody tr th {\n",
       "        vertical-align: top;\n",
       "    }\n",
       "\n",
       "    .dataframe thead th {\n",
       "        text-align: right;\n",
       "    }\n",
       "</style>\n",
       "<table border=\"1\" class=\"dataframe\">\n",
       "  <thead>\n",
       "    <tr style=\"text-align: right;\">\n",
       "      <th></th>\n",
       "      <th>business_id</th>\n",
       "      <th>name</th>\n",
       "      <th>price</th>\n",
       "      <th>rating</th>\n",
       "      <th>review_count</th>\n",
       "      <th>zip_code</th>\n",
       "    </tr>\n",
       "  </thead>\n",
       "  <tbody>\n",
       "    <tr>\n",
       "      <th>0</th>\n",
       "      <td>-DrR38H1Abk0wCyu9XOLug</td>\n",
       "      <td>Sweet Maple</td>\n",
       "      <td>$$</td>\n",
       "      <td>4.0</td>\n",
       "      <td>3588</td>\n",
       "      <td>94115</td>\n",
       "    </tr>\n",
       "    <tr>\n",
       "      <th>2</th>\n",
       "      <td>-FOAQv22SXtSBs7nptI3UA</td>\n",
       "      <td>Serious Pie</td>\n",
       "      <td>$$</td>\n",
       "      <td>4.0</td>\n",
       "      <td>4083</td>\n",
       "      <td>98121</td>\n",
       "    </tr>\n",
       "    <tr>\n",
       "      <th>3</th>\n",
       "      <td>-LJayGlySYnQ8z2VvZyFNw</td>\n",
       "      <td>Little Vietnam</td>\n",
       "      <td>$</td>\n",
       "      <td>4.5</td>\n",
       "      <td>328</td>\n",
       "      <td>60640</td>\n",
       "    </tr>\n",
       "    <tr>\n",
       "      <th>4</th>\n",
       "      <td>-NglVrPdjl3dG-z8ZBzJyQ</td>\n",
       "      <td>The Wilky</td>\n",
       "      <td>$$</td>\n",
       "      <td>4.5</td>\n",
       "      <td>149</td>\n",
       "      <td>11221</td>\n",
       "    </tr>\n",
       "    <tr>\n",
       "      <th>6</th>\n",
       "      <td>-OixbLnFLCzQclxCSbUQ8w</td>\n",
       "      <td>Up Thai</td>\n",
       "      <td>NaN</td>\n",
       "      <td>4.5</td>\n",
       "      <td>2180</td>\n",
       "      <td>10021</td>\n",
       "    </tr>\n",
       "  </tbody>\n",
       "</table>\n",
       "</div>"
      ],
      "text/plain": [
       "              business_id            name price  rating  review_count zip_code\n",
       "0  -DrR38H1Abk0wCyu9XOLug     Sweet Maple    $$     4.0          3588    94115\n",
       "2  -FOAQv22SXtSBs7nptI3UA     Serious Pie    $$     4.0          4083    98121\n",
       "3  -LJayGlySYnQ8z2VvZyFNw  Little Vietnam     $     4.5           328    60640\n",
       "4  -NglVrPdjl3dG-z8ZBzJyQ       The Wilky    $$     4.5           149    11221\n",
       "6  -OixbLnFLCzQclxCSbUQ8w         Up Thai   NaN     4.5          2180    10021"
      ]
     },
     "execution_count": 14,
     "metadata": {},
     "output_type": "execute_result"
    }
   ],
   "source": [
    "bus_uni_count = df_bus_unique.business_id.count()\n",
    "print(f\"Total unique businesses: {bus_uni_count}\")\n",
    "df_bus_unique.head()\n",
    "# Optionally use a smaller data set: df_bus_unique_small = df_bus_unique[1:5]"
   ]
  },
  {
   "cell_type": "code",
   "execution_count": 15,
   "metadata": {},
   "outputs": [],
   "source": [
    "# Specify the file to write to\n",
    "output_path = os.path.join(\"output\", \"business_unique_data_all.csv\")\n",
    "df_bus_unique.to_csv(output_path)"
   ]
  },
  {
   "cell_type": "code",
   "execution_count": 16,
   "metadata": {},
   "outputs": [],
   "source": [
    "# Get reviews for each unique business\n",
    "dict_rev_total = {}\n",
    "dict_reviews = {}\n",
    "df_reviews = pd.DataFrame()\n",
    "df_rev_total = pd.DataFrame()\n",
    "\n",
    "for index, row in df_bus_unique.iterrows():\n",
    "    row_bus = row[0]\n",
    "    REVIEW_PATH = BUSINESS_PATH + row_bus + '/reviews'\n",
    "    dict_reviews = request(API_HOST, REVIEW_PATH, API_KEY)\n",
    "    try:\n",
    "        df_reviews['business_id']= [row_bus for review in dict_reviews['reviews']]\n",
    "        df_reviews['review_id']=[review[\"id\"]for review in dict_reviews['reviews']]\n",
    "        df_reviews['rating']=[review[\"rating\"]for review in dict_reviews['reviews']]\n",
    "        df_reviews['name']=[review['user'][\"name\"]for review in dict_reviews['reviews']]\n",
    "        df_rev_total = df_rev_total.append(df_reviews)\n",
    "    except:\n",
    "        pass"
   ]
  },
  {
   "cell_type": "code",
   "execution_count": 17,
   "metadata": {},
   "outputs": [
    {
     "name": "stdout",
     "output_type": "stream",
     "text": [
      "Total reviews: 2655\n"
     ]
    },
    {
     "data": {
      "text/html": [
       "<div>\n",
       "<style scoped>\n",
       "    .dataframe tbody tr th:only-of-type {\n",
       "        vertical-align: middle;\n",
       "    }\n",
       "\n",
       "    .dataframe tbody tr th {\n",
       "        vertical-align: top;\n",
       "    }\n",
       "\n",
       "    .dataframe thead th {\n",
       "        text-align: right;\n",
       "    }\n",
       "</style>\n",
       "<table border=\"1\" class=\"dataframe\">\n",
       "  <thead>\n",
       "    <tr style=\"text-align: right;\">\n",
       "      <th></th>\n",
       "      <th>business_id</th>\n",
       "      <th>review_id</th>\n",
       "      <th>rating</th>\n",
       "      <th>name</th>\n",
       "    </tr>\n",
       "  </thead>\n",
       "  <tbody>\n",
       "    <tr>\n",
       "      <th>0</th>\n",
       "      <td>-DrR38H1Abk0wCyu9XOLug</td>\n",
       "      <td>ZSXojEQF9VbhD_h3K-4bmg</td>\n",
       "      <td>5</td>\n",
       "      <td>Amber S.</td>\n",
       "    </tr>\n",
       "    <tr>\n",
       "      <th>1</th>\n",
       "      <td>-DrR38H1Abk0wCyu9XOLug</td>\n",
       "      <td>6YtIAi2jrOWx3yvM9HcJEw</td>\n",
       "      <td>4</td>\n",
       "      <td>Tiffany N.</td>\n",
       "    </tr>\n",
       "    <tr>\n",
       "      <th>2</th>\n",
       "      <td>-DrR38H1Abk0wCyu9XOLug</td>\n",
       "      <td>2j1t2s7Mu39N3d0c-SYSOA</td>\n",
       "      <td>4</td>\n",
       "      <td>Holly P.</td>\n",
       "    </tr>\n",
       "    <tr>\n",
       "      <th>0</th>\n",
       "      <td>-FOAQv22SXtSBs7nptI3UA</td>\n",
       "      <td>s_NXa4ISlDWd_C0bALRbnQ</td>\n",
       "      <td>5</td>\n",
       "      <td>Valerie S.</td>\n",
       "    </tr>\n",
       "    <tr>\n",
       "      <th>1</th>\n",
       "      <td>-FOAQv22SXtSBs7nptI3UA</td>\n",
       "      <td>kKQ5h0SUyhq0PMRXoql0tQ</td>\n",
       "      <td>5</td>\n",
       "      <td>Joanne C.</td>\n",
       "    </tr>\n",
       "  </tbody>\n",
       "</table>\n",
       "</div>"
      ],
      "text/plain": [
       "              business_id               review_id  rating        name\n",
       "0  -DrR38H1Abk0wCyu9XOLug  ZSXojEQF9VbhD_h3K-4bmg       5    Amber S.\n",
       "1  -DrR38H1Abk0wCyu9XOLug  6YtIAi2jrOWx3yvM9HcJEw       4  Tiffany N.\n",
       "2  -DrR38H1Abk0wCyu9XOLug  2j1t2s7Mu39N3d0c-SYSOA       4    Holly P.\n",
       "0  -FOAQv22SXtSBs7nptI3UA  s_NXa4ISlDWd_C0bALRbnQ       5  Valerie S.\n",
       "1  -FOAQv22SXtSBs7nptI3UA  kKQ5h0SUyhq0PMRXoql0tQ       5   Joanne C."
      ]
     },
     "execution_count": 17,
     "metadata": {},
     "output_type": "execute_result"
    }
   ],
   "source": [
    "rev_uni_count = df_rev_total.review_id.count()\n",
    "print(f\"Total reviews: {rev_uni_count}\")\n",
    "df_rev_total.head()"
   ]
  },
  {
   "cell_type": "code",
   "execution_count": 18,
   "metadata": {},
   "outputs": [],
   "source": [
    "#COMMENT OUT THE RESET BELOW IF RAN MULTIPLE TIMES!!!!\n",
    "\n",
    "df_rev_total.reset_index(inplace=True)\n",
    "\n",
    "# create a list with names per review and take only the name before the 'space' as a first name\n",
    "df_rev_total['short name']=\"\"\n",
    "short_name = []\n",
    "for index, row in df_rev_total.iterrows():\n",
    "#     print(row)\n",
    "    short_name = re.split(\"( )\",row[4])\n",
    "#     print(short_name)\n",
    "    df_rev_total.iloc[index, 5] = short_name[0].lower()"
   ]
  },
  {
   "cell_type": "code",
   "execution_count": 19,
   "metadata": {},
   "outputs": [
    {
     "name": "stdout",
     "output_type": "stream",
     "text": [
      "Total reviews: 2655\n"
     ]
    },
    {
     "data": {
      "text/html": [
       "<div>\n",
       "<style scoped>\n",
       "    .dataframe tbody tr th:only-of-type {\n",
       "        vertical-align: middle;\n",
       "    }\n",
       "\n",
       "    .dataframe tbody tr th {\n",
       "        vertical-align: top;\n",
       "    }\n",
       "\n",
       "    .dataframe thead th {\n",
       "        text-align: right;\n",
       "    }\n",
       "</style>\n",
       "<table border=\"1\" class=\"dataframe\">\n",
       "  <thead>\n",
       "    <tr style=\"text-align: right;\">\n",
       "      <th></th>\n",
       "      <th>index</th>\n",
       "      <th>business_id</th>\n",
       "      <th>review_id</th>\n",
       "      <th>rating</th>\n",
       "      <th>name</th>\n",
       "      <th>short name</th>\n",
       "    </tr>\n",
       "  </thead>\n",
       "  <tbody>\n",
       "    <tr>\n",
       "      <th>0</th>\n",
       "      <td>0</td>\n",
       "      <td>-DrR38H1Abk0wCyu9XOLug</td>\n",
       "      <td>ZSXojEQF9VbhD_h3K-4bmg</td>\n",
       "      <td>5</td>\n",
       "      <td>Amber S.</td>\n",
       "      <td>amber</td>\n",
       "    </tr>\n",
       "    <tr>\n",
       "      <th>1</th>\n",
       "      <td>1</td>\n",
       "      <td>-DrR38H1Abk0wCyu9XOLug</td>\n",
       "      <td>6YtIAi2jrOWx3yvM9HcJEw</td>\n",
       "      <td>4</td>\n",
       "      <td>Tiffany N.</td>\n",
       "      <td>tiffany</td>\n",
       "    </tr>\n",
       "    <tr>\n",
       "      <th>2</th>\n",
       "      <td>2</td>\n",
       "      <td>-DrR38H1Abk0wCyu9XOLug</td>\n",
       "      <td>2j1t2s7Mu39N3d0c-SYSOA</td>\n",
       "      <td>4</td>\n",
       "      <td>Holly P.</td>\n",
       "      <td>holly</td>\n",
       "    </tr>\n",
       "    <tr>\n",
       "      <th>3</th>\n",
       "      <td>0</td>\n",
       "      <td>-FOAQv22SXtSBs7nptI3UA</td>\n",
       "      <td>s_NXa4ISlDWd_C0bALRbnQ</td>\n",
       "      <td>5</td>\n",
       "      <td>Valerie S.</td>\n",
       "      <td>valerie</td>\n",
       "    </tr>\n",
       "    <tr>\n",
       "      <th>4</th>\n",
       "      <td>1</td>\n",
       "      <td>-FOAQv22SXtSBs7nptI3UA</td>\n",
       "      <td>kKQ5h0SUyhq0PMRXoql0tQ</td>\n",
       "      <td>5</td>\n",
       "      <td>Joanne C.</td>\n",
       "      <td>joanne</td>\n",
       "    </tr>\n",
       "  </tbody>\n",
       "</table>\n",
       "</div>"
      ],
      "text/plain": [
       "   index             business_id               review_id  rating        name  \\\n",
       "0      0  -DrR38H1Abk0wCyu9XOLug  ZSXojEQF9VbhD_h3K-4bmg       5    Amber S.   \n",
       "1      1  -DrR38H1Abk0wCyu9XOLug  6YtIAi2jrOWx3yvM9HcJEw       4  Tiffany N.   \n",
       "2      2  -DrR38H1Abk0wCyu9XOLug  2j1t2s7Mu39N3d0c-SYSOA       4    Holly P.   \n",
       "3      0  -FOAQv22SXtSBs7nptI3UA  s_NXa4ISlDWd_C0bALRbnQ       5  Valerie S.   \n",
       "4      1  -FOAQv22SXtSBs7nptI3UA  kKQ5h0SUyhq0PMRXoql0tQ       5   Joanne C.   \n",
       "\n",
       "  short name  \n",
       "0      amber  \n",
       "1    tiffany  \n",
       "2      holly  \n",
       "3    valerie  \n",
       "4     joanne  "
      ]
     },
     "execution_count": 19,
     "metadata": {},
     "output_type": "execute_result"
    }
   ],
   "source": [
    "rev_uni_count = df_rev_total.review_id.count()\n",
    "print(f\"Total reviews: {rev_uni_count}\")\n",
    "df_rev_total.head()"
   ]
  },
  {
   "cell_type": "code",
   "execution_count": 20,
   "metadata": {},
   "outputs": [
    {
     "data": {
      "text/html": [
       "<div>\n",
       "<style scoped>\n",
       "    .dataframe tbody tr th:only-of-type {\n",
       "        vertical-align: middle;\n",
       "    }\n",
       "\n",
       "    .dataframe tbody tr th {\n",
       "        vertical-align: top;\n",
       "    }\n",
       "\n",
       "    .dataframe thead th {\n",
       "        text-align: right;\n",
       "    }\n",
       "</style>\n",
       "<table border=\"1\" class=\"dataframe\">\n",
       "  <thead>\n",
       "    <tr style=\"text-align: right;\">\n",
       "      <th></th>\n",
       "      <th>nameprimary</th>\n",
       "      <th>gender</th>\n",
       "      <th>count</th>\n",
       "    </tr>\n",
       "    <tr>\n",
       "      <th>first_name</th>\n",
       "      <th></th>\n",
       "      <th></th>\n",
       "      <th></th>\n",
       "    </tr>\n",
       "  </thead>\n",
       "  <tbody>\n",
       "    <tr>\n",
       "      <th>aa</th>\n",
       "      <td>AA</td>\n",
       "      <td>Not Known</td>\n",
       "      <td>1</td>\n",
       "    </tr>\n",
       "    <tr>\n",
       "      <th>aabha</th>\n",
       "      <td>AABHA</td>\n",
       "      <td>Female</td>\n",
       "      <td>1</td>\n",
       "    </tr>\n",
       "    <tr>\n",
       "      <th>aabida</th>\n",
       "      <td>AABIDA</td>\n",
       "      <td>Female</td>\n",
       "      <td>1</td>\n",
       "    </tr>\n",
       "    <tr>\n",
       "      <th>aad</th>\n",
       "      <td>AAD</td>\n",
       "      <td>Male</td>\n",
       "      <td>1</td>\n",
       "    </tr>\n",
       "    <tr>\n",
       "      <th>aadarsh</th>\n",
       "      <td>AADARSH</td>\n",
       "      <td>Male</td>\n",
       "      <td>1</td>\n",
       "    </tr>\n",
       "  </tbody>\n",
       "</table>\n",
       "</div>"
      ],
      "text/plain": [
       "           nameprimary     gender  count\n",
       "first_name                              \n",
       "aa                  AA  Not Known      1\n",
       "aabha            AABHA     Female      1\n",
       "aabida          AABIDA     Female      1\n",
       "aad                AAD       Male      1\n",
       "aadarsh        AADARSH       Male      1"
      ]
     },
     "execution_count": 20,
     "metadata": {},
     "output_type": "execute_result"
    }
   ],
   "source": [
    "file = 'input/gender names.csv'\n",
    "df = pd.read_csv(file)\n",
    "df = df.set_index('first_name')\n",
    "df.head()"
   ]
  },
  {
   "cell_type": "code",
   "execution_count": 21,
   "metadata": {},
   "outputs": [],
   "source": [
    "df_rev_total['gender']=\"\"\n",
    "gender = []\n",
    "for index, row in df_rev_total.iterrows():\n",
    "    try:\n",
    "        gender = df.loc[str(row[5]),'gender']\n",
    "    #     print(gender)\n",
    "        df_rev_total.iloc[index, 6] = gender\n",
    "    except:\n",
    "        pass\n",
    "df_rev_total.head()\n",
    "\n",
    "# Drop reviews with where gender isn't found\n",
    "df_rev_total = df_rev_total.loc[(df_rev_total['gender']!=\"\") & (df_rev_total['gender']!=\"Both\") & (df_rev_total['gender']!=\"Not Known\")]"
   ]
  },
  {
   "cell_type": "code",
   "execution_count": 22,
   "metadata": {},
   "outputs": [
    {
     "name": "stdout",
     "output_type": "stream",
     "text": [
      "Total reviews with gender: 2066\n"
     ]
    },
    {
     "data": {
      "text/html": [
       "<div>\n",
       "<style scoped>\n",
       "    .dataframe tbody tr th:only-of-type {\n",
       "        vertical-align: middle;\n",
       "    }\n",
       "\n",
       "    .dataframe tbody tr th {\n",
       "        vertical-align: top;\n",
       "    }\n",
       "\n",
       "    .dataframe thead th {\n",
       "        text-align: right;\n",
       "    }\n",
       "</style>\n",
       "<table border=\"1\" class=\"dataframe\">\n",
       "  <thead>\n",
       "    <tr style=\"text-align: right;\">\n",
       "      <th></th>\n",
       "      <th>index</th>\n",
       "      <th>business_id</th>\n",
       "      <th>review_id</th>\n",
       "      <th>reviewer_rating</th>\n",
       "      <th>reviewer_full</th>\n",
       "      <th>short name</th>\n",
       "      <th>gender</th>\n",
       "    </tr>\n",
       "  </thead>\n",
       "  <tbody>\n",
       "    <tr>\n",
       "      <th>0</th>\n",
       "      <td>0</td>\n",
       "      <td>-DrR38H1Abk0wCyu9XOLug</td>\n",
       "      <td>ZSXojEQF9VbhD_h3K-4bmg</td>\n",
       "      <td>5</td>\n",
       "      <td>Amber S.</td>\n",
       "      <td>amber</td>\n",
       "      <td>Female</td>\n",
       "    </tr>\n",
       "    <tr>\n",
       "      <th>1</th>\n",
       "      <td>1</td>\n",
       "      <td>-DrR38H1Abk0wCyu9XOLug</td>\n",
       "      <td>6YtIAi2jrOWx3yvM9HcJEw</td>\n",
       "      <td>4</td>\n",
       "      <td>Tiffany N.</td>\n",
       "      <td>tiffany</td>\n",
       "      <td>Female</td>\n",
       "    </tr>\n",
       "    <tr>\n",
       "      <th>2</th>\n",
       "      <td>2</td>\n",
       "      <td>-DrR38H1Abk0wCyu9XOLug</td>\n",
       "      <td>2j1t2s7Mu39N3d0c-SYSOA</td>\n",
       "      <td>4</td>\n",
       "      <td>Holly P.</td>\n",
       "      <td>holly</td>\n",
       "      <td>Female</td>\n",
       "    </tr>\n",
       "    <tr>\n",
       "      <th>3</th>\n",
       "      <td>0</td>\n",
       "      <td>-FOAQv22SXtSBs7nptI3UA</td>\n",
       "      <td>s_NXa4ISlDWd_C0bALRbnQ</td>\n",
       "      <td>5</td>\n",
       "      <td>Valerie S.</td>\n",
       "      <td>valerie</td>\n",
       "      <td>Female</td>\n",
       "    </tr>\n",
       "    <tr>\n",
       "      <th>4</th>\n",
       "      <td>1</td>\n",
       "      <td>-FOAQv22SXtSBs7nptI3UA</td>\n",
       "      <td>kKQ5h0SUyhq0PMRXoql0tQ</td>\n",
       "      <td>5</td>\n",
       "      <td>Joanne C.</td>\n",
       "      <td>joanne</td>\n",
       "      <td>Female</td>\n",
       "    </tr>\n",
       "  </tbody>\n",
       "</table>\n",
       "</div>"
      ],
      "text/plain": [
       "   index             business_id               review_id  reviewer_rating  \\\n",
       "0      0  -DrR38H1Abk0wCyu9XOLug  ZSXojEQF9VbhD_h3K-4bmg                5   \n",
       "1      1  -DrR38H1Abk0wCyu9XOLug  6YtIAi2jrOWx3yvM9HcJEw                4   \n",
       "2      2  -DrR38H1Abk0wCyu9XOLug  2j1t2s7Mu39N3d0c-SYSOA                4   \n",
       "3      0  -FOAQv22SXtSBs7nptI3UA  s_NXa4ISlDWd_C0bALRbnQ                5   \n",
       "4      1  -FOAQv22SXtSBs7nptI3UA  kKQ5h0SUyhq0PMRXoql0tQ                5   \n",
       "\n",
       "  reviewer_full short name  gender  \n",
       "0      Amber S.      amber  Female  \n",
       "1    Tiffany N.    tiffany  Female  \n",
       "2      Holly P.      holly  Female  \n",
       "3    Valerie S.    valerie  Female  \n",
       "4     Joanne C.     joanne  Female  "
      ]
     },
     "execution_count": 22,
     "metadata": {},
     "output_type": "execute_result"
    }
   ],
   "source": [
    "# Specify the file to write to\n",
    "df_rev_total = df_rev_total.rename(columns={'rating':'reviewer_rating', 'name':'reviewer_full'})\n",
    "output_path = os.path.join(\"output\", \"review_by_gender_data_all.csv\")\n",
    "df_rev_total.to_csv(output_path)\n",
    "\n",
    "rev_gender_count = df_rev_total.review_id.count()\n",
    "print(f\"Total reviews with gender: {rev_gender_count}\")\n",
    "\n",
    "# Specify the file to write to\n",
    "output_path = os.path.join(\"output\", \"review_data_all.csv\")\n",
    "df_rev_total.to_csv(output_path)\n",
    "\n",
    "df_rev_total.head()"
   ]
  },
  {
   "cell_type": "code",
   "execution_count": 23,
   "metadata": {},
   "outputs": [],
   "source": [
    "df_total = pd.merge(df_rev_total, df_bus_unique,on=('business_id'))\n",
    "\n",
    "# Save a version of the final data used in the presentation in case you need to rerun it\n",
    "# df_total = pd.read_csv('output/total_everything_backup.csv')\n",
    "df_total = df_total.drop_duplicates()\n",
    "# df_total.count()"
   ]
  },
  {
   "cell_type": "code",
   "execution_count": 24,
   "metadata": {},
   "outputs": [
    {
     "name": "stdout",
     "output_type": "stream",
     "text": [
      "Total reviews: 2743\n"
     ]
    },
    {
     "data": {
      "text/html": [
       "<div>\n",
       "<style scoped>\n",
       "    .dataframe tbody tr th:only-of-type {\n",
       "        vertical-align: middle;\n",
       "    }\n",
       "\n",
       "    .dataframe tbody tr th {\n",
       "        vertical-align: top;\n",
       "    }\n",
       "\n",
       "    .dataframe thead th {\n",
       "        text-align: right;\n",
       "    }\n",
       "</style>\n",
       "<table border=\"1\" class=\"dataframe\">\n",
       "  <thead>\n",
       "    <tr style=\"text-align: right;\">\n",
       "      <th></th>\n",
       "      <th>index</th>\n",
       "      <th>business_id</th>\n",
       "      <th>review_id</th>\n",
       "      <th>reviewer_rating</th>\n",
       "      <th>reviewer_full</th>\n",
       "      <th>short name</th>\n",
       "      <th>gender</th>\n",
       "      <th>name</th>\n",
       "      <th>price</th>\n",
       "      <th>rating</th>\n",
       "      <th>review_count</th>\n",
       "      <th>zip_code</th>\n",
       "    </tr>\n",
       "  </thead>\n",
       "  <tbody>\n",
       "    <tr>\n",
       "      <th>0</th>\n",
       "      <td>0</td>\n",
       "      <td>-DrR38H1Abk0wCyu9XOLug</td>\n",
       "      <td>ZSXojEQF9VbhD_h3K-4bmg</td>\n",
       "      <td>5</td>\n",
       "      <td>Amber S.</td>\n",
       "      <td>amber</td>\n",
       "      <td>Female</td>\n",
       "      <td>Sweet Maple</td>\n",
       "      <td>$$</td>\n",
       "      <td>4.0</td>\n",
       "      <td>3588</td>\n",
       "      <td>94115</td>\n",
       "    </tr>\n",
       "    <tr>\n",
       "      <th>2</th>\n",
       "      <td>1</td>\n",
       "      <td>-DrR38H1Abk0wCyu9XOLug</td>\n",
       "      <td>6YtIAi2jrOWx3yvM9HcJEw</td>\n",
       "      <td>4</td>\n",
       "      <td>Tiffany N.</td>\n",
       "      <td>tiffany</td>\n",
       "      <td>Female</td>\n",
       "      <td>Sweet Maple</td>\n",
       "      <td>$$</td>\n",
       "      <td>4.0</td>\n",
       "      <td>3588</td>\n",
       "      <td>94115</td>\n",
       "    </tr>\n",
       "    <tr>\n",
       "      <th>4</th>\n",
       "      <td>2</td>\n",
       "      <td>-DrR38H1Abk0wCyu9XOLug</td>\n",
       "      <td>2j1t2s7Mu39N3d0c-SYSOA</td>\n",
       "      <td>4</td>\n",
       "      <td>Holly P.</td>\n",
       "      <td>holly</td>\n",
       "      <td>Female</td>\n",
       "      <td>Sweet Maple</td>\n",
       "      <td>$$</td>\n",
       "      <td>4.0</td>\n",
       "      <td>3588</td>\n",
       "      <td>94115</td>\n",
       "    </tr>\n",
       "    <tr>\n",
       "      <th>6</th>\n",
       "      <td>0</td>\n",
       "      <td>-FOAQv22SXtSBs7nptI3UA</td>\n",
       "      <td>s_NXa4ISlDWd_C0bALRbnQ</td>\n",
       "      <td>5</td>\n",
       "      <td>Valerie S.</td>\n",
       "      <td>valerie</td>\n",
       "      <td>Female</td>\n",
       "      <td>Serious Pie</td>\n",
       "      <td>$$</td>\n",
       "      <td>4.0</td>\n",
       "      <td>4083</td>\n",
       "      <td>98121</td>\n",
       "    </tr>\n",
       "    <tr>\n",
       "      <th>7</th>\n",
       "      <td>1</td>\n",
       "      <td>-FOAQv22SXtSBs7nptI3UA</td>\n",
       "      <td>kKQ5h0SUyhq0PMRXoql0tQ</td>\n",
       "      <td>5</td>\n",
       "      <td>Joanne C.</td>\n",
       "      <td>joanne</td>\n",
       "      <td>Female</td>\n",
       "      <td>Serious Pie</td>\n",
       "      <td>$$</td>\n",
       "      <td>4.0</td>\n",
       "      <td>4083</td>\n",
       "      <td>98121</td>\n",
       "    </tr>\n",
       "  </tbody>\n",
       "</table>\n",
       "</div>"
      ],
      "text/plain": [
       "   index             business_id               review_id  reviewer_rating  \\\n",
       "0      0  -DrR38H1Abk0wCyu9XOLug  ZSXojEQF9VbhD_h3K-4bmg                5   \n",
       "2      1  -DrR38H1Abk0wCyu9XOLug  6YtIAi2jrOWx3yvM9HcJEw                4   \n",
       "4      2  -DrR38H1Abk0wCyu9XOLug  2j1t2s7Mu39N3d0c-SYSOA                4   \n",
       "6      0  -FOAQv22SXtSBs7nptI3UA  s_NXa4ISlDWd_C0bALRbnQ                5   \n",
       "7      1  -FOAQv22SXtSBs7nptI3UA  kKQ5h0SUyhq0PMRXoql0tQ                5   \n",
       "\n",
       "  reviewer_full short name  gender         name price  rating  review_count  \\\n",
       "0      Amber S.      amber  Female  Sweet Maple    $$     4.0          3588   \n",
       "2    Tiffany N.    tiffany  Female  Sweet Maple    $$     4.0          3588   \n",
       "4      Holly P.      holly  Female  Sweet Maple    $$     4.0          3588   \n",
       "6    Valerie S.    valerie  Female  Serious Pie    $$     4.0          4083   \n",
       "7     Joanne C.     joanne  Female  Serious Pie    $$     4.0          4083   \n",
       "\n",
       "  zip_code  \n",
       "0    94115  \n",
       "2    94115  \n",
       "4    94115  \n",
       "6    98121  \n",
       "7    98121  "
      ]
     },
     "execution_count": 24,
     "metadata": {},
     "output_type": "execute_result"
    }
   ],
   "source": [
    "# Specify the file to write to\n",
    "output_path = os.path.join(\"output\", \"total_everything_all.csv\")\n",
    "df_total.to_csv(output_path)\n",
    "\n",
    "total_count = df_total.review_id.count()\n",
    "print(f\"Total reviews: {total_count}\")\n",
    "df_total.head()"
   ]
  },
  {
   "cell_type": "code",
   "execution_count": 37,
   "metadata": {},
   "outputs": [],
   "source": [
    "# df_total = pd.read_csv('output/total_everything_all.csv')\n",
    "df_total['price_num'] = df_total['price']\n",
    "df_total['price_num'] = df_total['price_num'].replace(\n",
    "    {'$':1,'$$':2,'$$$':3,'$$$$':4})"
   ]
  },
  {
   "cell_type": "code",
   "execution_count": 38,
   "metadata": {},
   "outputs": [
    {
     "data": {
      "text/plain": [
       "$$      1574\n",
       "$        730\n",
       "$$$      276\n",
       "$$$$      99\n",
       "Name: price, dtype: int64"
      ]
     },
     "execution_count": 38,
     "metadata": {},
     "output_type": "execute_result"
    }
   ],
   "source": [
    "df_total['price'].value_counts()"
   ]
  },
  {
   "cell_type": "code",
   "execution_count": 39,
   "metadata": {},
   "outputs": [],
   "source": [
    "# Specify the file to write to\n",
    "output_path = os.path.join(\"output\", \"total_everything_all.csv\")\n",
    "df_total.to_csv(output_path)"
   ]
  },
  {
   "cell_type": "code",
   "execution_count": 28,
   "metadata": {},
   "outputs": [
    {
     "name": "stdout",
     "output_type": "stream",
     "text": [
      "Female    1707\n",
      "Male      1036\n",
      "Name: gender, dtype: int64\n"
     ]
    },
    {
     "data": {
      "image/png": "[encoded data removed]",
      "text/plain": [
       "<Figure size 432x288 with 1 Axes>"
      ]
     },
     "metadata": {},
     "output_type": "display_data"
    }
   ],
   "source": [
    "total_reviews = df_total['gender'].value_counts()\n",
    "\n",
    "plt.clf()\n",
    "colors = ['lightskyblue', 'lightcoral']\n",
    "labels = ['Women','Men']\n",
    "patches, texts = plt.pie(total_reviews, colors=colors, startangle=90)\n",
    "plt.legend(patches, labels, loc=\"best\")\n",
    "plt.pie(total_reviews, colors=colors, autopct=\"%1.1f%%\")\n",
    "plt.axis('equal')\n",
    "# plt.tight_layout()\n",
    "plt.title(\"Yelp reviews Women vs Men\")\n",
    "plt.savefig(\"Images/Women_vw_Men_all.png\")\n",
    "\n",
    "print(total_reviews)\n"
   ]
  },
  {
   "cell_type": "code",
   "execution_count": 29,
   "metadata": {
    "scrolled": true
   },
   "outputs": [
    {
     "data": {
      "text/plain": [
       "price\n",
       "$       288\n",
       "$$      585\n",
       "$$$      98\n",
       "$$$$     41\n",
       "Name: price, dtype: int64"
      ]
     },
     "execution_count": 29,
     "metadata": {},
     "output_type": "execute_result"
    },
    {
     "data": {
      "image/png": "[encoded data removed]",
      "text/plain": [
       "<Figure size 432x288 with 1 Axes>"
      ]
     },
     "metadata": {},
     "output_type": "display_data"
    }
   ],
   "source": [
    "# use line below to bypass API calls\n",
    "# df_total = pd.read_csv('output/total_everything_all.csv')\n",
    "\n",
    "men_sizes = []\n",
    "df_only_men = df_total.loc[(df_total[\"gender\"] == 'Male')]\n",
    "\n",
    "df_only_men_price_count = df_only_men.loc[(df_only_men[\"price\"] != '*')]\n",
    "# df_only_men_price_count = df_only_men.loc[(df_only_men[\"reviewer_rating\"] != '*')]\n",
    "\n",
    "df_only_men_price_count_gb = df_only_men_price_count.groupby(['price'])\n",
    "# df_only_men_price_count_gb = df_only_men_price_count.groupby(['reviewer_rating'])\n",
    "\n",
    "men_sizes = df_only_men_price_count_gb['price'].count()\n",
    "# men_sizes = df_only_men_price_count_gb['reviewer_rating'].count()\n",
    "\n",
    "# avg_rating_men = df_only_men_price_count['reviewer_rating'].mean()\n",
    "# print(avg_rating_men)\n",
    "\n",
    "plt.clf()\n",
    "colors = ['yellowgreen', 'gold', 'lightskyblue', 'lightcoral']\n",
    "labels = ['\\$','\\$\\$','\\$\\$\\$','\\$\\$\\$\\$']\n",
    "\n",
    "patches, texts = plt.pie(men_sizes, colors=colors, startangle=90)\n",
    "plt.legend(patches, labels, loc=\"best\")\n",
    "plt.pie(men_sizes, colors=colors, autopct=\"%1.1f%%\")\n",
    "plt.axis('equal')\n",
    "# plt.tight_layout()\n",
    "plt.title(\"Random Yelp reviews by Men by Price range\")\n",
    "plt.savefig(\"Images/Men_Price_Reviews_all.png\")\n",
    "# df_only_men_price_count['reviewer_rating'].value_counts()\n",
    "men_sizes\n",
    "# df_total.head(50)"
   ]
  },
  {
   "cell_type": "code",
   "execution_count": 30,
   "metadata": {},
   "outputs": [
    {
     "name": "stdout",
     "output_type": "stream",
     "text": [
      "4.228178090216755\n"
     ]
    },
    {
     "data": {
      "image/png": "[encoded data removed]",
      "text/plain": [
       "<Figure size 432x288 with 1 Axes>"
      ]
     },
     "metadata": {},
     "output_type": "display_data"
    },
    {
     "data": {
      "text/plain": [
       "price\n",
       "$       442\n",
       "$$      989\n",
       "$$$     178\n",
       "$$$$     58\n",
       "Name: price, dtype: int64"
      ]
     },
     "execution_count": 30,
     "metadata": {},
     "output_type": "execute_result"
    }
   ],
   "source": [
    "women_sizes = []\n",
    "df_only_women = df_total.loc[(df_total[\"gender\"] == 'Female')]\n",
    "\n",
    "df_only_women_price_count = df_only_women.loc[(df_only_women[\"price\"] != '*')]\n",
    "# df_only_women_price_count = df_only_women.loc[(df_only_women[\"reviewer_rating\"] != '*')]\n",
    "\n",
    "df_only_women_price_count_gb = df_only_women_price_count.groupby(['price'])\n",
    "# df_only_women_price_count_gb = df_only_women_price_count.groupby(['reviewer_rating'])\n",
    "\n",
    "women_sizes = df_only_women_price_count_gb['price'].count()\n",
    "# women_sizes = df_only_women_price_count_gb['reviewer_rating'].count()\n",
    "\n",
    "avg_rating_women = df_only_women_price_count['rating'].mean()\n",
    "print(avg_rating_women)\n",
    "\n",
    "plt.clf()\n",
    "colors = ['yellowgreen', 'gold', 'lightskyblue', 'lightcoral']\n",
    "labels = ['\\$','\\$\\$','\\$\\$\\$','\\$\\$\\$\\$']\n",
    "patches, texts = plt.pie(men_sizes, colors=colors, startangle=90)\n",
    "plt.legend(patches, labels, loc=\"best\")\n",
    "plt.pie(women_sizes, colors=colors, autopct=\"%1.1f%%\")\n",
    "plt.axis('equal')\n",
    "# plt.tight_layout()\n",
    "plt.title(\"Random Yelp reviews by Women by Price range\")\n",
    "plt.savefig(\"Images/Women_Price_Reviews_all.png\")\n",
    "plt.show()\n",
    "women_sizes"
   ]
  },
  {
   "cell_type": "code",
   "execution_count": 31,
   "metadata": {},
   "outputs": [
    {
     "data": {
      "image/png": "[encoded data removed]",
      "text/plain": [
       "<Figure size 432x288 with 1 Axes>"
      ]
     },
     "metadata": {
      "needs_background": "light"
     },
     "output_type": "display_data"
    }
   ],
   "source": [
    "df_total_male = df_total.loc[df_total['gender']=='Male']\n",
    "df_total_female = df_total.loc[df_total['gender']=='Female']\n",
    "\n",
    "max_men = df_total_male['reviewer_rating'].count()\n",
    "df_total_female = df_total_female.iloc[0:max_men,:]\n",
    "\n",
    "df_total_m_f = df_total_male\n",
    "df_total_m_f = df_total_m_f.append(df_total_female)\n",
    "\n",
    "df_summary_reviews_gb = df_total_m_f.groupby(['reviewer_rating','gender'])\n",
    "df_summary_reviews = pd.DataFrame(df_summary_reviews_gb['review_id'].count())\n",
    "df_summary_pivot = df_summary_reviews.pivot_table('review_id','reviewer_rating','gender')\n",
    "df_summary_pivot\n",
    "n_groups = 5\n",
    "\n",
    "female = df_summary_pivot['Female'].astype(int)\n",
    "male = df_summary_pivot['Male'].astype(int)\n",
    "\n",
    "fig, ax = plt.subplots()\n",
    "\n",
    "index = np.arange(n_groups)\n",
    "bar_width = 0.35\n",
    "\n",
    "opacity = 0.75\n",
    "\n",
    "rects1 = plt.bar(index, male, bar_width,\n",
    "                 alpha=opacity,\n",
    "                 color='b',\n",
    "                 label='Male')\n",
    "\n",
    "rects2 = plt.bar(index + bar_width, female, bar_width,\n",
    "                 alpha=opacity,\n",
    "                 color='r',\n",
    "                 label='Female')\n",
    "\n",
    "plt.xlabel(\"Rating in stars\")\n",
    "plt.ylabel(\"Number of ratings\")\n",
    "plt.savefig(\"Images/Men_vs_Women_Rating.png\")\n",
    "plt.title(\"Men vs Women Ratings\")\n",
    "plt.xticks(index + bar_width / 2, ('*', '**', '***', '****', '*****'))\n",
    "plt.legend()\n",
    "\n",
    "plt.tight_layout()\n",
    "plt.show()"
   ]
  },
  {
   "cell_type": "code",
   "execution_count": 32,
   "metadata": {},
   "outputs": [
    {
     "data": {
      "text/plain": [
       "3678197.0"
      ]
     },
     "execution_count": 32,
     "metadata": {},
     "output_type": "execute_result"
    }
   ],
   "source": [
    "# df_total.head()\n",
    "df_zipcodes = df_total.groupby(['zip_code','gender'])\n",
    "df_zipcodes_count = pd.DataFrame(df_zipcodes['review_count'].sum())\n",
    "\n",
    "df_zipcodes_pivot = df_zipcodes_count.pivot_table('review_count','zip_code','gender')\n",
    "df_zipcodes_pivot = df_zipcodes_pivot.fillna(0)\n",
    "df_zipcodes_pivot['total'] = (df_zipcodes_pivot['Female']+df_zipcodes_pivot['Male'])\n",
    "df_zipcodes_pivot['pct_female'] = (df_zipcodes_pivot['Female'])/(df_zipcodes_pivot['Female']+df_zipcodes_pivot['Male'])\n",
    "df_zipcodes_pivot['pct_male'] = (df_zipcodes_pivot['Male'])/(df_zipcodes_pivot['Female']+df_zipcodes_pivot['Male'])\n",
    "\n",
    "# Specify the file to write to\n",
    "output_path = os.path.join(\"output\", \"reviewcount_gender_zipcode_all.csv\")\n",
    "df_zipcodes_pivot.to_csv(output_path)\n",
    "\n",
    "df_zipcodes_pivot.total.sum()"
   ]
  },
  {
   "cell_type": "code",
   "execution_count": 35,
   "metadata": {},
   "outputs": [
    {
     "name": "stdout",
     "output_type": "stream",
     "text": [
      "Average Female: price_num    1.866432\n",
      "dtype: float64, Average Male: price_num    1.849421\n",
      "dtype: float64\n"
     ]
    },
    {
     "data": {
      "text/plain": [
       "Ttest_indResult(statistic=array([0.56158157]), pvalue=array([0.57445976]))"
      ]
     },
     "execution_count": 35,
     "metadata": {},
     "output_type": "execute_result"
    }
   ],
   "source": [
    "# Run statistics for gender vs price\n",
    "female_price = df_total.loc[(df_total[\"gender\"]=='Female') , [\"price_num\"]]\n",
    "male_price = df_total.loc[(df_total[\"gender\"]=='Male'), [\"price_num\"]]\n",
    "\n",
    "female_price = female_price.fillna(0)\n",
    "male_price = male_price.fillna(0)\n",
    "\n",
    "fem_avg = female_price.mean()\n",
    "male_avg = male_price.mean()\n",
    "\n",
    "print(f\"Average Female: {fem_avg}, Average Male: {male_avg}\")\n",
    "stats.ttest_ind(female_price, male_price, equal_var=False)"
   ]
  },
  {
   "cell_type": "code",
   "execution_count": 36,
   "metadata": {},
   "outputs": [
    {
     "name": "stdout",
     "output_type": "stream",
     "text": [
      "Average Female: reviewer_rating    4.239602\n",
      "dtype: float64, Average Male: reviewer_rating    4.164093\n",
      "dtype: float64\n"
     ]
    },
    {
     "data": {
      "text/plain": [
       "Ttest_indResult(statistic=array([1.74664323]), pvalue=array([0.08084786]))"
      ]
     },
     "execution_count": 36,
     "metadata": {},
     "output_type": "execute_result"
    }
   ],
   "source": [
    "# Run statistics for gender vs rating\n",
    "female_rating = df_total.loc[df_total[\"gender\"]=='Female', [\"reviewer_rating\"]]\n",
    "male_rating = df_total.loc[df_total[\"gender\"]=='Male', [\"reviewer_rating\"]]\n",
    "\n",
    "fem_avg = female_rating.mean()\n",
    "male_avg = male_rating.mean()\n",
    "\n",
    "print(f\"Average Female: {fem_avg}, Average Male: {male_avg}\")\n",
    "\n",
    "stats.ttest_ind(female_rating, male_rating, equal_var=False)"
   ]
  }
 ],
 "metadata": {
  "kernelspec": {
   "display_name": "Python [conda env:PythonData]",
   "language": "python",
   "name": "conda-env-PythonData-py"
  },
  "language_info": {
   "codemirror_mode": {
    "name": "ipython",
    "version": 3
   },
   "file_extension": ".py",
   "mimetype": "text/x-python",
   "name": "python",
   "nbconvert_exporter": "python",
   "pygments_lexer": "ipython3",
   "version": "3.6.9"
  }
 },
 "nbformat": 4,
 "nbformat_minor": 2
}
