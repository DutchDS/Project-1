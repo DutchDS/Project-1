{
 "cells": [
  {
   "cell_type": "code",
   "execution_count": 1,
   "metadata": {},
   "outputs": [],
   "source": [
    "# Dependencies\n",
    "import numpy as np\n",
    "import pandas as pd\n",
    "import matplotlib.pyplot as plt\n",
    "import requests\n",
    "import os\n",
    "import json\n",
    "import pprint\n",
    "import scipy.stats as stats\n",
    "import urllib\n",
    "from urllib.parse import quote\n",
    "import re\n",
    "from config import yelp_key"
   ]
  },
  {
   "cell_type": "code",
   "execution_count": 3,
   "metadata": {},
   "outputs": [
    {
     "name": "stdout",
     "output_type": "stream",
     "text": [
      "Total zip codes: 100\n"
     ]
    },
    {
     "data": {
      "text/html": [
       "<div>\n",
       "<style scoped>\n",
       "    .dataframe tbody tr th:only-of-type {\n",
       "        vertical-align: middle;\n",
       "    }\n",
       "\n",
       "    .dataframe tbody tr th {\n",
       "        vertical-align: top;\n",
       "    }\n",
       "\n",
       "    .dataframe thead th {\n",
       "        text-align: right;\n",
       "    }\n",
       "</style>\n",
       "<table border=\"1\" class=\"dataframe\">\n",
       "  <thead>\n",
       "    <tr style=\"text-align: right;\">\n",
       "      <th></th>\n",
       "      <th>zip_code</th>\n",
       "      <th>city</th>\n",
       "      <th>latitude</th>\n",
       "      <th>longetude</th>\n",
       "      <th>population</th>\n",
       "      <th>People / Sq. Mile</th>\n",
       "      <th>National Rank</th>\n",
       "      <th>number</th>\n",
       "      <th>State</th>\n",
       "    </tr>\n",
       "  </thead>\n",
       "  <tbody>\n",
       "    <tr>\n",
       "      <th>488</th>\n",
       "      <td>96814</td>\n",
       "      <td>Honolulu</td>\n",
       "      <td>21.296008</td>\n",
       "      <td>-157.846648</td>\n",
       "      <td>13,906</td>\n",
       "      <td>11,456.58</td>\n",
       "      <td>#489</td>\n",
       "      <td>489</td>\n",
       "      <td>Hawaii</td>\n",
       "    </tr>\n",
       "    <tr>\n",
       "      <th>17</th>\n",
       "      <td>11226</td>\n",
       "      <td>Brooklyn</td>\n",
       "      <td>40.646430</td>\n",
       "      <td>-73.956866</td>\n",
       "      <td>106154</td>\n",
       "      <td>81064.34</td>\n",
       "      <td>#18</td>\n",
       "      <td>18</td>\n",
       "      <td>New York</td>\n",
       "    </tr>\n",
       "    <tr>\n",
       "      <th>197</th>\n",
       "      <td>11429</td>\n",
       "      <td>Queens Village</td>\n",
       "      <td>40.709681</td>\n",
       "      <td>-73.738399</td>\n",
       "      <td>27,647</td>\n",
       "      <td>20,794.49</td>\n",
       "      <td>#198</td>\n",
       "      <td>198</td>\n",
       "      <td>New York</td>\n",
       "    </tr>\n",
       "    <tr>\n",
       "      <th>246</th>\n",
       "      <td>92701</td>\n",
       "      <td>Santa Ana</td>\n",
       "      <td>33.748478</td>\n",
       "      <td>-117.858918</td>\n",
       "      <td>58,151</td>\n",
       "      <td>17,983.75</td>\n",
       "      <td>#247</td>\n",
       "      <td>247</td>\n",
       "      <td>California</td>\n",
       "    </tr>\n",
       "    <tr>\n",
       "      <th>141</th>\n",
       "      <td>96826</td>\n",
       "      <td>Honolulu</td>\n",
       "      <td>21.292214</td>\n",
       "      <td>-157.826180</td>\n",
       "      <td>31,187</td>\n",
       "      <td>25,649.59</td>\n",
       "      <td>#142</td>\n",
       "      <td>142</td>\n",
       "      <td>Hawaii</td>\n",
       "    </tr>\n",
       "  </tbody>\n",
       "</table>\n",
       "</div>"
      ],
      "text/plain": [
       "     zip_code            city   latitude   longetude population  \\\n",
       "488     96814        Honolulu  21.296008 -157.846648     13,906   \n",
       "17      11226        Brooklyn  40.646430  -73.956866     106154   \n",
       "197     11429  Queens Village  40.709681  -73.738399     27,647   \n",
       "246     92701       Santa Ana  33.748478 -117.858918     58,151   \n",
       "141     96826        Honolulu  21.292214 -157.826180     31,187   \n",
       "\n",
       "    People / Sq. Mile National Rank  number        State  \n",
       "488         11,456.58          #489     489       Hawaii  \n",
       "17           81064.34           #18      18     New York  \n",
       "197         20,794.49          #198     198     New York  \n",
       "246         17,983.75          #247     247   California  \n",
       "141         25,649.59          #142     142       Hawaii  "
      ]
     },
     "execution_count": 3,
     "metadata": {},
     "output_type": "execute_result"
    }
   ],
   "source": [
    "#File with 500 largest population ZIP codes in the USA Code data\n",
    "file = 'input/zipcodes_all.csv'\n",
    "\n",
    "df_list = pd.read_csv(file)\n",
    "# df_zip = df_list.iloc[0:100,:]\n",
    "# Randomly select 100 zipcodes\n",
    "df_zip = df_list.sample(100)\n",
    "\n",
    "zip_count = df_zip.zip_code.count()\n",
    "print(f\"Total zip codes: {zip_count}\")\n",
    "df_zip.head()"
   ]
  },
  {
   "cell_type": "code",
   "execution_count": 4,
   "metadata": {},
   "outputs": [],
   "source": [
    "# Get ready to import yelp data\n",
    "API_KEY=yelp_key\n",
    "\n",
    "API_HOST = 'https://api.yelp.com'\n",
    "SEARCH_PATH = '/v3/businesses/search'\n",
    "MATCH_PATH = '/v3/businesses/matches'\n",
    "SEARCH_PHONE_PATH = '/v3/businesses/search/phone'\n",
    "BUSINESS_PATH = '/v3/businesses/'  # Business ID will come after slash"
   ]
  },
  {
   "cell_type": "code",
   "execution_count": 5,
   "metadata": {},
   "outputs": [],
   "source": [
    "def request(host, path, api_key, url_params=None):\n",
    "    url_params = url_params or {}\n",
    "    url = '{0}{1}'.format(host, quote(path.encode('utf8')))\n",
    "    headers = {\n",
    "        'Authorization': 'Bearer %s' % api_key,\n",
    "    }\n",
    "#     print(u'Querying {0} ...'.format(url))\n",
    "#     print(headers)\n",
    "\n",
    "    response = requests.request('GET', url, headers=headers, params=url_params)\n",
    "    return response.json() #, my_url"
   ]
  },
  {
   "cell_type": "code",
   "execution_count": 6,
   "metadata": {},
   "outputs": [],
   "source": [
    "df_businesses = pd.DataFrame()\n",
    "df_bus_total = pd.DataFrame()\n",
    "prices = []\n",
    "dict_total = {}\n",
    "\n",
    "for index, row in df_zip.iterrows():\n",
    "    row_zip = row[0]\n",
    "    row_city = row[1]\n",
    "    row_lat = row[2]\n",
    "    row_long = row[3]\n",
    "    #     print(index, row_zip, row_lat, row_long)\n",
    "    url_params={\"city\":row_city, 'zip_code':row_zip,'latitude':row_lat,'longitude':row_long}\n",
    "    dict_businesses = request(API_HOST, SEARCH_PATH, API_KEY, url_params)\n",
    "    try:\n",
    "        df_businesses['business_id']=[business[\"id\"] for business in dict_businesses['businesses']]\n",
    "        df_businesses['name']=[business[\"name\"]for business in dict_businesses['businesses']]\n",
    "        df_businesses['rating']=[business[\"rating\"]for business in dict_businesses['businesses']]\n",
    "        df_businesses['zip_code']=[business['location'][\"zip_code\"]for business in dict_businesses['businesses']]\n",
    "        df_businesses['review_count']=[business[\"review_count\"]for business in dict_businesses['businesses']]\n",
    "        df_businesses['price']=[business[\"price\"]for business in dict_businesses['businesses']]\n",
    "    except:\n",
    "        pass\n",
    "    \n",
    "    df_bus_total = df_bus_total.append(df_businesses)"
   ]
  },
  {
   "cell_type": "code",
   "execution_count": 7,
   "metadata": {},
   "outputs": [
    {
     "ename": "KeyError",
     "evalue": "'price'",
     "output_type": "error",
     "traceback": [
      "\u001b[1;31m---------------------------------------------------------------------------\u001b[0m",
      "\u001b[1;31mKeyError\u001b[0m                                  Traceback (most recent call last)",
      "\u001b[1;32m~\\Anaconda3\\envs\\PythonData\\lib\\site-packages\\pandas\\core\\indexes\\base.py\u001b[0m in \u001b[0;36mget_loc\u001b[1;34m(self, key, method, tolerance)\u001b[0m\n\u001b[0;32m   2896\u001b[0m             \u001b[1;32mtry\u001b[0m\u001b[1;33m:\u001b[0m\u001b[1;33m\u001b[0m\u001b[1;33m\u001b[0m\u001b[0m\n\u001b[1;32m-> 2897\u001b[1;33m                 \u001b[1;32mreturn\u001b[0m \u001b[0mself\u001b[0m\u001b[1;33m.\u001b[0m\u001b[0m_engine\u001b[0m\u001b[1;33m.\u001b[0m\u001b[0mget_loc\u001b[0m\u001b[1;33m(\u001b[0m\u001b[0mkey\u001b[0m\u001b[1;33m)\u001b[0m\u001b[1;33m\u001b[0m\u001b[1;33m\u001b[0m\u001b[0m\n\u001b[0m\u001b[0;32m   2898\u001b[0m             \u001b[1;32mexcept\u001b[0m \u001b[0mKeyError\u001b[0m\u001b[1;33m:\u001b[0m\u001b[1;33m\u001b[0m\u001b[1;33m\u001b[0m\u001b[0m\n",
      "\u001b[1;32mpandas\\_libs\\index.pyx\u001b[0m in \u001b[0;36mpandas._libs.index.IndexEngine.get_loc\u001b[1;34m()\u001b[0m\n",
      "\u001b[1;32mpandas\\_libs\\index.pyx\u001b[0m in \u001b[0;36mpandas._libs.index.IndexEngine.get_loc\u001b[1;34m()\u001b[0m\n",
      "\u001b[1;32mpandas\\_libs\\hashtable_class_helper.pxi\u001b[0m in \u001b[0;36mpandas._libs.hashtable.PyObjectHashTable.get_item\u001b[1;34m()\u001b[0m\n",
      "\u001b[1;32mpandas\\_libs\\hashtable_class_helper.pxi\u001b[0m in \u001b[0;36mpandas._libs.hashtable.PyObjectHashTable.get_item\u001b[1;34m()\u001b[0m\n",
      "\u001b[1;31mKeyError\u001b[0m: 'price'",
      "\nDuring handling of the above exception, another exception occurred:\n",
      "\u001b[1;31mKeyError\u001b[0m                                  Traceback (most recent call last)",
      "\u001b[1;32m<ipython-input-7-4a7099016a56>\u001b[0m in \u001b[0;36m<module>\u001b[1;34m\u001b[0m\n\u001b[1;32m----> 1\u001b[1;33m \u001b[0mdf_bus_total\u001b[0m\u001b[1;33m[\u001b[0m\u001b[1;34m'price'\u001b[0m\u001b[1;33m]\u001b[0m\u001b[1;33m.\u001b[0m\u001b[0mvalue_counts\u001b[0m\u001b[1;33m(\u001b[0m\u001b[1;33m)\u001b[0m\u001b[1;33m\u001b[0m\u001b[1;33m\u001b[0m\u001b[0m\n\u001b[0m",
      "\u001b[1;32m~\\Anaconda3\\envs\\PythonData\\lib\\site-packages\\pandas\\core\\frame.py\u001b[0m in \u001b[0;36m__getitem__\u001b[1;34m(self, key)\u001b[0m\n\u001b[0;32m   2993\u001b[0m             \u001b[1;32mif\u001b[0m \u001b[0mself\u001b[0m\u001b[1;33m.\u001b[0m\u001b[0mcolumns\u001b[0m\u001b[1;33m.\u001b[0m\u001b[0mnlevels\u001b[0m \u001b[1;33m>\u001b[0m \u001b[1;36m1\u001b[0m\u001b[1;33m:\u001b[0m\u001b[1;33m\u001b[0m\u001b[1;33m\u001b[0m\u001b[0m\n\u001b[0;32m   2994\u001b[0m                 \u001b[1;32mreturn\u001b[0m \u001b[0mself\u001b[0m\u001b[1;33m.\u001b[0m\u001b[0m_getitem_multilevel\u001b[0m\u001b[1;33m(\u001b[0m\u001b[0mkey\u001b[0m\u001b[1;33m)\u001b[0m\u001b[1;33m\u001b[0m\u001b[1;33m\u001b[0m\u001b[0m\n\u001b[1;32m-> 2995\u001b[1;33m             \u001b[0mindexer\u001b[0m \u001b[1;33m=\u001b[0m \u001b[0mself\u001b[0m\u001b[1;33m.\u001b[0m\u001b[0mcolumns\u001b[0m\u001b[1;33m.\u001b[0m\u001b[0mget_loc\u001b[0m\u001b[1;33m(\u001b[0m\u001b[0mkey\u001b[0m\u001b[1;33m)\u001b[0m\u001b[1;33m\u001b[0m\u001b[1;33m\u001b[0m\u001b[0m\n\u001b[0m\u001b[0;32m   2996\u001b[0m             \u001b[1;32mif\u001b[0m \u001b[0mis_integer\u001b[0m\u001b[1;33m(\u001b[0m\u001b[0mindexer\u001b[0m\u001b[1;33m)\u001b[0m\u001b[1;33m:\u001b[0m\u001b[1;33m\u001b[0m\u001b[1;33m\u001b[0m\u001b[0m\n\u001b[0;32m   2997\u001b[0m                 \u001b[0mindexer\u001b[0m \u001b[1;33m=\u001b[0m \u001b[1;33m[\u001b[0m\u001b[0mindexer\u001b[0m\u001b[1;33m]\u001b[0m\u001b[1;33m\u001b[0m\u001b[1;33m\u001b[0m\u001b[0m\n",
      "\u001b[1;32m~\\Anaconda3\\envs\\PythonData\\lib\\site-packages\\pandas\\core\\indexes\\base.py\u001b[0m in \u001b[0;36mget_loc\u001b[1;34m(self, key, method, tolerance)\u001b[0m\n\u001b[0;32m   2897\u001b[0m                 \u001b[1;32mreturn\u001b[0m \u001b[0mself\u001b[0m\u001b[1;33m.\u001b[0m\u001b[0m_engine\u001b[0m\u001b[1;33m.\u001b[0m\u001b[0mget_loc\u001b[0m\u001b[1;33m(\u001b[0m\u001b[0mkey\u001b[0m\u001b[1;33m)\u001b[0m\u001b[1;33m\u001b[0m\u001b[1;33m\u001b[0m\u001b[0m\n\u001b[0;32m   2898\u001b[0m             \u001b[1;32mexcept\u001b[0m \u001b[0mKeyError\u001b[0m\u001b[1;33m:\u001b[0m\u001b[1;33m\u001b[0m\u001b[1;33m\u001b[0m\u001b[0m\n\u001b[1;32m-> 2899\u001b[1;33m                 \u001b[1;32mreturn\u001b[0m \u001b[0mself\u001b[0m\u001b[1;33m.\u001b[0m\u001b[0m_engine\u001b[0m\u001b[1;33m.\u001b[0m\u001b[0mget_loc\u001b[0m\u001b[1;33m(\u001b[0m\u001b[0mself\u001b[0m\u001b[1;33m.\u001b[0m\u001b[0m_maybe_cast_indexer\u001b[0m\u001b[1;33m(\u001b[0m\u001b[0mkey\u001b[0m\u001b[1;33m)\u001b[0m\u001b[1;33m)\u001b[0m\u001b[1;33m\u001b[0m\u001b[1;33m\u001b[0m\u001b[0m\n\u001b[0m\u001b[0;32m   2900\u001b[0m         \u001b[0mindexer\u001b[0m \u001b[1;33m=\u001b[0m \u001b[0mself\u001b[0m\u001b[1;33m.\u001b[0m\u001b[0mget_indexer\u001b[0m\u001b[1;33m(\u001b[0m\u001b[1;33m[\u001b[0m\u001b[0mkey\u001b[0m\u001b[1;33m]\u001b[0m\u001b[1;33m,\u001b[0m \u001b[0mmethod\u001b[0m\u001b[1;33m=\u001b[0m\u001b[0mmethod\u001b[0m\u001b[1;33m,\u001b[0m \u001b[0mtolerance\u001b[0m\u001b[1;33m=\u001b[0m\u001b[0mtolerance\u001b[0m\u001b[1;33m)\u001b[0m\u001b[1;33m\u001b[0m\u001b[1;33m\u001b[0m\u001b[0m\n\u001b[0;32m   2901\u001b[0m         \u001b[1;32mif\u001b[0m \u001b[0mindexer\u001b[0m\u001b[1;33m.\u001b[0m\u001b[0mndim\u001b[0m \u001b[1;33m>\u001b[0m \u001b[1;36m1\u001b[0m \u001b[1;32mor\u001b[0m \u001b[0mindexer\u001b[0m\u001b[1;33m.\u001b[0m\u001b[0msize\u001b[0m \u001b[1;33m>\u001b[0m \u001b[1;36m1\u001b[0m\u001b[1;33m:\u001b[0m\u001b[1;33m\u001b[0m\u001b[1;33m\u001b[0m\u001b[0m\n",
      "\u001b[1;32mpandas\\_libs\\index.pyx\u001b[0m in \u001b[0;36mpandas._libs.index.IndexEngine.get_loc\u001b[1;34m()\u001b[0m\n",
      "\u001b[1;32mpandas\\_libs\\index.pyx\u001b[0m in \u001b[0;36mpandas._libs.index.IndexEngine.get_loc\u001b[1;34m()\u001b[0m\n",
      "\u001b[1;32mpandas\\_libs\\hashtable_class_helper.pxi\u001b[0m in \u001b[0;36mpandas._libs.hashtable.PyObjectHashTable.get_item\u001b[1;34m()\u001b[0m\n",
      "\u001b[1;32mpandas\\_libs\\hashtable_class_helper.pxi\u001b[0m in \u001b[0;36mpandas._libs.hashtable.PyObjectHashTable.get_item\u001b[1;34m()\u001b[0m\n",
      "\u001b[1;31mKeyError\u001b[0m: 'price'"
     ]
    }
   ],
   "source": [
    "df_bus_total['price'].value_counts()"
   ]
  },
  {
   "cell_type": "code",
   "execution_count": null,
   "metadata": {},
   "outputs": [],
   "source": [
    "# Specify the file to write to\n",
    "output_path = os.path.join(\"output\", \"business_data_all.csv\")\n",
    "df_bus_total.to_csv(output_path)"
   ]
  },
  {
   "cell_type": "code",
   "execution_count": null,
   "metadata": {},
   "outputs": [],
   "source": [
    "# Drop duplicates\n",
    "df_bus_total = df_bus_total.sort_values('business_id')\n",
    "df_bus_total = df_bus_total.reset_index(drop=True)\n",
    "df_bus_unique = df_bus_total.drop_duplicates(['business_id'], keep='first')"
   ]
  },
  {
   "cell_type": "code",
   "execution_count": null,
   "metadata": {},
   "outputs": [],
   "source": [
    "bus_uni_count = df_bus_unique.business_id.count()\n",
    "print(f\"Total unique businesses: {bus_uni_count}\")\n",
    "df_bus_unique.head()\n",
    "# Optionally use a smaller data set: df_bus_unique_small = df_bus_unique[1:5]"
   ]
  },
  {
   "cell_type": "code",
   "execution_count": null,
   "metadata": {},
   "outputs": [],
   "source": [
    "# Specify the file to write to\n",
    "output_path = os.path.join(\"output\", \"business_unique_data_all.csv\")\n",
    "df_bus_unique.to_csv(output_path)"
   ]
  },
  {
   "cell_type": "code",
   "execution_count": null,
   "metadata": {},
   "outputs": [],
   "source": [
    "# Get reviews for each unique business\n",
    "dict_rev_total = {}\n",
    "dict_reviews = {}\n",
    "df_reviews = pd.DataFrame()\n",
    "df_rev_total = pd.DataFrame()\n",
    "\n",
    "for index, row in df_bus_unique.iterrows():\n",
    "    row_bus = row[0]\n",
    "    REVIEW_PATH = BUSINESS_PATH + row_bus + '/reviews'\n",
    "    dict_reviews = request(API_HOST, REVIEW_PATH, API_KEY)\n",
    "    try:\n",
    "        df_reviews['business_id']= [row_bus for review in dict_reviews['reviews']]\n",
    "        df_reviews['review_id']=[review[\"id\"]for review in dict_reviews['reviews']]\n",
    "        df_reviews['rating']=[review[\"rating\"]for review in dict_reviews['reviews']]\n",
    "        df_reviews['name']=[review['user'][\"name\"]for review in dict_reviews['reviews']]\n",
    "        df_rev_total = df_rev_total.append(df_reviews)\n",
    "    except:\n",
    "        pass"
   ]
  },
  {
   "cell_type": "code",
   "execution_count": null,
   "metadata": {},
   "outputs": [],
   "source": [
    "rev_uni_count = df_rev_total.review_id.count()\n",
    "print(f\"Total reviews: {rev_uni_count}\")\n",
    "df_rev_total.head()"
   ]
  },
  {
   "cell_type": "code",
   "execution_count": null,
   "metadata": {},
   "outputs": [],
   "source": [
    "#COMMENT OUT THE RESET BELOW IF RAN MULTIPLE TIMES!!!!\n",
    "\n",
    "df_rev_total.reset_index(inplace=True)\n",
    "\n",
    "# create a list with names per review and take only the name before the 'space' as a first name\n",
    "df_rev_total['short name']=\"\"\n",
    "short_name = []\n",
    "for index, row in df_rev_total.iterrows():\n",
    "#     print(row)\n",
    "    short_name = re.split(\"( )\",row[4])\n",
    "#     print(short_name)\n",
    "    df_rev_total.iloc[index, 5] = short_name[0].lower()"
   ]
  },
  {
   "cell_type": "code",
   "execution_count": null,
   "metadata": {},
   "outputs": [],
   "source": [
    "rev_uni_count = df_rev_total.review_id.count()\n",
    "print(f\"Total reviews: {rev_uni_count}\")\n",
    "df_rev_total.head()"
   ]
  },
  {
   "cell_type": "code",
   "execution_count": null,
   "metadata": {},
   "outputs": [],
   "source": [
    "file = 'input/gender names.csv'\n",
    "df = pd.read_csv(file)\n",
    "df = df.set_index('first_name')\n",
    "df.head()"
   ]
  },
  {
   "cell_type": "code",
   "execution_count": null,
   "metadata": {},
   "outputs": [],
   "source": [
    "df_rev_total['gender']=\"\"\n",
    "gender = []\n",
    "for index, row in df_rev_total.iterrows():\n",
    "    try:\n",
    "        gender = df.loc[str(row[5]),'gender']\n",
    "    #     print(gender)\n",
    "        df_rev_total.iloc[index, 6] = gender\n",
    "    except:\n",
    "        pass\n",
    "df_rev_total.head()\n",
    "\n",
    "# Drop reviews with where gender isn't found\n",
    "df_rev_total = df_rev_total.loc[(df_rev_total['gender']!=\"\") & (df_rev_total['gender']!=\"Both\") & (df_rev_total['gender']!=\"Not Known\")]"
   ]
  },
  {
   "cell_type": "code",
   "execution_count": null,
   "metadata": {},
   "outputs": [],
   "source": [
    "# Specify the file to write to\n",
    "df_rev_total = df_rev_total.rename(columns={'rating':'reviewer_rating', 'name':'reviewer_full'})\n",
    "output_path = os.path.join(\"output\", \"review_by_gender_data_all.csv\")\n",
    "df_rev_total.to_csv(output_path)\n",
    "\n",
    "rev_gender_count = df_rev_total.review_id.count()\n",
    "print(f\"Total reviews with gender: {rev_gender_count}\")\n",
    "\n",
    "# Specify the file to write to\n",
    "output_path = os.path.join(\"output\", \"review_data_all.csv\")\n",
    "df_rev_total.to_csv(output_path)\n",
    "\n",
    "df_rev_total.head()"
   ]
  },
  {
   "cell_type": "code",
   "execution_count": null,
   "metadata": {},
   "outputs": [],
   "source": [
    "df_total = pd.merge(df_rev_total, df_bus_total,on=('business_id'))\n",
    "\n",
    "# Save a version of the final data used in the presentation in case you need to rerun it\n",
    "# df_total = pd.read_csv('output/total_everything_backup.csv')\n",
    "df_total = df_total.drop_duplicates()\n",
    "# df_total.count()"
   ]
  },
  {
   "cell_type": "code",
   "execution_count": null,
   "metadata": {},
   "outputs": [],
   "source": [
    "# Specify the file to write to\n",
    "output_path = os.path.join(\"output\", \"total_everything_all.csv\")\n",
    "df_total.to_csv(output_path)\n",
    "\n",
    "total_count = df_total.review_id.count()\n",
    "print(f\"Total reviews: {total_count}\")\n",
    "df_total.head()"
   ]
  },
  {
   "cell_type": "code",
   "execution_count": null,
   "metadata": {},
   "outputs": [],
   "source": [
    "# df_total = pd.read_csv('output/total_everything_all.csv')\n",
    "df_total['price_num'] = df_total['price']\n",
    "df_total['price_num'] = df_total['price_num'].replace(\n",
    "    {'$':1,'$$':2,'$$$':3,'$$$$':4})\n",
    "\n",
    "df_total.head()\n"
   ]
  },
  {
   "cell_type": "code",
   "execution_count": null,
   "metadata": {},
   "outputs": [],
   "source": [
    "df_total['price'].value_counts()"
   ]
  },
  {
   "cell_type": "code",
   "execution_count": null,
   "metadata": {},
   "outputs": [],
   "source": [
    "# Specify the file to write to\n",
    "output_path = os.path.join(\"output\", \"total_everything_all.csv\")\n",
    "df_total.to_csv(output_path)"
   ]
  },
  {
   "cell_type": "code",
   "execution_count": null,
   "metadata": {},
   "outputs": [],
   "source": [
    "total_reviews = df_total['gender'].value_counts()\n",
    "\n",
    "plt.clf()\n",
    "colors = ['lightskyblue', 'lightcoral']\n",
    "labels = ['Women','Men']\n",
    "patches, texts = plt.pie(total_reviews, colors=colors, startangle=90)\n",
    "plt.legend(patches, labels, loc=\"best\")\n",
    "plt.pie(total_reviews, colors=colors, autopct=\"%1.1f%%\")\n",
    "plt.axis('equal')\n",
    "# plt.tight_layout()\n",
    "plt.title(\"Yelp reviews Women vs Men\")\n",
    "plt.savefig(\"Images/Women_vw_Men_all.png\")\n",
    "\n",
    "print(total_reviews)\n"
   ]
  },
  {
   "cell_type": "code",
   "execution_count": null,
   "metadata": {
    "scrolled": true
   },
   "outputs": [],
   "source": [
    "# use line below to bypass API calls\n",
    "# df_total = pd.read_csv('output/total_everything_all.csv')\n",
    "\n",
    "men_sizes = []\n",
    "df_only_men = df_total.loc[(df_total[\"gender\"] == 'Male')]\n",
    "\n",
    "df_only_men_price_count = df_only_men.loc[(df_only_men[\"price\"] != '*')]\n",
    "# df_only_men_price_count = df_only_men.loc[(df_only_men[\"reviewer_rating\"] != '*')]\n",
    "\n",
    "df_only_men_price_count_gb = df_only_men_price_count.groupby(['price'])\n",
    "# df_only_men_price_count_gb = df_only_men_price_count.groupby(['reviewer_rating'])\n",
    "\n",
    "men_sizes = df_only_men_price_count_gb['price'].count()\n",
    "# men_sizes = df_only_men_price_count_gb['reviewer_rating'].count()\n",
    "\n",
    "# avg_rating_men = df_only_men_price_count['reviewer_rating'].mean()\n",
    "# print(avg_rating_men)\n",
    "\n",
    "plt.clf()\n",
    "colors = ['yellowgreen', 'gold', 'lightskyblue', 'lightcoral']\n",
    "labels = ['\\$','\\$\\$','\\$\\$\\$','\\$\\$\\$\\$']\n",
    "\n",
    "patches, texts = plt.pie(men_sizes, colors=colors, startangle=90)\n",
    "plt.legend(patches, labels, loc=\"best\")\n",
    "plt.pie(men_sizes, colors=colors, autopct=\"%1.1f%%\")\n",
    "plt.axis('equal')\n",
    "# plt.tight_layout()\n",
    "plt.title(\"Random Yelp reviews by Men by Price range\")\n",
    "plt.savefig(\"Images/Men_Price_Reviews_all.png\")\n",
    "# df_only_men_price_count['reviewer_rating'].value_counts()\n",
    "men_sizes\n",
    "# df_total.head(50)"
   ]
  },
  {
   "cell_type": "code",
   "execution_count": null,
   "metadata": {},
   "outputs": [],
   "source": [
    "women_sizes = []\n",
    "df_only_women = df_total.loc[(df_total[\"gender\"] == 'Female')]\n",
    "\n",
    "df_only_women_price_count = df_only_women.loc[(df_only_women[\"price\"] != '*')]\n",
    "# df_only_women_price_count = df_only_women.loc[(df_only_women[\"reviewer_rating\"] != '*')]\n",
    "\n",
    "df_only_women_price_count_gb = df_only_women_price_count.groupby(['price'])\n",
    "# df_only_women_price_count_gb = df_only_women_price_count.groupby(['reviewer_rating'])\n",
    "\n",
    "women_sizes = df_only_women_price_count_gb['price'].count()\n",
    "# women_sizes = df_only_women_price_count_gb['reviewer_rating'].count()\n",
    "\n",
    "avg_rating_women = df_only_women_price_count['rating'].mean()\n",
    "print(avg_rating_women)\n",
    "\n",
    "plt.clf()\n",
    "colors = ['yellowgreen', 'gold', 'lightskyblue', 'lightcoral']\n",
    "labels = ['\\$','\\$\\$','\\$\\$\\$','\\$\\$\\$\\$']\n",
    "patches, texts = plt.pie(men_sizes, colors=colors, startangle=90)\n",
    "plt.legend(patches, labels, loc=\"best\")\n",
    "plt.pie(women_sizes, colors=colors, autopct=\"%1.1f%%\")\n",
    "plt.axis('equal')\n",
    "# plt.tight_layout()\n",
    "plt.title(\"Random Yelp reviews by Women by Price range\")\n",
    "plt.savefig(\"Images/Women_Price_Reviews_all.png\")\n",
    "plt.show()\n",
    "women_sizes"
   ]
  },
  {
   "cell_type": "code",
   "execution_count": null,
   "metadata": {},
   "outputs": [],
   "source": [
    "df_total_male = df_total.loc[df_total['gender']=='Male']\n",
    "df_total_female = df_total.loc[df_total['gender']=='Female']\n",
    "\n",
    "max_men = df_total_male['reviewer_rating'].count()\n",
    "df_total_female = df_total_female.iloc[0:max_men,:]\n",
    "\n",
    "df_total_m_f = df_total_male\n",
    "df_total_m_f = df_total_m_f.append(df_total_female)\n",
    "\n",
    "df_summary_reviews_gb = df_total_m_f.groupby(['reviewer_rating','gender'])\n",
    "df_summary_reviews = pd.DataFrame(df_summary_reviews_gb['review_id'].count())\n",
    "df_summary_pivot = df_summary_reviews.pivot_table('review_id','reviewer_rating','gender')\n",
    "df_summary_pivot\n",
    "n_groups = 5\n",
    "\n",
    "female = df_summary_pivot['Female'].astype(int)\n",
    "male = df_summary_pivot['Male'].astype(int)\n",
    "\n",
    "fig, ax = plt.subplots()\n",
    "\n",
    "index = np.arange(n_groups)\n",
    "bar_width = 0.35\n",
    "\n",
    "opacity = 0.75\n",
    "\n",
    "rects1 = plt.bar(index, male, bar_width,\n",
    "                 alpha=opacity,\n",
    "                 color='b',\n",
    "                 label='Male')\n",
    "\n",
    "rects2 = plt.bar(index + bar_width, female, bar_width,\n",
    "                 alpha=opacity,\n",
    "                 color='r',\n",
    "                 label='Female')\n",
    "\n",
    "plt.xlabel(\"Rating in stars\")\n",
    "plt.ylabel(\"Number of ratings\")\n",
    "plt.savefig(\"Images/Men_vs_Women_Rating.png\")\n",
    "plt.title(\"Men vs Women Ratings\")\n",
    "plt.xticks(index + bar_width / 2, ('*', '**', '***', '****', '*****'))\n",
    "plt.legend()\n",
    "\n",
    "plt.tight_layout()\n",
    "plt.show()"
   ]
  },
  {
   "cell_type": "code",
   "execution_count": null,
   "metadata": {},
   "outputs": [],
   "source": [
    "# df_total.head()\n",
    "df_zipcodes = df_total.groupby(['zip_code','gender'])\n",
    "df_zipcodes_count = pd.DataFrame(df_zipcodes['review_count'].sum())\n",
    "\n",
    "df_zipcodes_pivot = df_zipcodes_count.pivot_table('review_count','zip_code','gender')\n",
    "df_zipcodes_pivot = df_zipcodes_pivot.fillna(0)\n",
    "df_zipcodes_pivot['total'] = (df_zipcodes_pivot['Female']+df_zipcodes_pivot['Male'])\n",
    "df_zipcodes_pivot['pct_female'] = (df_zipcodes_pivot['Female'])/(df_zipcodes_pivot['Female']+df_zipcodes_pivot['Male'])\n",
    "df_zipcodes_pivot['pct_male'] = (df_zipcodes_pivot['Male'])/(df_zipcodes_pivot['Female']+df_zipcodes_pivot['Male'])\n",
    "\n",
    "# Specify the file to write to\n",
    "output_path = os.path.join(\"output\", \"reviewcount_gender_zipcode_all.csv\")\n",
    "df_zipcodes_pivot.to_csv(output_path)\n",
    "\n",
    "df_zipcodes_pivot.total.sum()"
   ]
  },
  {
   "cell_type": "code",
   "execution_count": null,
   "metadata": {},
   "outputs": [],
   "source": [
    "# Run statistics for gender vs price\n",
    "female_price = df_total.loc[(df_total[\"gender\"]=='Female') , [\"price_num\"]]\n",
    "male_price = df_total.loc[(df_total[\"gender\"]=='Male'), [\"price_num\"]]\n",
    "\n",
    "female_price = female_price.fillna(0)\n",
    "male_price = male_price.fillna(0)\n",
    "\n",
    "fem_avg = female_price.mean()\n",
    "male_avg = male_price.mean()\n",
    "\n",
    "print(f\"Average Female: {fem_avg}, Average Male: {male_avg}\")\n",
    "stats.ttest_ind(female_price, male_price, equal_var=False)"
   ]
  },
  {
   "cell_type": "code",
   "execution_count": null,
   "metadata": {},
   "outputs": [],
   "source": [
    "# Run statistics for gender vs rating\n",
    "female_rating = df_total.loc[df_total[\"gender\"]=='Female', [\"reviewer_rating\"]]\n",
    "male_rating = df_total.loc[df_total[\"gender\"]=='Male', [\"reviewer_rating\"]]\n",
    "\n",
    "fem_avg = female_rating.mean()\n",
    "male_avg = male_rating.mean()\n",
    "\n",
    "print(f\"Average Female: {fem_avg}, Average Male: {male_avg}\")\n",
    "\n",
    "stats.ttest_ind(female_rating, male_rating, equal_var=False)"
   ]
  }
 ],
 "metadata": {
  "kernelspec": {
   "display_name": "Python [conda env:PythonData] *",
   "language": "python",
   "name": "conda-env-PythonData-py"
  },
  "language_info": {
   "codemirror_mode": {
    "name": "ipython",
    "version": 3
   },
   "file_extension": ".py",
   "mimetype": "text/x-python",
   "name": "python",
   "nbconvert_exporter": "python",
   "pygments_lexer": "ipython3",
   "version": "3.6.9"
  }
 },
 "nbformat": 4,
 "nbformat_minor": 2
}
