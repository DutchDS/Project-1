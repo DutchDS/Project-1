{
 "cells": [
  {
   "cell_type": "code",
   "execution_count": 1,
   "metadata": {},
   "outputs": [],
   "source": [
    "# Dependencies\n",
    "import numpy as np\n",
    "import pandas as pd\n",
    "import matplotlib.pyplot as plt\n",
    "import requests\n",
    "import os\n",
    "import json\n",
    "import pprint\n",
    "import scipy.stats as stats\n",
    "import urllib\n",
    "from urllib.parse import quote\n",
    "import re\n",
    "from config import yelp_key"
   ]
  },
  {
   "cell_type": "code",
   "execution_count": 12,
   "metadata": {},
   "outputs": [
    {
     "name": "stdout",
     "output_type": "stream",
     "text": [
      "Total zip codes: 5\n"
     ]
    },
    {
     "data": {
      "text/html": [
       "<div>\n",
       "<style scoped>\n",
       "    .dataframe tbody tr th:only-of-type {\n",
       "        vertical-align: middle;\n",
       "    }\n",
       "\n",
       "    .dataframe tbody tr th {\n",
       "        vertical-align: top;\n",
       "    }\n",
       "\n",
       "    .dataframe thead th {\n",
       "        text-align: right;\n",
       "    }\n",
       "</style>\n",
       "<table border=\"1\" class=\"dataframe\">\n",
       "  <thead>\n",
       "    <tr style=\"text-align: right;\">\n",
       "      <th></th>\n",
       "      <th>zip_code</th>\n",
       "      <th>city</th>\n",
       "      <th>latitude</th>\n",
       "      <th>longetude</th>\n",
       "      <th>population</th>\n",
       "      <th>People / Sq. Mile</th>\n",
       "      <th>National Rank</th>\n",
       "      <th>number</th>\n",
       "      <th>State</th>\n",
       "    </tr>\n",
       "  </thead>\n",
       "  <tbody>\n",
       "    <tr>\n",
       "      <th>46</th>\n",
       "      <td>11220</td>\n",
       "      <td>Brooklyn</td>\n",
       "      <td>40.641307</td>\n",
       "      <td>-74.016251</td>\n",
       "      <td>92718</td>\n",
       "      <td>54760.03</td>\n",
       "      <td>#47</td>\n",
       "      <td>47</td>\n",
       "      <td>New York</td>\n",
       "    </tr>\n",
       "    <tr>\n",
       "      <th>32</th>\n",
       "      <td>11103</td>\n",
       "      <td>Astoria</td>\n",
       "      <td>40.762634</td>\n",
       "      <td>-73.913156</td>\n",
       "      <td>44321</td>\n",
       "      <td>62111.19</td>\n",
       "      <td>#33</td>\n",
       "      <td>33</td>\n",
       "      <td>New York</td>\n",
       "    </tr>\n",
       "    <tr>\n",
       "      <th>14</th>\n",
       "      <td>10453</td>\n",
       "      <td>Bronx</td>\n",
       "      <td>40.852779</td>\n",
       "      <td>-73.912332</td>\n",
       "      <td>76775</td>\n",
       "      <td>87970.27</td>\n",
       "      <td>#15</td>\n",
       "      <td>15</td>\n",
       "      <td>New York</td>\n",
       "    </tr>\n",
       "    <tr>\n",
       "      <th>158</th>\n",
       "      <td>90011</td>\n",
       "      <td>Los Angeles</td>\n",
       "      <td>34.007090</td>\n",
       "      <td>-118.258681</td>\n",
       "      <td>101,214</td>\n",
       "      <td>23,239.51</td>\n",
       "      <td>#159</td>\n",
       "      <td>159</td>\n",
       "      <td>California</td>\n",
       "    </tr>\n",
       "    <tr>\n",
       "      <th>306</th>\n",
       "      <td>90063</td>\n",
       "      <td>Los Angeles</td>\n",
       "      <td>34.044271</td>\n",
       "      <td>-118.185237</td>\n",
       "      <td>55,666</td>\n",
       "      <td>15,758.49</td>\n",
       "      <td>#307</td>\n",
       "      <td>307</td>\n",
       "      <td>California</td>\n",
       "    </tr>\n",
       "  </tbody>\n",
       "</table>\n",
       "</div>"
      ],
      "text/plain": [
       "     zip_code         city   latitude   longetude population  \\\n",
       "46      11220     Brooklyn  40.641307  -74.016251      92718   \n",
       "32      11103      Astoria  40.762634  -73.913156      44321   \n",
       "14      10453        Bronx  40.852779  -73.912332      76775   \n",
       "158     90011  Los Angeles  34.007090 -118.258681    101,214   \n",
       "306     90063  Los Angeles  34.044271 -118.185237     55,666   \n",
       "\n",
       "    People / Sq. Mile National Rank  number        State  \n",
       "46           54760.03           #47      47     New York  \n",
       "32           62111.19           #33      33     New York  \n",
       "14           87970.27           #15      15     New York  \n",
       "158         23,239.51          #159     159   California  \n",
       "306         15,758.49          #307     307   California  "
      ]
     },
     "execution_count": 12,
     "metadata": {},
     "output_type": "execute_result"
    }
   ],
   "source": [
    "#File with 500 largest population ZIP codes in the USA\n",
    "file = 'input/zipcodes_all.csv'\n",
    "\n",
    "df_list = pd.read_csv(file)\n",
    "# Randomly select 100 zipcodes\n",
    "df_zip = df_list.sample(5)\n",
    "\n",
    "# When testing use a small set of ZIP Codes: df_zip = df.iloc[0:5,:]\n",
    "zip_count = df_zip.zip_code.count()\n",
    "print(f\"Total zip codes: {zip_count}\")\n",
    "\n",
    "df_zip.head()"
   ]
  },
  {
   "cell_type": "code",
   "execution_count": 13,
   "metadata": {},
   "outputs": [],
   "source": [
    "# Get ready to import yelp data\n",
    "API_KEY=yelp_key\n",
    "\n",
    "API_HOST = 'https://api.yelp.com'\n",
    "SEARCH_PATH = '/v3/businesses/search'\n",
    "MATCH_PATH = '/v3/businesses/matches'\n",
    "SEARCH_PHONE_PATH = '/v3/businesses/search/phone'\n",
    "BUSINESS_PATH = '/v3/businesses/'  # Business ID will come after slash"
   ]
  },
  {
   "cell_type": "code",
   "execution_count": 14,
   "metadata": {},
   "outputs": [],
   "source": [
    "# YELP API call with certain parameters - city, longitude, latitude etc.\n",
    "def request(host, path, api_key, url_params=None):\n",
    "    url_params = url_params or {}\n",
    "    url = '{0}{1}'.format(host, quote(path.encode('utf8')))\n",
    "    headers = {\n",
    "        'Authorization': 'Bearer %s' % api_key,\n",
    "    }\n",
    "#     print(u'Querying {0} ...'.format(url))\n",
    "#     print(headers)\n",
    "\n",
    "    response = requests.request('GET', url, headers=headers, params=url_params)\n",
    "    return response.json() #, my_url"
   ]
  },
  {
   "cell_type": "code",
   "execution_count": 16,
   "metadata": {},
   "outputs": [
    {
     "name": "stdout",
     "output_type": "stream",
     "text": [
      "{'error': {'code': 'ACCESS_LIMIT_REACHED', 'description': \"You've reached the access limit for this client. See instructions for requesting a higher access limit at https://www.yelp.com/developers/documentation/v3/rate_limiting\"}}\n",
      "{'error': {'code': 'ACCESS_LIMIT_REACHED', 'description': \"You've reached the access limit for this client. See instructions for requesting a higher access limit at https://www.yelp.com/developers/documentation/v3/rate_limiting\"}}\n",
      "{'error': {'code': 'ACCESS_LIMIT_REACHED', 'description': \"You've reached the access limit for this client. See instructions for requesting a higher access limit at https://www.yelp.com/developers/documentation/v3/rate_limiting\"}}\n",
      "{'error': {'code': 'ACCESS_LIMIT_REACHED', 'description': \"You've reached the access limit for this client. See instructions for requesting a higher access limit at https://www.yelp.com/developers/documentation/v3/rate_limiting\"}}\n",
      "{'error': {'code': 'ACCESS_LIMIT_REACHED', 'description': \"You've reached the access limit for this client. See instructions for requesting a higher access limit at https://www.yelp.com/developers/documentation/v3/rate_limiting\"}}\n"
     ]
    }
   ],
   "source": [
    "df_businesses = pd.DataFrame()\n",
    "df_bus_total = pd.DataFrame()\n",
    "prices = []\n",
    "dict_total = {}\n",
    "\n",
    "for index, row in df_zip.iterrows():\n",
    "    row_zip = row[0]\n",
    "    row_city = row[1]\n",
    "    row_lat = row[2]\n",
    "    row_long = row[3]\n",
    "    #     print(index, row_zip, row_lat, row_long)\n",
    "    url_params={\"city\":row_city, 'zip_code':row_zip,'latitude':row_lat,'longitude':row_long}\n",
    "    dict_businesses = request(API_HOST, SEARCH_PATH, API_KEY, url_params)\n",
    "#     print(dict_businesses)\n",
    "    try:\n",
    "        df_businesses['business_id']=[business[\"id\"] for business in dict_businesses['businesses']]\n",
    "        df_businesses['name']=[business[\"name\"]for business in dict_businesses['businesses']]\n",
    "        df_businesses['rating']=[business[\"rating\"]for business in dict_businesses['businesses']]\n",
    "        df_businesses['zip_code']=[business['location'][\"zip_code\"]for business in dict_businesses['businesses']]\n",
    "        df_businesses['review_count']=[business[\"review_count\"]for business in dict_businesses['businesses']]\n",
    "        df_businesses['price']=[business[\"price\"]for business in dict_businesses['businesses']]\n",
    "    except:\n",
    "        pass\n",
    "    \n",
    "    df_bus_total = df_bus_total.append(df_businesses)\n",
    "\n",
    "df_bus_total.head()"
   ]
  },
  {
   "cell_type": "code",
   "execution_count": 35,
   "metadata": {},
   "outputs": [
    {
     "name": "stdout",
     "output_type": "stream",
     "text": [
      "Total Busineses Found: 2000\n"
     ]
    },
    {
     "data": {
      "text/html": [
       "<div>\n",
       "<style scoped>\n",
       "    .dataframe tbody tr th:only-of-type {\n",
       "        vertical-align: middle;\n",
       "    }\n",
       "\n",
       "    .dataframe tbody tr th {\n",
       "        vertical-align: top;\n",
       "    }\n",
       "\n",
       "    .dataframe thead th {\n",
       "        text-align: right;\n",
       "    }\n",
       "</style>\n",
       "<table border=\"1\" class=\"dataframe\">\n",
       "  <thead>\n",
       "    <tr style=\"text-align: right;\">\n",
       "      <th></th>\n",
       "      <th>Unnamed: 0</th>\n",
       "      <th>business_id</th>\n",
       "      <th>name</th>\n",
       "      <th>rating</th>\n",
       "      <th>zip_code</th>\n",
       "      <th>review_count</th>\n",
       "      <th>price</th>\n",
       "    </tr>\n",
       "  </thead>\n",
       "  <tbody>\n",
       "    <tr>\n",
       "      <th>0</th>\n",
       "      <td>0</td>\n",
       "      <td>TzIJzamxdVGc3zReKbLGaA</td>\n",
       "      <td>Providence</td>\n",
       "      <td>4.5</td>\n",
       "      <td>90038.0</td>\n",
       "      <td>2646</td>\n",
       "      <td>$$$$</td>\n",
       "    </tr>\n",
       "    <tr>\n",
       "      <th>1</th>\n",
       "      <td>1</td>\n",
       "      <td>ikF6L0HiC3_AhAiywWzS3g</td>\n",
       "      <td>Salt &amp; Straw</td>\n",
       "      <td>4.5</td>\n",
       "      <td>90004.0</td>\n",
       "      <td>2051</td>\n",
       "      <td>$$</td>\n",
       "    </tr>\n",
       "    <tr>\n",
       "      <th>2</th>\n",
       "      <td>2</td>\n",
       "      <td>q8buTNBt3FU9vie0D5OOxA</td>\n",
       "      <td>Pizzeria Mozza</td>\n",
       "      <td>4.0</td>\n",
       "      <td>90036.0</td>\n",
       "      <td>4187</td>\n",
       "      <td>$$</td>\n",
       "    </tr>\n",
       "    <tr>\n",
       "      <th>3</th>\n",
       "      <td>3</td>\n",
       "      <td>ki5SNb4Lli6uOklz6BXXGw</td>\n",
       "      <td>Blu Jam Café</td>\n",
       "      <td>4.0</td>\n",
       "      <td>90046.0</td>\n",
       "      <td>5144</td>\n",
       "      <td>$$</td>\n",
       "    </tr>\n",
       "    <tr>\n",
       "      <th>4</th>\n",
       "      <td>4</td>\n",
       "      <td>Fb3WueRF1ekhs72psinq5w</td>\n",
       "      <td>Mario's Peruvian &amp; Seafood</td>\n",
       "      <td>4.0</td>\n",
       "      <td>90038.0</td>\n",
       "      <td>2281</td>\n",
       "      <td>$$</td>\n",
       "    </tr>\n",
       "  </tbody>\n",
       "</table>\n",
       "</div>"
      ],
      "text/plain": [
       "   Unnamed: 0             business_id                        name  rating  \\\n",
       "0           0  TzIJzamxdVGc3zReKbLGaA                  Providence     4.5   \n",
       "1           1  ikF6L0HiC3_AhAiywWzS3g                Salt & Straw     4.5   \n",
       "2           2  q8buTNBt3FU9vie0D5OOxA              Pizzeria Mozza     4.0   \n",
       "3           3  ki5SNb4Lli6uOklz6BXXGw                Blu Jam Café     4.0   \n",
       "4           4  Fb3WueRF1ekhs72psinq5w  Mario's Peruvian & Seafood     4.0   \n",
       "\n",
       "   zip_code  review_count price  \n",
       "0   90038.0          2646  $$$$  \n",
       "1   90004.0          2051    $$  \n",
       "2   90036.0          4187    $$  \n",
       "3   90046.0          5144    $$  \n",
       "4   90038.0          2281    $$  "
      ]
     },
     "execution_count": 35,
     "metadata": {},
     "output_type": "execute_result"
    }
   ],
   "source": [
    "# CAUTION!\n",
    "# Specify the file to write to \n",
    "# output_path = os.path.join(\"output\", \"business_data_all.csv\")\n",
    "# df_bus_total.to_csv(output_path)\n",
    "\n",
    "# or use existing .csv file to save on API calls:\n",
    "df_bus_total = pd.read_csv('output/business_data_all.csv')\n",
    "\n",
    "bus_count = df_bus_total['business_id'].count()\n",
    "\n",
    "print(f\"Total Busineses Found: {bus_count}\")\n",
    "# df_bus_total['price'].head()\n",
    "df_bus_total.head()"
   ]
  },
  {
   "cell_type": "code",
   "execution_count": 36,
   "metadata": {},
   "outputs": [],
   "source": [
    "# Drop duplicates\n",
    "df_bus_total = df_bus_total.sort_values('business_id')\n",
    "df_bus_total = df_bus_total.reset_index(drop=True)\n",
    "df_bus_unique = df_bus_total.drop_duplicates(['business_id'], keep='first')"
   ]
  },
  {
   "cell_type": "code",
   "execution_count": 37,
   "metadata": {},
   "outputs": [
    {
     "name": "stdout",
     "output_type": "stream",
     "text": [
      "Total unique businesses: 1671\n"
     ]
    },
    {
     "data": {
      "text/html": [
       "<div>\n",
       "<style scoped>\n",
       "    .dataframe tbody tr th:only-of-type {\n",
       "        vertical-align: middle;\n",
       "    }\n",
       "\n",
       "    .dataframe tbody tr th {\n",
       "        vertical-align: top;\n",
       "    }\n",
       "\n",
       "    .dataframe thead th {\n",
       "        text-align: right;\n",
       "    }\n",
       "</style>\n",
       "<table border=\"1\" class=\"dataframe\">\n",
       "  <thead>\n",
       "    <tr style=\"text-align: right;\">\n",
       "      <th></th>\n",
       "      <th>Unnamed: 0</th>\n",
       "      <th>business_id</th>\n",
       "      <th>name</th>\n",
       "      <th>rating</th>\n",
       "      <th>zip_code</th>\n",
       "      <th>review_count</th>\n",
       "      <th>price</th>\n",
       "    </tr>\n",
       "  </thead>\n",
       "  <tbody>\n",
       "    <tr>\n",
       "      <th>0</th>\n",
       "      <td>19</td>\n",
       "      <td>-0TffRSXXIlBYVbb5AwfTg</td>\n",
       "      <td>IndeBlue</td>\n",
       "      <td>4.5</td>\n",
       "      <td>19107.0</td>\n",
       "      <td>919</td>\n",
       "      <td>$$</td>\n",
       "    </tr>\n",
       "    <tr>\n",
       "      <th>1</th>\n",
       "      <td>5</td>\n",
       "      <td>-5gWvrcKOPmhlcZju3tpbw</td>\n",
       "      <td>Flour Bakery + Café</td>\n",
       "      <td>4.5</td>\n",
       "      <td>2210.0</td>\n",
       "      <td>1139</td>\n",
       "      <td>$$</td>\n",
       "    </tr>\n",
       "    <tr>\n",
       "      <th>2</th>\n",
       "      <td>18</td>\n",
       "      <td>-6tSx9IXwt1btreBtcyZ0g</td>\n",
       "      <td>Würstbar</td>\n",
       "      <td>4.5</td>\n",
       "      <td>7302.0</td>\n",
       "      <td>292</td>\n",
       "      <td>$$</td>\n",
       "    </tr>\n",
       "    <tr>\n",
       "      <th>3</th>\n",
       "      <td>14</td>\n",
       "      <td>-BhtkobiICQ-SaJZa7-7oA</td>\n",
       "      <td>Abracadabra</td>\n",
       "      <td>4.5</td>\n",
       "      <td>912.0</td>\n",
       "      <td>175</td>\n",
       "      <td>$$</td>\n",
       "    </tr>\n",
       "    <tr>\n",
       "      <th>5</th>\n",
       "      <td>4</td>\n",
       "      <td>-C2vxDphxWzYPLgNgdKJAQ</td>\n",
       "      <td>Cafe Vida - Culver City</td>\n",
       "      <td>4.0</td>\n",
       "      <td>90232.0</td>\n",
       "      <td>1304</td>\n",
       "      <td>$$</td>\n",
       "    </tr>\n",
       "  </tbody>\n",
       "</table>\n",
       "</div>"
      ],
      "text/plain": [
       "   Unnamed: 0             business_id                     name  rating  \\\n",
       "0          19  -0TffRSXXIlBYVbb5AwfTg                 IndeBlue     4.5   \n",
       "1           5  -5gWvrcKOPmhlcZju3tpbw      Flour Bakery + Café     4.5   \n",
       "2          18  -6tSx9IXwt1btreBtcyZ0g                 Würstbar     4.5   \n",
       "3          14  -BhtkobiICQ-SaJZa7-7oA              Abracadabra     4.5   \n",
       "5           4  -C2vxDphxWzYPLgNgdKJAQ  Cafe Vida - Culver City     4.0   \n",
       "\n",
       "   zip_code  review_count price  \n",
       "0   19107.0           919    $$  \n",
       "1    2210.0          1139    $$  \n",
       "2    7302.0           292    $$  \n",
       "3     912.0           175    $$  \n",
       "5   90232.0          1304    $$  "
      ]
     },
     "execution_count": 37,
     "metadata": {},
     "output_type": "execute_result"
    }
   ],
   "source": [
    "# CAUTION: Specify the file to write to\n",
    "output_path = os.path.join(\"output\", \"business_unique_data_all.csv\")\n",
    "df_bus_unique.to_csv(output_path)\n",
    "\n",
    "# Or use saved file for backup\n",
    "# df_bus_unique = pd.read_csv('output/business_unique_data_all.csv')\n",
    "\n",
    "# Count unique businesses found\n",
    "bus_uni_count = df_bus_unique.business_id.count()\n",
    "print(f\"Total unique businesses: {bus_uni_count}\")\n",
    "\n",
    "\n",
    "df_bus_unique.head()"
   ]
  },
  {
   "cell_type": "code",
   "execution_count": 52,
   "metadata": {},
   "outputs": [],
   "source": [
    "# Get reviews for each unique business\n",
    "dict_rev_total = {}\n",
    "dict_reviews = {}\n",
    "df_reviews = pd.DataFrame()\n",
    "df_rev_total = pd.DataFrame()\n",
    "\n",
    "for index, row in df_bus_unique.iterrows():\n",
    "    row_bus = row[1]\n",
    "    # CAUTION row[0] when not reading from .csv!!!\n",
    "#     print(row_bus)\n",
    "    REVIEW_PATH = BUSINESS_PATH + row_bus + '/reviews'\n",
    "    dict_reviews = request(API_HOST, REVIEW_PATH, API_KEY)\n",
    "#     pprint.pprint(dict_reviews)\n",
    "    try:\n",
    "        df_reviews['business_id']= [row_bus for review in dict_reviews['reviews']]\n",
    "        df_reviews['review_id']=[review[\"id\"]for review in dict_reviews['reviews']]\n",
    "        df_reviews['rating']=[review[\"rating\"]for review in dict_reviews['reviews']]\n",
    "        df_reviews['name']=[review['user'][\"name\"]for review in dict_reviews['reviews']]\n",
    "        df_rev_total = df_rev_total.append(df_reviews)\n",
    "    except:\n",
    "        pass"
   ]
  },
  {
   "cell_type": "code",
   "execution_count": 54,
   "metadata": {},
   "outputs": [
    {
     "data": {
      "text/html": [
       "<div>\n",
       "<style scoped>\n",
       "    .dataframe tbody tr th:only-of-type {\n",
       "        vertical-align: middle;\n",
       "    }\n",
       "\n",
       "    .dataframe tbody tr th {\n",
       "        vertical-align: top;\n",
       "    }\n",
       "\n",
       "    .dataframe thead th {\n",
       "        text-align: right;\n",
       "    }\n",
       "</style>\n",
       "<table border=\"1\" class=\"dataframe\">\n",
       "  <thead>\n",
       "    <tr style=\"text-align: right;\">\n",
       "      <th></th>\n",
       "    </tr>\n",
       "  </thead>\n",
       "  <tbody>\n",
       "  </tbody>\n",
       "</table>\n",
       "</div>"
      ],
      "text/plain": [
       "Empty DataFrame\n",
       "Columns: []\n",
       "Index: []"
      ]
     },
     "execution_count": 54,
     "metadata": {},
     "output_type": "execute_result"
    }
   ],
   "source": [
    "df_rev_total.head()"
   ]
  },
  {
   "cell_type": "code",
   "execution_count": 66,
   "metadata": {},
   "outputs": [
    {
     "name": "stdout",
     "output_type": "stream",
     "text": [
      "Total reviews: 3973\n"
     ]
    },
    {
     "data": {
      "text/html": [
       "<div>\n",
       "<style scoped>\n",
       "    .dataframe tbody tr th:only-of-type {\n",
       "        vertical-align: middle;\n",
       "    }\n",
       "\n",
       "    .dataframe tbody tr th {\n",
       "        vertical-align: top;\n",
       "    }\n",
       "\n",
       "    .dataframe thead th {\n",
       "        text-align: right;\n",
       "    }\n",
       "</style>\n",
       "<table border=\"1\" class=\"dataframe\">\n",
       "  <thead>\n",
       "    <tr style=\"text-align: right;\">\n",
       "      <th></th>\n",
       "      <th>business_id</th>\n",
       "      <th>review_id</th>\n",
       "      <th>reviewer_rating</th>\n",
       "      <th>reviewer_full</th>\n",
       "      <th>short name</th>\n",
       "      <th>gender</th>\n",
       "    </tr>\n",
       "  </thead>\n",
       "  <tbody>\n",
       "    <tr>\n",
       "      <th>0</th>\n",
       "      <td>--F3QN39ndTiL85W0-Dtxw</td>\n",
       "      <td>7uZ23Wcq9KF0ae5TB48eQg</td>\n",
       "      <td>5</td>\n",
       "      <td>Stephania Q.</td>\n",
       "      <td>stephania</td>\n",
       "      <td>Female</td>\n",
       "    </tr>\n",
       "    <tr>\n",
       "      <th>1</th>\n",
       "      <td>--F3QN39ndTiL85W0-Dtxw</td>\n",
       "      <td>wpRdEleYM9pO3FwUIMo_Lg</td>\n",
       "      <td>4</td>\n",
       "      <td>Courtney C.</td>\n",
       "      <td>courtney</td>\n",
       "      <td>Male</td>\n",
       "    </tr>\n",
       "    <tr>\n",
       "      <th>2</th>\n",
       "      <td>--F3QN39ndTiL85W0-Dtxw</td>\n",
       "      <td>S2J7xH6w7A8QGQpi5-cCXg</td>\n",
       "      <td>4</td>\n",
       "      <td>Christopher M.</td>\n",
       "      <td>christopher</td>\n",
       "      <td>Male</td>\n",
       "    </tr>\n",
       "    <tr>\n",
       "      <th>3</th>\n",
       "      <td>-5gWvrcKOPmhlcZju3tpbw</td>\n",
       "      <td>BO3q4-Qhx5XqJ9zZyqVJaw</td>\n",
       "      <td>5</td>\n",
       "      <td>Sherry S.</td>\n",
       "      <td>sherry</td>\n",
       "      <td>Female</td>\n",
       "    </tr>\n",
       "    <tr>\n",
       "      <th>4</th>\n",
       "      <td>-5gWvrcKOPmhlcZju3tpbw</td>\n",
       "      <td>XCqK4aeXmMQIZ9OqV6damQ</td>\n",
       "      <td>2</td>\n",
       "      <td>Nancy H.</td>\n",
       "      <td>nancy</td>\n",
       "      <td>Female</td>\n",
       "    </tr>\n",
       "  </tbody>\n",
       "</table>\n",
       "</div>"
      ],
      "text/plain": [
       "              business_id               review_id  reviewer_rating  \\\n",
       "0  --F3QN39ndTiL85W0-Dtxw  7uZ23Wcq9KF0ae5TB48eQg                5   \n",
       "1  --F3QN39ndTiL85W0-Dtxw  wpRdEleYM9pO3FwUIMo_Lg                4   \n",
       "2  --F3QN39ndTiL85W0-Dtxw  S2J7xH6w7A8QGQpi5-cCXg                4   \n",
       "3  -5gWvrcKOPmhlcZju3tpbw  BO3q4-Qhx5XqJ9zZyqVJaw                5   \n",
       "4  -5gWvrcKOPmhlcZju3tpbw  XCqK4aeXmMQIZ9OqV6damQ                2   \n",
       "\n",
       "    reviewer_full   short name  gender  \n",
       "0    Stephania Q.    stephania  Female  \n",
       "1     Courtney C.     courtney    Male  \n",
       "2  Christopher M.  christopher    Male  \n",
       "3       Sherry S.       sherry  Female  \n",
       "4        Nancy H.        nancy  Female  "
      ]
     },
     "execution_count": 66,
     "metadata": {},
     "output_type": "execute_result"
    }
   ],
   "source": [
    "# CAUTION: Specify the file to write to\n",
    "# output_path = os.path.join(\"output\", \"review_data_all.csv\")\n",
    "# df_rev_total.to_csv(output_path)\n",
    "\n",
    "# Or use saved file for backup\n",
    "df_rev_total = pd.read_csv('output/review_data_all.csv')\n",
    "\n",
    "# Count unique businesses found\n",
    "rev_count = df_rev_total['review_id'].count()\n",
    "print(f\"Total reviews: {rev_count}\")\n",
    "\n",
    "df_rev_total.head()\n",
    "df_rev_total.index.drop([1])\n",
    "df_rev_total.head()"
   ]
  },
  {
   "cell_type": "code",
   "execution_count": 67,
   "metadata": {},
   "outputs": [],
   "source": [
    "#COMMENT OUT THE RESET BELOW IF RAN MULTIPLE TIMES!!!!\n",
    "\n",
    "df_rev_total.reset_index(inplace=True)\n",
    "\n",
    "# create a list with names per review and take only the name before the 'space' as a first name\n",
    "df_rev_total['short name']=\"\"\n",
    "short_name = []\n",
    "for index, row in df_rev_total.iterrows():\n",
    "#     print(row)\n",
    "    short_name = re.split(\"( )\",row[4])\n",
    "    df_rev_total.iloc[index, 5] = short_name[0].lower()"
   ]
  },
  {
   "cell_type": "code",
   "execution_count": 68,
   "metadata": {},
   "outputs": [
    {
     "name": "stdout",
     "output_type": "stream",
     "text": [
      "Total reviews: 3973\n"
     ]
    },
    {
     "data": {
      "text/html": [
       "<div>\n",
       "<style scoped>\n",
       "    .dataframe tbody tr th:only-of-type {\n",
       "        vertical-align: middle;\n",
       "    }\n",
       "\n",
       "    .dataframe tbody tr th {\n",
       "        vertical-align: top;\n",
       "    }\n",
       "\n",
       "    .dataframe thead th {\n",
       "        text-align: right;\n",
       "    }\n",
       "</style>\n",
       "<table border=\"1\" class=\"dataframe\">\n",
       "  <thead>\n",
       "    <tr style=\"text-align: right;\">\n",
       "      <th></th>\n",
       "      <th>index</th>\n",
       "      <th>business_id</th>\n",
       "      <th>review_id</th>\n",
       "      <th>reviewer_rating</th>\n",
       "      <th>reviewer_full</th>\n",
       "      <th>short name</th>\n",
       "      <th>gender</th>\n",
       "    </tr>\n",
       "  </thead>\n",
       "  <tbody>\n",
       "    <tr>\n",
       "      <th>0</th>\n",
       "      <td>0</td>\n",
       "      <td>--F3QN39ndTiL85W0-Dtxw</td>\n",
       "      <td>7uZ23Wcq9KF0ae5TB48eQg</td>\n",
       "      <td>5</td>\n",
       "      <td>Stephania Q.</td>\n",
       "      <td>stephania</td>\n",
       "      <td>Female</td>\n",
       "    </tr>\n",
       "    <tr>\n",
       "      <th>1</th>\n",
       "      <td>1</td>\n",
       "      <td>--F3QN39ndTiL85W0-Dtxw</td>\n",
       "      <td>wpRdEleYM9pO3FwUIMo_Lg</td>\n",
       "      <td>4</td>\n",
       "      <td>Courtney C.</td>\n",
       "      <td>courtney</td>\n",
       "      <td>Male</td>\n",
       "    </tr>\n",
       "    <tr>\n",
       "      <th>2</th>\n",
       "      <td>2</td>\n",
       "      <td>--F3QN39ndTiL85W0-Dtxw</td>\n",
       "      <td>S2J7xH6w7A8QGQpi5-cCXg</td>\n",
       "      <td>4</td>\n",
       "      <td>Christopher M.</td>\n",
       "      <td>christopher</td>\n",
       "      <td>Male</td>\n",
       "    </tr>\n",
       "    <tr>\n",
       "      <th>3</th>\n",
       "      <td>3</td>\n",
       "      <td>-5gWvrcKOPmhlcZju3tpbw</td>\n",
       "      <td>BO3q4-Qhx5XqJ9zZyqVJaw</td>\n",
       "      <td>5</td>\n",
       "      <td>Sherry S.</td>\n",
       "      <td>sherry</td>\n",
       "      <td>Female</td>\n",
       "    </tr>\n",
       "    <tr>\n",
       "      <th>4</th>\n",
       "      <td>4</td>\n",
       "      <td>-5gWvrcKOPmhlcZju3tpbw</td>\n",
       "      <td>XCqK4aeXmMQIZ9OqV6damQ</td>\n",
       "      <td>2</td>\n",
       "      <td>Nancy H.</td>\n",
       "      <td>nancy</td>\n",
       "      <td>Female</td>\n",
       "    </tr>\n",
       "  </tbody>\n",
       "</table>\n",
       "</div>"
      ],
      "text/plain": [
       "   index             business_id               review_id  reviewer_rating  \\\n",
       "0      0  --F3QN39ndTiL85W0-Dtxw  7uZ23Wcq9KF0ae5TB48eQg                5   \n",
       "1      1  --F3QN39ndTiL85W0-Dtxw  wpRdEleYM9pO3FwUIMo_Lg                4   \n",
       "2      2  --F3QN39ndTiL85W0-Dtxw  S2J7xH6w7A8QGQpi5-cCXg                4   \n",
       "3      3  -5gWvrcKOPmhlcZju3tpbw  BO3q4-Qhx5XqJ9zZyqVJaw                5   \n",
       "4      4  -5gWvrcKOPmhlcZju3tpbw  XCqK4aeXmMQIZ9OqV6damQ                2   \n",
       "\n",
       "    reviewer_full   short name  gender  \n",
       "0    Stephania Q.    stephania  Female  \n",
       "1     Courtney C.     courtney    Male  \n",
       "2  Christopher M.  christopher    Male  \n",
       "3       Sherry S.       sherry  Female  \n",
       "4        Nancy H.        nancy  Female  "
      ]
     },
     "execution_count": 68,
     "metadata": {},
     "output_type": "execute_result"
    }
   ],
   "source": [
    "rev_uni_count = df_rev_total.review_id.count()\n",
    "print(f\"Total reviews: {rev_uni_count}\")\n",
    "\n",
    "# CAUTION: Specify the file to write to\n",
    "output_path = os.path.join(\"output\", \"review_data_all.csv\")\n",
    "df_rev_total.to_csv(output_path)\n",
    "\n",
    "df_rev_total.head()"
   ]
  },
  {
   "cell_type": "code",
   "execution_count": 69,
   "metadata": {
    "scrolled": true
   },
   "outputs": [
    {
     "data": {
      "text/html": [
       "<div>\n",
       "<style scoped>\n",
       "    .dataframe tbody tr th:only-of-type {\n",
       "        vertical-align: middle;\n",
       "    }\n",
       "\n",
       "    .dataframe tbody tr th {\n",
       "        vertical-align: top;\n",
       "    }\n",
       "\n",
       "    .dataframe thead th {\n",
       "        text-align: right;\n",
       "    }\n",
       "</style>\n",
       "<table border=\"1\" class=\"dataframe\">\n",
       "  <thead>\n",
       "    <tr style=\"text-align: right;\">\n",
       "      <th></th>\n",
       "      <th>nameprimary</th>\n",
       "      <th>gender</th>\n",
       "      <th>count</th>\n",
       "    </tr>\n",
       "    <tr>\n",
       "      <th>first_name</th>\n",
       "      <th></th>\n",
       "      <th></th>\n",
       "      <th></th>\n",
       "    </tr>\n",
       "  </thead>\n",
       "  <tbody>\n",
       "    <tr>\n",
       "      <th>aa</th>\n",
       "      <td>AA</td>\n",
       "      <td>Not Known</td>\n",
       "      <td>1</td>\n",
       "    </tr>\n",
       "    <tr>\n",
       "      <th>aabha</th>\n",
       "      <td>AABHA</td>\n",
       "      <td>Female</td>\n",
       "      <td>1</td>\n",
       "    </tr>\n",
       "    <tr>\n",
       "      <th>aabida</th>\n",
       "      <td>AABIDA</td>\n",
       "      <td>Female</td>\n",
       "      <td>1</td>\n",
       "    </tr>\n",
       "    <tr>\n",
       "      <th>aad</th>\n",
       "      <td>AAD</td>\n",
       "      <td>Male</td>\n",
       "      <td>1</td>\n",
       "    </tr>\n",
       "    <tr>\n",
       "      <th>aadarsh</th>\n",
       "      <td>AADARSH</td>\n",
       "      <td>Male</td>\n",
       "      <td>1</td>\n",
       "    </tr>\n",
       "  </tbody>\n",
       "</table>\n",
       "</div>"
      ],
      "text/plain": [
       "           nameprimary     gender  count\n",
       "first_name                              \n",
       "aa                  AA  Not Known      1\n",
       "aabha            AABHA     Female      1\n",
       "aabida          AABIDA     Female      1\n",
       "aad                AAD       Male      1\n",
       "aadarsh        AADARSH       Male      1"
      ]
     },
     "execution_count": 69,
     "metadata": {},
     "output_type": "execute_result"
    }
   ],
   "source": [
    "# Read all names from gender file into new dataframe\n",
    "file = 'input/gender names.csv'\n",
    "df = pd.read_csv(file)\n",
    "df = df.set_index('first_name')\n",
    "df.head()"
   ]
  },
  {
   "cell_type": "code",
   "execution_count": 70,
   "metadata": {},
   "outputs": [],
   "source": [
    "# Loop through reviews and find gender for each reviewer \n",
    "df_rev_total['gender']=\"\"\n",
    "gender = []\n",
    "for index, row in df_rev_total.iterrows():\n",
    "    try:\n",
    "        gender = df.loc[str(row[5]),'gender']\n",
    "        df_rev_total.iloc[index, 6] = gender\n",
    "    except:\n",
    "        pass\n",
    "\n",
    "# Drop reviews with where gender isn't found\n",
    "df_rev_total = df_rev_total.loc[(df_rev_total['gender']!=\"\") \n",
    "                                & (df_rev_total['gender']!=\"Both\") \n",
    "                                & (df_rev_total['gender']!=\"Not Known\")]"
   ]
  },
  {
   "cell_type": "code",
   "execution_count": 71,
   "metadata": {},
   "outputs": [
    {
     "data": {
      "text/html": [
       "<div>\n",
       "<style scoped>\n",
       "    .dataframe tbody tr th:only-of-type {\n",
       "        vertical-align: middle;\n",
       "    }\n",
       "\n",
       "    .dataframe tbody tr th {\n",
       "        vertical-align: top;\n",
       "    }\n",
       "\n",
       "    .dataframe thead th {\n",
       "        text-align: right;\n",
       "    }\n",
       "</style>\n",
       "<table border=\"1\" class=\"dataframe\">\n",
       "  <thead>\n",
       "    <tr style=\"text-align: right;\">\n",
       "      <th></th>\n",
       "      <th>index</th>\n",
       "      <th>business_id</th>\n",
       "      <th>review_id</th>\n",
       "      <th>reviewer_rating</th>\n",
       "      <th>reviewer_full</th>\n",
       "      <th>short name</th>\n",
       "      <th>gender</th>\n",
       "    </tr>\n",
       "  </thead>\n",
       "  <tbody>\n",
       "    <tr>\n",
       "      <th>0</th>\n",
       "      <td>0</td>\n",
       "      <td>--F3QN39ndTiL85W0-Dtxw</td>\n",
       "      <td>7uZ23Wcq9KF0ae5TB48eQg</td>\n",
       "      <td>5</td>\n",
       "      <td>Stephania Q.</td>\n",
       "      <td>stephania</td>\n",
       "      <td>Female</td>\n",
       "    </tr>\n",
       "    <tr>\n",
       "      <th>1</th>\n",
       "      <td>1</td>\n",
       "      <td>--F3QN39ndTiL85W0-Dtxw</td>\n",
       "      <td>wpRdEleYM9pO3FwUIMo_Lg</td>\n",
       "      <td>4</td>\n",
       "      <td>Courtney C.</td>\n",
       "      <td>courtney</td>\n",
       "      <td>Male</td>\n",
       "    </tr>\n",
       "    <tr>\n",
       "      <th>2</th>\n",
       "      <td>2</td>\n",
       "      <td>--F3QN39ndTiL85W0-Dtxw</td>\n",
       "      <td>S2J7xH6w7A8QGQpi5-cCXg</td>\n",
       "      <td>4</td>\n",
       "      <td>Christopher M.</td>\n",
       "      <td>christopher</td>\n",
       "      <td>Male</td>\n",
       "    </tr>\n",
       "    <tr>\n",
       "      <th>3</th>\n",
       "      <td>3</td>\n",
       "      <td>-5gWvrcKOPmhlcZju3tpbw</td>\n",
       "      <td>BO3q4-Qhx5XqJ9zZyqVJaw</td>\n",
       "      <td>5</td>\n",
       "      <td>Sherry S.</td>\n",
       "      <td>sherry</td>\n",
       "      <td>Female</td>\n",
       "    </tr>\n",
       "    <tr>\n",
       "      <th>4</th>\n",
       "      <td>4</td>\n",
       "      <td>-5gWvrcKOPmhlcZju3tpbw</td>\n",
       "      <td>XCqK4aeXmMQIZ9OqV6damQ</td>\n",
       "      <td>2</td>\n",
       "      <td>Nancy H.</td>\n",
       "      <td>nancy</td>\n",
       "      <td>Female</td>\n",
       "    </tr>\n",
       "  </tbody>\n",
       "</table>\n",
       "</div>"
      ],
      "text/plain": [
       "   index             business_id               review_id  reviewer_rating  \\\n",
       "0      0  --F3QN39ndTiL85W0-Dtxw  7uZ23Wcq9KF0ae5TB48eQg                5   \n",
       "1      1  --F3QN39ndTiL85W0-Dtxw  wpRdEleYM9pO3FwUIMo_Lg                4   \n",
       "2      2  --F3QN39ndTiL85W0-Dtxw  S2J7xH6w7A8QGQpi5-cCXg                4   \n",
       "3      3  -5gWvrcKOPmhlcZju3tpbw  BO3q4-Qhx5XqJ9zZyqVJaw                5   \n",
       "4      4  -5gWvrcKOPmhlcZju3tpbw  XCqK4aeXmMQIZ9OqV6damQ                2   \n",
       "\n",
       "    reviewer_full   short name  gender  \n",
       "0    Stephania Q.    stephania  Female  \n",
       "1     Courtney C.     courtney    Male  \n",
       "2  Christopher M.  christopher    Male  \n",
       "3       Sherry S.       sherry  Female  \n",
       "4        Nancy H.        nancy  Female  "
      ]
     },
     "execution_count": 71,
     "metadata": {},
     "output_type": "execute_result"
    }
   ],
   "source": [
    "df_rev_total.head()"
   ]
  },
  {
   "cell_type": "code",
   "execution_count": 72,
   "metadata": {},
   "outputs": [
    {
     "name": "stdout",
     "output_type": "stream",
     "text": [
      "Total reviews with gender: 3973\n"
     ]
    },
    {
     "data": {
      "text/html": [
       "<div>\n",
       "<style scoped>\n",
       "    .dataframe tbody tr th:only-of-type {\n",
       "        vertical-align: middle;\n",
       "    }\n",
       "\n",
       "    .dataframe tbody tr th {\n",
       "        vertical-align: top;\n",
       "    }\n",
       "\n",
       "    .dataframe thead th {\n",
       "        text-align: right;\n",
       "    }\n",
       "</style>\n",
       "<table border=\"1\" class=\"dataframe\">\n",
       "  <thead>\n",
       "    <tr style=\"text-align: right;\">\n",
       "      <th></th>\n",
       "      <th>index</th>\n",
       "      <th>business_id</th>\n",
       "      <th>review_id</th>\n",
       "      <th>reviewer_rating</th>\n",
       "      <th>reviewer_full</th>\n",
       "      <th>short name</th>\n",
       "      <th>gender</th>\n",
       "    </tr>\n",
       "  </thead>\n",
       "  <tbody>\n",
       "    <tr>\n",
       "      <th>0</th>\n",
       "      <td>0</td>\n",
       "      <td>--F3QN39ndTiL85W0-Dtxw</td>\n",
       "      <td>7uZ23Wcq9KF0ae5TB48eQg</td>\n",
       "      <td>5</td>\n",
       "      <td>Stephania Q.</td>\n",
       "      <td>stephania</td>\n",
       "      <td>Female</td>\n",
       "    </tr>\n",
       "    <tr>\n",
       "      <th>1</th>\n",
       "      <td>1</td>\n",
       "      <td>--F3QN39ndTiL85W0-Dtxw</td>\n",
       "      <td>wpRdEleYM9pO3FwUIMo_Lg</td>\n",
       "      <td>4</td>\n",
       "      <td>Courtney C.</td>\n",
       "      <td>courtney</td>\n",
       "      <td>Male</td>\n",
       "    </tr>\n",
       "    <tr>\n",
       "      <th>2</th>\n",
       "      <td>2</td>\n",
       "      <td>--F3QN39ndTiL85W0-Dtxw</td>\n",
       "      <td>S2J7xH6w7A8QGQpi5-cCXg</td>\n",
       "      <td>4</td>\n",
       "      <td>Christopher M.</td>\n",
       "      <td>christopher</td>\n",
       "      <td>Male</td>\n",
       "    </tr>\n",
       "    <tr>\n",
       "      <th>3</th>\n",
       "      <td>3</td>\n",
       "      <td>-5gWvrcKOPmhlcZju3tpbw</td>\n",
       "      <td>BO3q4-Qhx5XqJ9zZyqVJaw</td>\n",
       "      <td>5</td>\n",
       "      <td>Sherry S.</td>\n",
       "      <td>sherry</td>\n",
       "      <td>Female</td>\n",
       "    </tr>\n",
       "    <tr>\n",
       "      <th>4</th>\n",
       "      <td>4</td>\n",
       "      <td>-5gWvrcKOPmhlcZju3tpbw</td>\n",
       "      <td>XCqK4aeXmMQIZ9OqV6damQ</td>\n",
       "      <td>2</td>\n",
       "      <td>Nancy H.</td>\n",
       "      <td>nancy</td>\n",
       "      <td>Female</td>\n",
       "    </tr>\n",
       "  </tbody>\n",
       "</table>\n",
       "</div>"
      ],
      "text/plain": [
       "   index             business_id               review_id  reviewer_rating  \\\n",
       "0      0  --F3QN39ndTiL85W0-Dtxw  7uZ23Wcq9KF0ae5TB48eQg                5   \n",
       "1      1  --F3QN39ndTiL85W0-Dtxw  wpRdEleYM9pO3FwUIMo_Lg                4   \n",
       "2      2  --F3QN39ndTiL85W0-Dtxw  S2J7xH6w7A8QGQpi5-cCXg                4   \n",
       "3      3  -5gWvrcKOPmhlcZju3tpbw  BO3q4-Qhx5XqJ9zZyqVJaw                5   \n",
       "4      4  -5gWvrcKOPmhlcZju3tpbw  XCqK4aeXmMQIZ9OqV6damQ                2   \n",
       "\n",
       "    reviewer_full   short name  gender  \n",
       "0    Stephania Q.    stephania  Female  \n",
       "1     Courtney C.     courtney    Male  \n",
       "2  Christopher M.  christopher    Male  \n",
       "3       Sherry S.       sherry  Female  \n",
       "4        Nancy H.        nancy  Female  "
      ]
     },
     "execution_count": 72,
     "metadata": {},
     "output_type": "execute_result"
    }
   ],
   "source": [
    "# Rename duplicate column names 'rating' and 'name'\n",
    "df_rev_total = df_rev_total.rename(columns={'rating':'reviewer_rating', 'name':'reviewer_full'})\n",
    "rev_gender_count = df_rev_total.review_id.count()\n",
    "print(f\"Total reviews with gender: {rev_gender_count}\")\n",
    "\n",
    "# Specify the file to write to\n",
    "output_path = os.path.join(\"output\", \"review_data_all.csv\")\n",
    "df_rev_total.to_csv(output_path)\n",
    "\n",
    "df_rev_total.head()"
   ]
  },
  {
   "cell_type": "code",
   "execution_count": 73,
   "metadata": {},
   "outputs": [],
   "source": [
    "# Reuse file if needed\n",
    "# df_rev_total = pd.read_csv('output/review_data_all.csv')\n",
    "# df_bus_unique = pd.read_csv('output/business_unique_data_all.csv')\n",
    "# Merge reviews with gender and businesses\n",
    "df_total = pd.merge(df_rev_total, df_bus_unique,on=('business_id'))"
   ]
  },
  {
   "cell_type": "code",
   "execution_count": 74,
   "metadata": {},
   "outputs": [],
   "source": [
    "# Save a version of the final data used in the presentation in case you need to rerun it\n",
    "df_total = pd.read_csv('output/total_everything_all.csv')\n",
    "df_total = df_total.drop_duplicates(['review_id'])\n",
    "# df_total.head()"
   ]
  },
  {
   "cell_type": "code",
   "execution_count": 75,
   "metadata": {},
   "outputs": [
    {
     "data": {
      "text/plain": [
       "3973"
      ]
     },
     "execution_count": 75,
     "metadata": {},
     "output_type": "execute_result"
    }
   ],
   "source": [
    "df_total['review_id'].count()"
   ]
  },
  {
   "cell_type": "code",
   "execution_count": 77,
   "metadata": {},
   "outputs": [
    {
     "name": "stdout",
     "output_type": "stream",
     "text": [
      "Total reviews: 3973\n"
     ]
    }
   ],
   "source": [
    "# Specify the file to write to\n",
    "# output_path = os.path.join(\"output\", \"total_everything_all.csv\")\n",
    "# df_total.to_csv(output_path)\n",
    "\n",
    "total_count = df_total.review_id.count()\n",
    "print(f\"Total reviews: {total_count}\")"
   ]
  },
  {
   "cell_type": "code",
   "execution_count": 78,
   "metadata": {},
   "outputs": [
    {
     "data": {
      "text/plain": [
       "$$      2540\n",
       "$       1002\n",
       "$$$      314\n",
       "$$$$     117\n",
       "Name: price, dtype: int64"
      ]
     },
     "execution_count": 78,
     "metadata": {},
     "output_type": "execute_result"
    }
   ],
   "source": [
    "# Add a column to store price as a number for statical calculations\n",
    "df_total['price_num'] = df_total['price']\n",
    "df_total['price_num'] = df_total['price_num'].replace(\n",
    "    {'$':1,'$$':2,'$$$':3,'$$$$':4})\n",
    "\n",
    "# Overwrite total_everything file\n",
    "output_path = os.path.join(\"output\", \"total_everything_all.csv\")\n",
    "df_total.to_csv(output_path)\n",
    "\n",
    "df_total['price'].value_counts()"
   ]
  },
  {
   "cell_type": "code",
   "execution_count": 79,
   "metadata": {},
   "outputs": [
    {
     "name": "stdout",
     "output_type": "stream",
     "text": [
      "Female    2389\n",
      "Male      1584\n",
      "Name: gender, dtype: int64\n"
     ]
    },
    {
     "data": {
      "image/png": "[encoded data removed]",
      "text/plain": [
       "<Figure size 432x288 with 1 Axes>"
      ]
     },
     "metadata": {},
     "output_type": "display_data"
    }
   ],
   "source": [
    "total_reviews = df_total['gender'].value_counts()\n",
    "\n",
    "plt.clf()\n",
    "colors = ['lightskyblue', 'lightcoral']\n",
    "labels = ['Women','Men']\n",
    "patches, texts = plt.pie(total_reviews, colors=colors, startangle=90)\n",
    "plt.legend(patches, labels, loc=\"best\")\n",
    "plt.pie(total_reviews, colors=colors, autopct=\"%1.1f%%\")\n",
    "plt.axis('equal')\n",
    "# plt.tight_layout()\n",
    "plt.title(\"Yelp reviews Women vs Men\")\n",
    "plt.savefig(\"Images/Women_vw_Men_all.png\")\n",
    "\n",
    "print(total_reviews)\n"
   ]
  },
  {
   "cell_type": "code",
   "execution_count": 80,
   "metadata": {
    "scrolled": true
   },
   "outputs": [
    {
     "data": {
      "text/plain": [
       "price\n",
       "$       453\n",
       "$$      951\n",
       "$$$     128\n",
       "$$$$     52\n",
       "Name: price, dtype: int64"
      ]
     },
     "execution_count": 80,
     "metadata": {},
     "output_type": "execute_result"
    },
    {
     "data": {
      "image/png": "[encoded data removed]",
      "text/plain": [
       "<Figure size 432x288 with 1 Axes>"
      ]
     },
     "metadata": {},
     "output_type": "display_data"
    }
   ],
   "source": [
    "# use line below to bypass API calls\n",
    "# df_total = pd.read_csv('output/total_everything_all.csv')\n",
    "\n",
    "men_sizes = []\n",
    "df_only_men = df_total.loc[(df_total[\"gender\"] == 'Male')]\n",
    "\n",
    "df_only_men_price_count = df_only_men.loc[(df_only_men[\"price\"] != '*')]\n",
    "# df_only_men_price_count = df_only_men.loc[(df_only_men[\"reviewer_rating\"] != '*')]\n",
    "\n",
    "df_only_men_price_count_gb = df_only_men_price_count.groupby(['price'])\n",
    "# df_only_men_price_count_gb = df_only_men_price_count.groupby(['reviewer_rating'])\n",
    "\n",
    "men_sizes = df_only_men_price_count_gb['price'].count()\n",
    "# men_sizes = df_only_men_price_count_gb['reviewer_rating'].count()\n",
    "\n",
    "# avg_rating_men = df_only_men_price_count['reviewer_rating'].mean()\n",
    "# print(avg_rating_men)\n",
    "\n",
    "plt.clf()\n",
    "colors = ['yellowgreen', 'gold', 'lightskyblue', 'lightcoral']\n",
    "labels = ['\\$','\\$\\$','\\$\\$\\$','\\$\\$\\$\\$']\n",
    "\n",
    "patches, texts = plt.pie(men_sizes, colors=colors, startangle=90)\n",
    "plt.legend(patches, labels, loc=\"best\")\n",
    "plt.pie(men_sizes, colors=colors, autopct=\"%1.1f%%\")\n",
    "plt.axis('equal')\n",
    "# plt.tight_layout()\n",
    "plt.title(\"Random Yelp reviews by Men by Price range\")\n",
    "plt.savefig(\"Images/Men_Price_Reviews_all.png\")\n",
    "# df_only_men_price_count['reviewer_rating'].value_counts()\n",
    "men_sizes\n",
    "# df_total.head(50)"
   ]
  },
  {
   "cell_type": "code",
   "execution_count": 81,
   "metadata": {},
   "outputs": [
    {
     "name": "stdout",
     "output_type": "stream",
     "text": [
      "4.230640435328589\n"
     ]
    },
    {
     "data": {
      "image/png": "[encoded data removed]",
      "text/plain": [
       "<Figure size 432x288 with 1 Axes>"
      ]
     },
     "metadata": {},
     "output_type": "display_data"
    },
    {
     "data": {
      "text/plain": [
       "price\n",
       "$        549\n",
       "$$      1589\n",
       "$$$      186\n",
       "$$$$      65\n",
       "Name: price, dtype: int64"
      ]
     },
     "execution_count": 81,
     "metadata": {},
     "output_type": "execute_result"
    }
   ],
   "source": [
    "women_sizes = []\n",
    "df_only_women = df_total.loc[(df_total[\"gender\"] == 'Female')]\n",
    "\n",
    "df_only_women_price_count = df_only_women.loc[(df_only_women[\"price\"] != '*')]\n",
    "# df_only_women_price_count = df_only_women.loc[(df_only_women[\"reviewer_rating\"] != '*')]\n",
    "\n",
    "df_only_women_price_count_gb = df_only_women_price_count.groupby(['price'])\n",
    "# df_only_women_price_count_gb = df_only_women_price_count.groupby(['reviewer_rating'])\n",
    "\n",
    "women_sizes = df_only_women_price_count_gb['price'].count()\n",
    "# women_sizes = df_only_women_price_count_gb['reviewer_rating'].count()\n",
    "\n",
    "avg_rating_women = df_only_women_price_count['rating'].mean()\n",
    "print(avg_rating_women)\n",
    "\n",
    "plt.clf()\n",
    "colors = ['yellowgreen', 'gold', 'lightskyblue', 'lightcoral']\n",
    "labels = ['\\$','\\$\\$','\\$\\$\\$','\\$\\$\\$\\$']\n",
    "patches, texts = plt.pie(men_sizes, colors=colors, startangle=90)\n",
    "plt.legend(patches, labels, loc=\"best\")\n",
    "plt.pie(women_sizes, colors=colors, autopct=\"%1.1f%%\")\n",
    "plt.axis('equal')\n",
    "# plt.tight_layout()\n",
    "plt.title(\"Random Yelp reviews by Women by Price range\")\n",
    "plt.savefig(\"Images/Women_Price_Reviews_all.png\")\n",
    "plt.show()\n",
    "women_sizes"
   ]
  },
  {
   "cell_type": "code",
   "execution_count": 82,
   "metadata": {},
   "outputs": [
    {
     "data": {
      "image/png": "[encoded data removed]",
      "text/plain": [
       "<Figure size 432x288 with 1 Axes>"
      ]
     },
     "metadata": {
      "needs_background": "light"
     },
     "output_type": "display_data"
    }
   ],
   "source": [
    "df_total_male = df_total.loc[df_total['gender']=='Male']\n",
    "df_total_female = df_total.loc[df_total['gender']=='Female']\n",
    "\n",
    "max_men = df_total_male['reviewer_rating'].count()\n",
    "df_total_female = df_total_female.iloc[0:max_men,:]\n",
    "\n",
    "df_total_m_f = df_total_male\n",
    "df_total_m_f = df_total_m_f.append(df_total_female)\n",
    "\n",
    "df_summary_reviews_gb = df_total_m_f.groupby(['reviewer_rating','gender'])\n",
    "df_summary_reviews = pd.DataFrame(df_summary_reviews_gb['review_id'].count())\n",
    "df_summary_pivot = df_summary_reviews.pivot_table('review_id','reviewer_rating','gender')\n",
    "df_summary_pivot\n",
    "n_groups = 5\n",
    "\n",
    "female = df_summary_pivot['Female'].astype(int)\n",
    "male = df_summary_pivot['Male'].astype(int)\n",
    "\n",
    "fig, ax = plt.subplots()\n",
    "\n",
    "index = np.arange(n_groups)\n",
    "bar_width = 0.35\n",
    "\n",
    "opacity = 0.75\n",
    "\n",
    "rects1 = plt.bar(index, male, bar_width,\n",
    "                 alpha=opacity,\n",
    "                 color='b',\n",
    "                 label='Male')\n",
    "\n",
    "rects2 = plt.bar(index + bar_width, female, bar_width,\n",
    "                 alpha=opacity,\n",
    "                 color='r',\n",
    "                 label='Female')\n",
    "\n",
    "plt.xlabel(\"Rating in stars\")\n",
    "plt.ylabel(\"Number of ratings\")\n",
    "plt.savefig(\"Images/Men_vs_Women_Rating.png\")\n",
    "plt.title(\"Men vs Women Ratings\")\n",
    "plt.xticks(index + bar_width / 2, ('*', '**', '***', '****', '*****'))\n",
    "plt.legend()\n",
    "\n",
    "plt.tight_layout()\n",
    "plt.show()"
   ]
  },
  {
   "cell_type": "code",
   "execution_count": null,
   "metadata": {},
   "outputs": [],
   "source": [
    "# # df_total.head()\n",
    "# df_zipcodes = df_total.groupby(['zip_code','gender'])\n",
    "# df_zipcodes_count = pd.DataFrame(df_zipcodes['review_count'].sum())\n",
    "\n",
    "# df_zipcodes_pivot = df_zipcodes_count.pivot_table('review_count','zip_code','gender')\n",
    "# df_zipcodes_pivot = df_zipcodes_pivot.fillna(0)\n",
    "# df_zipcodes_pivot['total'] = (df_zipcodes_pivot['Female']+df_zipcodes_pivot['Male'])\n",
    "# df_zipcodes_pivot['pct_female'] = (df_zipcodes_pivot['Female'])/(df_zipcodes_pivot['Female']+df_zipcodes_pivot['Male'])\n",
    "# df_zipcodes_pivot['pct_male'] = (df_zipcodes_pivot['Male'])/(df_zipcodes_pivot['Female']+df_zipcodes_pivot['Male'])\n",
    "\n",
    "# # Specify the file to write to\n",
    "# output_path = os.path.join(\"output\", \"reviewcount_gender_zipcode_all.csv\")\n",
    "# df_zipcodes_pivot.to_csv(output_path)\n",
    "\n",
    "# df_zipcodes_pivot.total.sum()"
   ]
  },
  {
   "cell_type": "code",
   "execution_count": 83,
   "metadata": {},
   "outputs": [
    {
     "data": {
      "text/plain": [
       "Ttest_indResult(statistic=array([1.93112454]), pvalue=array([0.05355596]))"
      ]
     },
     "execution_count": 83,
     "metadata": {},
     "output_type": "execute_result"
    }
   ],
   "source": [
    "df_total.head()\n",
    "\n",
    "female_price = df_total.loc[(df_total[\"gender\"]=='Female') , [\"price_num\"]]\n",
    "male_price = df_total.loc[(df_total[\"gender\"]=='Male'), [\"price_num\"]]\n",
    "# female_price = df_total.loc[(df_total[\"gender\"]=='Female') & (df_total[\"reviewer_rating\"] == 5) , [\"price_num\"]]\n",
    "# male_price = df_total.loc[(df_total[\"gender\"]=='Male') & (df_total[\"reviewer_rating\"] == 5), [\"price_num\"]]\n",
    "\n",
    "female_price = female_price.fillna(0)\n",
    "male_price = male_price.fillna(0)\n",
    "\n",
    "stats.ttest_ind(female_price, male_price, equal_var=False)\n",
    "# female_price.count()"
   ]
  },
  {
   "cell_type": "code",
   "execution_count": 84,
   "metadata": {},
   "outputs": [
    {
     "data": {
      "text/plain": [
       "Ttest_indResult(statistic=array([1.99103159]), pvalue=array([0.04656267]))"
      ]
     },
     "execution_count": 84,
     "metadata": {},
     "output_type": "execute_result"
    }
   ],
   "source": [
    "female_rating = df_total.loc[df_total[\"gender\"]=='Female', [\"reviewer_rating\"]]\n",
    "male_rating = df_total.loc[df_total[\"gender\"]=='Male', [\"reviewer_rating\"]]\n",
    "\n",
    "female_rating.mean()\n",
    "male_rating.mean()\n",
    "stats.ttest_ind(female_rating, male_rating, equal_var=False)"
   ]
  }
 ],
 "metadata": {
  "kernelspec": {
   "display_name": "Python [conda env:PythonData]",
   "language": "python",
   "name": "conda-env-PythonData-py"
  },
  "language_info": {
   "codemirror_mode": {
    "name": "ipython",
    "version": 3
   },
   "file_extension": ".py",
   "mimetype": "text/x-python",
   "name": "python",
   "nbconvert_exporter": "python",
   "pygments_lexer": "ipython3",
   "version": "3.6.9"
  }
 },
 "nbformat": 4,
 "nbformat_minor": 2
}
